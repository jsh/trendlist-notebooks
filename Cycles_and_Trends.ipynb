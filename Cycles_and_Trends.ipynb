{
 "cells": [
  {
   "cell_type": "markdown",
   "id": "db5ed222",
   "metadata": {},
   "source": [
    "   # Cycles and Trends"
   ]
  },
  {
   "cell_type": "markdown",
   "id": "965f9b9e",
   "metadata": {},
   "source": [
    "Let's explore the relationship between cycles and trends, with some short sequences.\n",
    "\n",
    "We'll need routines to convert one to the other and vice-versa."
   ]
  },
  {
   "cell_type": "markdown",
   "id": "2fedb446",
   "metadata": {},
   "source": [
    "## Connecting the Dots"
   ]
  },
  {
   "cell_type": "markdown",
   "id": "b0e430cd",
   "metadata": {},
   "source": [
    "To explore the connections between permutation cycles and trendlists,\n",
    "let's start by defining a function to help display our results."
   ]
  },
  {
   "cell_type": "code",
   "execution_count": 1,
   "id": "00c908cd",
   "metadata": {},
   "outputs": [
    {
     "name": "stdout",
     "output_type": "stream",
     "text": [
      "Forwards:  1 -> 2 -> 3\n",
      "Backwards:  3 <- 2 <- 1\n"
     ]
    }
   ],
   "source": [
    "def chain(elems, reverse=False):\n",
    "    \"\"\"Format a list as a causal chain,\n",
    "    Default is left-to-right.\n",
    "    reverse=True displays right-to-left (without reversing the causation.)\n",
    "    \"\"\"\n",
    "    arrow = \" -> \"\n",
    "    if reverse:\n",
    "        arrow = \" <- \"\n",
    "        elems = reversed(elems)\n",
    "    return arrow.join([str(elem) for elem in elems]) \n",
    "\n",
    "print(\"Forwards: \", chain([1, 2, 3]))  # forwards\n",
    "print(\"Backwards: \", chain([1, 2, 3], reverse=True)) # backwards"
   ]
  },
  {
   "cell_type": "markdown",
   "id": "849d4c4b",
   "metadata": {},
   "source": [
    "We'll also collect the imports we'll need in one place."
   ]
  },
  {
   "cell_type": "code",
   "execution_count": 2,
   "id": "1dae546e",
   "metadata": {},
   "outputs": [],
   "source": [
    "import itertools, math\n",
    "from sympy.combinatorics import Permutation\n",
    "from trendlist.simple import is_trend, pows, trend_list"
   ]
  },
  {
   "cell_type": "markdown",
   "id": "0d7981d7",
   "metadata": {},
   "source": [
    "## Cycles to Permutations and Back"
   ]
  },
  {
   "cell_type": "markdown",
   "id": "2c6e47df",
   "metadata": {},
   "source": [
    "We want to break permutations of an arbitrary finite sequence into its cycles.\n",
    "We'll display the cycles as elements of $S_n$.\n",
    "\n",
    "For example, if the original sequence is [1, 11, 121], then the permutation [1, 121, 11],\n",
    "corresponding to indices [0, 2, 1], decomposes to the cycles [[0], [1, 2]].\n",
    "\n",
    "We can display this as `[1, 121, 11] -> [0, 2, 1] -> [[0], [1, 2]]`"
   ]
  },
  {
   "cell_type": "code",
   "execution_count": 3,
   "id": "69f3cf26",
   "metadata": {},
   "outputs": [],
   "source": [
    "def seq_to_idxs(seq, orig):\n",
    "    \"\"\"Convert a sequence to indices.\n",
    "    \n",
    "    if seq is drawn from the original sequence, orig,\n",
    "    return list of its indices from the original sequence\n",
    "    \"\"\"\n",
    "    return [orig.index(elem) for elem in seq]\n",
    "\n",
    "def idxs_to_cycles(idxs):\n",
    "    \"\"\"Return full cyclic decomposition of indices.\"\"\"\n",
    "    return Permutation(idxs).full_cyclic_form\n",
    "\n",
    "def perm_idxs_cycles(perm, orig):\n",
    "    \"Return the triple (perm, idxs, cycles)\"\n",
    "    idxs = seq_to_idxs(perm, orig)\n",
    "    cycles = idxs_to_cycles(idxs)\n",
    "    return (perm, idxs, cycles)\n",
    "    \n",
    "def perm_to_cycles(perm, orig):\n",
    "    \"The entire transformation.\"\n",
    "    _, _, cycles = perm_idxs_cycles(perm, orig)\n",
    "    return cycles"
   ]
  },
  {
   "cell_type": "markdown",
   "id": "5029b86e",
   "metadata": {},
   "source": [
    "And now the reverse."
   ]
  },
  {
   "cell_type": "code",
   "execution_count": 4,
   "id": "366de0ee",
   "metadata": {},
   "outputs": [],
   "source": [
    "def cycles_to_idxs(cycles):\n",
    "    \"\"\"Return the indices of a permutation.\n",
    "    \n",
    "    e.g., [[1], [0, 2]] -> [2, 1, 0]\n",
    "    \"\"\"\n",
    "    return Permutation(cycles).array_form\n",
    "    \n",
    "def idxs_to_seq(idxs, orig):\n",
    "    \"\"\"Return the original sequence based on indices.\"\"\"\n",
    "    return [orig[idx] for idx in idxs]\n",
    "    \n",
    "def cycles_idxs_perm(cycles, orig):\n",
    "    \"\"\"Generate indices from cycles, then the permutation from the indices.\n",
    "    Return the triple (cycles, indices, permutation)\n",
    "    \"\"\"\n",
    "    idxs = cycles_to_idxs(cycles)\n",
    "    perm = idxs_to_seq(idxs, orig)\n",
    "    return (cycles, idxs, perm)\n",
    "\n",
    "def cycles_to_perm(cycles, orig):\n",
    "    \"\"\"Turn cycles into the permutation, all in one go.\"\"\"\n",
    "    _, _, perm = cycles_idxs_perm(cycles, orig)\n",
    "    return perm"
   ]
  },
  {
   "cell_type": "markdown",
   "id": "8681fba3",
   "metadata": {},
   "source": [
    "A quick demo:"
   ]
  },
  {
   "cell_type": "code",
   "execution_count": 5,
   "id": "851afb83",
   "metadata": {
    "scrolled": true
   },
   "outputs": [
    {
     "name": "stdout",
     "output_type": "stream",
     "text": [
      "Go both directions.\n",
      "[[0, 3], [1, 2]] -> [3, 2, 1, 0] -> [1331, 121, 11, 1]\n",
      "[[0, 3], [1, 2]] <- [3, 2, 1, 0] <- [1331, 121, 11, 1]\n"
     ]
    }
   ],
   "source": [
    "orig = [1, 11, 121, 1331]\n",
    "cycles = [[0, 3], [1, 2]]\n",
    "print(\"Go both directions.\")\n",
    "print(chain(cycles_idxs_perm(cycles, orig)))\n",
    "perm = cycles_to_perm(cycles, orig)\n",
    "print(chain(perm_idxs_cycles(perm, orig), reverse=True))"
   ]
  },
  {
   "cell_type": "markdown",
   "id": "909ec05f",
   "metadata": {},
   "source": [
    "## Trendlists to Cycles and Back"
   ]
  },
  {
   "cell_type": "markdown",
   "id": "81f47b51",
   "metadata": {},
   "source": [
    "Now let's do a similar exercise for trendlists.\n",
    "\n",
    "First we decompose a permutation of an arbitrary sequence into a trendlist, \n",
    "then turn the elements of the trendlist into their indices in the original sequence.\n",
    "\n",
    "Because of the 1-1 correspondence between trendlists and permutation cycles, \n",
    "this corresponds to a cycle decomposition of the original sequence.\n",
    "\n",
    "This maps the permutation to an element of $S_n$ through its trendlist."
   ]
  },
  {
   "cell_type": "code",
   "execution_count": 6,
   "id": "25c79793",
   "metadata": {},
   "outputs": [],
   "source": [
    "def seq_to_trendlist(seq):\n",
    "    \"\"\"\n",
    "    Map a sequence to its trendlist.\n",
    "    \"\"\"\n",
    "    return trend_list(seq)\n",
    "    \n",
    "def trendlist_to_cycles(trendlist, orig):\n",
    "    \"\"\"Replace trendlist elements by indices from original sequence.\"\"\"\n",
    "    return [seq_to_idxs(trend, orig) for trend in trendlist]\n",
    "\n",
    "def perm_trendlist_cycles(perm, orig):\n",
    "    \"\"\"Map permutation to a trendlist to cycles.\"\"\"\n",
    "    trendlist = seq_to_trendlist(perm)\n",
    "    cycles = trendlist_to_cycles(trendlist, orig)\n",
    "    return (perm, trendlist, cycles)\n",
    "\n",
    "def perm_to_tcycles(perm, orig):\n",
    "    \"\"\"Permutation to \"trendlist cycles\" in one blow.\"\"\"\n",
    "    _, _, cycles = perm_trendlist_cycles(perm, orig)\n",
    "    return cycles"
   ]
  },
  {
   "cell_type": "code",
   "execution_count": 7,
   "id": "024b33f5",
   "metadata": {},
   "outputs": [
    {
     "name": "stdout",
     "output_type": "stream",
     "text": [
      "[1, 1331, 11, 121] -> [[1, 1331], [11, 121]] -> [[0, 3], [1, 2]]\n"
     ]
    }
   ],
   "source": [
    "orig = pows(4, base=11)\n",
    "perm = [1, 1331, 11, 121]\n",
    "print(chain(perm_trendlist_cycles(perm, orig)))"
   ]
  },
  {
   "cell_type": "markdown",
   "id": "f1861c55",
   "metadata": {},
   "source": [
    "And now the other direction."
   ]
  },
  {
   "cell_type": "code",
   "execution_count": 8,
   "id": "613e275a",
   "metadata": {},
   "outputs": [
    {
     "name": "stdout",
     "output_type": "stream",
     "text": [
      "[[0, 3], [1, 2]] -> [[1, 1331], [11, 121]] -> [1, 1331, 11, 121]\n",
      "[[0, 3], [1, 2]] <- [[1, 1331], [11, 121]] <- [1, 1331, 11, 121]\n"
     ]
    }
   ],
   "source": [
    "def cycles_to_trendlist(cycles, orig):\n",
    "    \"\"\"Replace cycle indices by original values to turn cycles into a trendlist.\"\"\"\n",
    "    return[idxs_to_seq(cycle, orig) for cycle in cycles]\n",
    "\n",
    "def trendlist_to_perm(trendlist):\n",
    "    \"\"\"Turn a trendlist into a permutation.\"\"\"\n",
    "    perm = []\n",
    "    for trend in trendlist:\n",
    "        perm.extend(trend)\n",
    "    return perm\n",
    "\n",
    "def cycles_trendlist_perm(cycles, orig):\n",
    "    \"\"\"Turn cycles into trendlists into permutations.\n",
    "    \n",
    "    Return triple (cycles, trendlist, perm)\n",
    "    \"\"\"\n",
    "    trendlist = cycles_to_trendlist(cycles, orig)\n",
    "    perm = trendlist_to_perm(trendlist)\n",
    "    return (cycles, trendlist, perm)\n",
    "\n",
    "def tcycles_to_perm(cycles, orig):\n",
    "    _, _, perm = cycles_trendlist_perm(cycles, orig)\n",
    "    return perm\n",
    "\n",
    "orig = pows(4, base=11)\n",
    "cycles = [[0, 3], [1, 2]]\n",
    "print(chain(cycles_trendlist_perm(cycles, orig)))\n",
    "perm = tcycles_to_perm(cycles, orig)\n",
    "print(chain(perm_trendlist_cycles(perm, orig), reverse=True))"
   ]
  },
  {
   "cell_type": "markdown",
   "id": "e022799d",
   "metadata": {},
   "source": [
    "## Decompose All Permutations both Directions"
   ]
  },
  {
   "cell_type": "markdown",
   "id": "9cdb2d07",
   "metadata": {},
   "source": [
    "Now we're ready to generate all permutations and decompose them both directions."
   ]
  },
  {
   "cell_type": "code",
   "execution_count": 9,
   "id": "9ea70a87",
   "metadata": {},
   "outputs": [],
   "source": [
    "def all_permutations(seq):\n",
    "    \"\"\"Return all permutations of seq.\"\"\"\n",
    "    return [list(perm) for perm in itertools.permutations(seq)]"
   ]
  },
  {
   "cell_type": "code",
   "execution_count": 10,
   "id": "b8369381",
   "metadata": {},
   "outputs": [
    {
     "name": "stdout",
     "output_type": "stream",
     "text": [
      "[[0], [1], [2]] <- [0, 1, 2] <- [1, 2, 4]\n",
      "[1, 2, 4] -> [[1, 2, 4]] -> [[0, 1, 2]]\n",
      "[[0], [1, 2]] <- [0, 2, 1] <- [1, 4, 2]\n",
      "[1, 4, 2] -> [[1, 4], [2]] -> [[0, 2], [1]]\n",
      "[[0, 1], [2]] <- [1, 0, 2] <- [2, 1, 4]\n",
      "[2, 1, 4] -> [[2, 1, 4]] -> [[1, 0, 2]]\n",
      "[[0, 1, 2]] <- [1, 2, 0] <- [2, 4, 1]\n",
      "[2, 4, 1] -> [[2, 4], [1]] -> [[1, 2], [0]]\n",
      "[[0, 2, 1]] <- [2, 0, 1] <- [4, 1, 2]\n",
      "[4, 1, 2] -> [[4], [1, 2]] -> [[2], [0, 1]]\n",
      "[[0, 2], [1]] <- [2, 1, 0] <- [4, 2, 1]\n",
      "[4, 2, 1] -> [[4], [2], [1]] -> [[2], [1], [0]]\n"
     ]
    }
   ],
   "source": [
    "orig = pows(3)\n",
    "for perm in all_permutations(orig):\n",
    "    print(chain(perm_idxs_cycles(perm, orig), reverse=True))\n",
    "    print(chain(perm_trendlist_cycles(perm, orig)))"
   ]
  },
  {
   "cell_type": "markdown",
   "id": "c5346a6c",
   "metadata": {},
   "source": [
    "Or, displayed more nicely,"
   ]
  },
  {
   "cell_type": "code",
   "execution_count": 11,
   "id": "c84878cb",
   "metadata": {},
   "outputs": [
    {
     "name": "stdout",
     "output_type": "stream",
     "text": [
      "[[0], [1], [2], [3]] <- [1, 2, 4, 8] -> [[0, 1, 2, 3]]\n",
      "[[0], [1], [2, 3]] <- [1, 2, 8, 4] -> [[0, 1, 3, 2]]\n",
      "[[0], [1, 2], [3]] <- [1, 4, 2, 8] -> [[0, 2, 1, 3]]\n",
      "[[0], [1, 2, 3]] <- [1, 4, 8, 2] -> [[0, 2, 3], [1]]\n",
      "[[0], [1, 3, 2]] <- [1, 8, 2, 4] -> [[0, 3], [1, 2]]\n",
      "[[0], [1, 3], [2]] <- [1, 8, 4, 2] -> [[0, 3], [1], [2]]\n",
      "[[0, 1], [2], [3]] <- [2, 1, 4, 8] -> [[0, 2, 3, 1]]\n",
      "[[0, 1], [2, 3]] <- [2, 1, 8, 4] -> [[0, 3, 2, 1]]\n",
      "[[0, 1, 2], [3]] <- [2, 4, 1, 8] -> [[0, 3, 1, 2]]\n",
      "[[0, 1, 2, 3]] <- [2, 4, 8, 1] -> [[0], [1, 2, 3]]\n",
      "[[0, 1, 3, 2]] <- [2, 8, 1, 4] -> [[0, 2], [1, 3]]\n",
      "[[0, 1, 3], [2]] <- [2, 8, 4, 1] -> [[0], [1, 3], [2]]\n",
      "[[0, 2, 1], [3]] <- [4, 1, 2, 8] -> [[0, 1, 3], [2]]\n",
      "[[0, 2, 3, 1]] <- [4, 1, 8, 2] -> [[0, 3, 2], [1]]\n",
      "[[0, 2], [1], [3]] <- [4, 2, 1, 8] -> [[0, 3, 1], [2]]\n",
      "[[0, 2, 3], [1]] <- [4, 2, 8, 1] -> [[0], [1, 3, 2]]\n",
      "[[0, 2], [1, 3]] <- [4, 8, 1, 2] -> [[0, 1], [2, 3]]\n",
      "[[0, 2, 1, 3]] <- [4, 8, 2, 1] -> [[0], [1], [2, 3]]\n",
      "[[0, 3, 2, 1]] <- [8, 1, 2, 4] -> [[0, 1, 2], [3]]\n",
      "[[0, 3, 1], [2]] <- [8, 1, 4, 2] -> [[0, 2], [1], [3]]\n",
      "[[0, 3, 2], [1]] <- [8, 2, 1, 4] -> [[0, 2, 1], [3]]\n",
      "[[0, 3], [1], [2]] <- [8, 2, 4, 1] -> [[0], [1, 2], [3]]\n",
      "[[0, 3, 1, 2]] <- [8, 4, 1, 2] -> [[0, 1], [2], [3]]\n",
      "[[0, 3], [1, 2]] <- [8, 4, 2, 1] -> [[0], [1], [2], [3]]\n"
     ]
    }
   ],
   "source": [
    "orig = pows(4)\n",
    "for perm in all_permutations(orig):\n",
    "    cycles = perm_to_cycles(perm, orig)\n",
    "    tcycles = Permutation(perm_to_tcycles(perm, orig)).full_cyclic_form\n",
    "    print(f\"{cycles} <- {perm} -> {tcycles}\")"
   ]
  },
  {
   "cell_type": "markdown",
   "id": "c68d5c99",
   "metadata": {},
   "source": [
    "## Equivalence Classes"
   ]
  },
  {
   "cell_type": "markdown",
   "id": "f1f4b5ff",
   "metadata": {},
   "source": [
    "Because every sequence has exactly one circular permutation that is a single trend,\n",
    "we can divide the $N!$ permutations into $(N-1)!$ equivalence classes.\n",
    "\n",
    "What do they look like?\n",
    "\n",
    "First collect all the single trends."
   ]
  },
  {
   "cell_type": "code",
   "execution_count": 12,
   "id": "fc474abc",
   "metadata": {},
   "outputs": [
    {
     "data": {
      "text/plain": [
       "[[1, 2, 4, 8],\n",
       " [1, 2, 8, 4],\n",
       " [1, 4, 2, 8],\n",
       " [2, 1, 4, 8],\n",
       " [2, 1, 8, 4],\n",
       " [2, 4, 1, 8]]"
      ]
     },
     "execution_count": 12,
     "metadata": {},
     "output_type": "execute_result"
    }
   ],
   "source": [
    "def single_trends(orig):\n",
    "    \"\"\"Return all permutations that are single trends.\"\"\"\n",
    "    return [perm for perm in all_permutations(orig) if len(perm_to_tcycles(perm, orig)) == 1]\n",
    "\n",
    "single_trends([1, 2, 4, 8])"
   ]
  },
  {
   "cell_type": "markdown",
   "id": "081f7a2d",
   "metadata": {},
   "source": [
    "We'll need something to collect all rotations of a sequence."
   ]
  },
  {
   "cell_type": "code",
   "execution_count": 13,
   "id": "5df9f70e",
   "metadata": {},
   "outputs": [],
   "source": [
    "from collections import deque"
   ]
  },
  {
   "cell_type": "code",
   "execution_count": 14,
   "id": "84347370",
   "metadata": {},
   "outputs": [
    {
     "data": {
      "text/plain": [
       "[[1, 2, 4], [4, 1, 2], [2, 4, 1]]"
      ]
     },
     "execution_count": 14,
     "metadata": {},
     "output_type": "execute_result"
    }
   ],
   "source": [
    "def all_rotations(seq):\n",
    "    \"\"\"Return all rotations of a sequence.\"\"\"\n",
    "    de = deque(seq)\n",
    "    rots = []\n",
    "    for i in range(len(seq)):\n",
    "        rots.append(list(de.copy()))\n",
    "        de.rotate()\n",
    "    return rots\n",
    "\n",
    "all_rotations(pows(3))"
   ]
  },
  {
   "cell_type": "markdown",
   "id": "c47ae3f0",
   "metadata": {},
   "source": [
    "And, finally, something that decomposes every permutation of an equivalence class."
   ]
  },
  {
   "cell_type": "code",
   "execution_count": 20,
   "id": "d21ed5ef",
   "metadata": {},
   "outputs": [
    {
     "name": "stdout",
     "output_type": "stream",
     "text": [
      "== [1, 2, 4, 8] ==\n",
      "[[0], [1], [2], [3]] <- [1, 2, 4, 8] -> [[0, 1, 2, 3]]\n",
      "[[0, 3, 2, 1]] <- [8, 1, 2, 4] -> [[3], [0, 1, 2]]\n",
      "[[0, 2], [1, 3]] <- [4, 8, 1, 2] -> [[2, 3], [0, 1]]\n",
      "[[0, 1, 2, 3]] <- [2, 4, 8, 1] -> [[1, 2, 3], [0]]\n",
      "\n",
      "== [1, 2, 8, 4] ==\n",
      "[[0], [1], [2, 3]] <- [1, 2, 8, 4] -> [[0, 1, 3, 2]]\n",
      "[[0, 2, 1], [3]] <- [4, 1, 2, 8] -> [[2], [0, 1, 3]]\n",
      "[[0, 3, 1, 2]] <- [8, 4, 1, 2] -> [[3], [2], [0, 1]]\n",
      "[[0, 1, 3], [2]] <- [2, 8, 4, 1] -> [[1, 3], [2], [0]]\n",
      "\n",
      "== [1, 4, 2, 8] ==\n",
      "[[0], [1, 2], [3]] <- [1, 4, 2, 8] -> [[0, 2, 1, 3]]\n",
      "[[0, 3, 1], [2]] <- [8, 1, 4, 2] -> [[3], [0, 2], [1]]\n",
      "[[0, 1, 3, 2]] <- [2, 8, 1, 4] -> [[1, 3], [0, 2]]\n",
      "[[0, 2, 3], [1]] <- [4, 2, 8, 1] -> [[2, 1, 3], [0]]\n",
      "\n",
      "== [2, 1, 4, 8] ==\n",
      "[[0, 1], [2], [3]] <- [2, 1, 4, 8] -> [[1, 0, 2, 3]]\n",
      "[[0, 3, 2], [1]] <- [8, 2, 1, 4] -> [[3], [1, 0, 2]]\n",
      "[[0, 2, 1, 3]] <- [4, 8, 2, 1] -> [[2, 3], [1], [0]]\n",
      "[[0], [1, 2, 3]] <- [1, 4, 8, 2] -> [[0, 2, 3], [1]]\n",
      "\n",
      "== [2, 1, 8, 4] ==\n",
      "[[0, 1], [2, 3]] <- [2, 1, 8, 4] -> [[1, 0, 3, 2]]\n",
      "[[0, 2], [1], [3]] <- [4, 2, 1, 8] -> [[2], [1, 0, 3]]\n",
      "[[0, 3], [1, 2]] <- [8, 4, 2, 1] -> [[3], [2], [1], [0]]\n",
      "[[0], [1, 3], [2]] <- [1, 8, 4, 2] -> [[0, 3], [2], [1]]\n",
      "\n",
      "== [2, 4, 1, 8] ==\n",
      "[[0, 1, 2], [3]] <- [2, 4, 1, 8] -> [[1, 2, 0, 3]]\n",
      "[[0, 3], [1], [2]] <- [8, 2, 4, 1] -> [[3], [1, 2], [0]]\n",
      "[[0], [1, 3, 2]] <- [1, 8, 2, 4] -> [[0, 3], [1, 2]]\n",
      "[[0, 2, 3, 1]] <- [4, 1, 8, 2] -> [[2, 0, 3], [1]]\n",
      "\n"
     ]
    }
   ],
   "source": [
    "orig = pows(4)\n",
    "\n",
    "singles = single_trends(orig)\n",
    "for trend in singles:\n",
    "    print(f\"== {trend} ==\")\n",
    "    for rot in all_rotations(trend):\n",
    "        cycles = perm_to_cycles(rot, orig)\n",
    "        tcycles = perm_to_tcycles(rot, orig)\n",
    "        print(f\"{cycles} <- {rot} -> {tcycles}\")\n",
    "    print()"
   ]
  },
  {
   "cell_type": "markdown",
   "id": "2929bba7",
   "metadata": {},
   "source": [
    "## Observations"
   ]
  },
  {
   "cell_type": "markdown",
   "id": "46735aa3",
   "metadata": {},
   "source": [
    "The cycles, on each side, make up $S_n$, broken into $(n-1)$ equivalence classes.\n",
    "Because there's a 1-1 map, each has the same total cycle statistics: total number of cycles, distribution of cycle lengths, etc.\n",
    "\n",
    "The cycles from direct cycle decomposition into full cyclic form, on the left, include one cyclic group, $C_n$, formed from the permutation $[0 ... n-1]$ and its rotations, $[n-1, 0, ... n-2]$, $[n-2, n-1, 0 ... n-3]$, and so on. The other equivalence groups are all cosets of this set.\n",
    "\n",
    "The cycles from trend decomposition, on the right, also fall into corresponding equivalence classes. Each class has a lone, single trend, plus the cycles produced by trend decomposition of its $N$ rotations. No equivalence class is a group. The classes don't seem to be cosets of one another.\n",
    "\n",
    "Each equivalence class on the left has exactly $N$ fixed points. Each equivalence class on the right has exactly one trend of length $N$."
   ]
  }
 ],
 "metadata": {
  "kernelspec": {
   "display_name": "Python 3 (ipykernel)",
   "language": "python",
   "name": "python3"
  },
  "language_info": {
   "codemirror_mode": {
    "name": "ipython",
    "version": 3
   },
   "file_extension": ".py",
   "mimetype": "text/x-python",
   "name": "python",
   "nbconvert_exporter": "python",
   "pygments_lexer": "ipython3",
   "version": "3.11.0"
  }
 },
 "nbformat": 4,
 "nbformat_minor": 5
}
