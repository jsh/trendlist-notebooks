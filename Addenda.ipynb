{
 "cells": [
  {
   "cell_type": "markdown",
   "id": "7161894c",
   "metadata": {},
   "source": [
    "# Addenda"
   ]
  },
  {
   "cell_type": "markdown",
   "id": "0add7fb2",
   "metadata": {},
   "source": [
    "## Powers of Two Are Trendy"
   ]
  },
  {
   "cell_type": "markdown",
   "id": "2e08b571",
   "metadata": {},
   "source": [
    "A set is ***trendy*** when we know we can decompose every permutation uniquely into trends.\n",
    "This requires that no two subsets have the same mean.\n",
    "\n",
    "We want to show that `set(pows(N))` is trendy."
   ]
  },
  {
   "cell_type": "markdown",
   "id": "b1c05fa6",
   "metadata": {},
   "source": [
    "Let's have $U$ be a finite set of sequential powers of two.\n",
    "To keep this from being too abstract, we'll start with an illustrative example."
   ]
  },
  {
   "cell_type": "code",
   "execution_count": null,
   "id": "a1f16987",
   "metadata": {},
   "outputs": [],
   "source": [
    "from trendlist import pows\n",
    "from statistics import mean\n",
    "\n",
    "U = set(pows(10))\n",
    "print(U)"
   ]
  },
  {
   "cell_type": "markdown",
   "id": "9c579003",
   "metadata": {},
   "source": [
    "We want to show that any non-overlapping subsets, $S$ and $T$, always have different means.\n",
    "We won't require that the subsets span the set, they just can't overlap."
   ]
  },
  {
   "cell_type": "code",
   "execution_count": null,
   "id": "23abff56",
   "metadata": {},
   "outputs": [],
   "source": [
    "S = {4, 32}\n",
    "T = {8, 64, 128}\n",
    "print(S & T) # They don't intersect\n",
    "print(U - (S | T)) # They don't represent all values\n",
    "print(f\"means are {'same' if mean(S) == mean(T) else 'different'}\")"
   ]
  },
  {
   "cell_type": "markdown",
   "id": "402a9ca0",
   "metadata": {},
   "source": [
    "Next, let's \"normalize\" the two subsets by dividing each by the smallest power in the two.\n",
    "This just scales the means, but guarantees that (only) one subset contains $2^0 == 1$.\n",
    "\n",
    "Without loss of generality, we'll assume that the normalized subset containing $1$ is $S$."
   ]
  },
  {
   "cell_type": "code",
   "execution_count": null,
   "id": "ea2749f9",
   "metadata": {},
   "outputs": [],
   "source": [
    "smallest = min(S|T)\n",
    "print(f\"{smallest=}\")\n",
    "\n",
    "S = {elem/smallest for elem in S}\n",
    "T = {elem/smallest for elem in T}\n",
    "print(f\"{S=}, {T=}\")\n",
    "print(f\"means are {'same' if mean(S) == mean(T) else 'different'}\")"
   ]
  },
  {
   "cell_type": "markdown",
   "id": "e244dc25",
   "metadata": {},
   "source": [
    "If `sum(S)` = $\\sigma$ and `sum(T)` = $\\tau$, then $\\mu(S) = \\sigma/|S|$ and $\\mu(T) = \\tau/|T|$,\n",
    "where $|S|$ = `len(S)` and $|T|$ = `len(T)`.\n",
    "\n",
    "\n",
    "After normalization, $\\sigma$ must be odd, and $\\tau$ is still even."
   ]
  },
  {
   "cell_type": "code",
   "execution_count": null,
   "id": "57a4d1d2",
   "metadata": {},
   "outputs": [],
   "source": [
    "def even_odd(n):\n",
    "    return \"odd\" if n%2 else \"even\"\n",
    "\n",
    "for i in 2, 3, sum(S), sum(T):\n",
    "    print(f\"{i} is {even_odd(i)}\")"
   ]
  },
  {
   "cell_type": "markdown",
   "id": "6ccfceb9",
   "metadata": {},
   "source": [
    "Next, assume there's some case where $\\mu(S) = \\mu(T)$.  This implies $|T|\\sigma = |S|\\tau$\n",
    "\n",
    "$|T|$ must be even. If it were odd, the left-hand side of that equation would ge odd, and we know that the right-hand side is even because $\\tau$ is.\n",
    "\n",
    "Ah, but because every element of $T$ is even, and we've just shown that there are an even *number* of them, $\\tau$ must be divisible not just by 2 but by by 4!"
   ]
  },
  {
   "cell_type": "markdown",
   "id": "873f4199",
   "metadata": {},
   "source": [
    "$\\sigma$ remains odd, of course, so $|T|$ is divisible by 4. This, in turn and by the same logic as before,\n",
    "lets us conclude $\\tau$ is divisible by 8, then $|T|$ is divisible by 8, then $\\tau$ is divisible by 16, then ...\n",
    "\n",
    "Since we can show $|T|$ is divisible by every even number, it can't be finite, nor can $U$, which we started out saying was finite.\n",
    "\n",
    "The means of the two subsets are never equal.\n",
    "`U = set(pows(N))` is trendy for all finite $N$."
   ]
  },
  {
   "cell_type": "markdown",
   "id": "e236fcb5",
   "metadata": {},
   "source": [
    "I like to think of this as a *Proof by Infinite Ascent*. :-)"
   ]
  }
 ],
 "metadata": {
  "kernelspec": {
   "display_name": "Python 3 (ipykernel)",
   "language": "python",
   "name": "python3"
  },
  "language_info": {
   "codemirror_mode": {
    "name": "ipython",
    "version": 3
   },
   "file_extension": ".py",
   "mimetype": "text/x-python",
   "name": "python",
   "nbconvert_exporter": "python",
   "pygments_lexer": "ipython3",
   "version": "3.9.2"
  }
 },
 "nbformat": 4,
 "nbformat_minor": 5
}
