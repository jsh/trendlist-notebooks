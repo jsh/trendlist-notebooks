{
 "cells": [
  {
   "cell_type": "markdown",
   "id": "c8c75df2",
   "metadata": {},
   "source": [
    "# The `trendlist` Package"
   ]
  },
  {
   "cell_type": "markdown",
   "id": "c9bf7910",
   "metadata": {},
   "source": [
    "If you can put your finger between any two elements of a sequence, `s`, and everything to your left is less than everything to your right, the sequence is sorted. A mathematician would say \"It's **monotonically increasing**.\"\n",
    "\n",
    "A sequence of $N$ random reals has $N!$ permutations. Of these, only one is sorted, that is, the odds that such a sequence is sorted, by chance, are $1/N!$. \n",
    "\n",
    "This probability gets small quickly."
   ]
  },
  {
   "cell_type": "code",
   "execution_count": null,
   "id": "143b606f",
   "metadata": {},
   "outputs": [],
   "source": [
    "import math\n",
    "\n",
    "for n in range(1, 11):\n",
    "    print(f\"{n=}, P('sorted') = 1/{math.factorial(n)}\")"
   ]
  },
  {
   "cell_type": "markdown",
   "id": "342c7cb2",
   "metadata": {},
   "source": [
    "While there's only a vanishingly small probability that a long sequence of distinct numbers is monotonic,\n",
    "you can decompose such a sequence into a list of monotonic sequences.\n",
    "\n",
    "For example, the list $w = [64, 2, 4, 8, 16, 1024, 32, 512, 128, 256]$ breaks into four, sorted, sub-sequences:\n",
    "[64], [2, 4, 8, 16, 1024], [32, 512], [128, 256].\n",
    "\n",
    "Studying the statistical properties of such subsequences, called *ascents*, leads to the **Eulerian numbers**,\n",
    "$\\left<{n} \\atop {k}\\right>$ (using Don Knuth's notation), which are\n",
    "defined by the recursion \n",
    "$\\left<{n} \\atop {k}\\right> = \\left<{n-1} \\atop {k}\\right> * k + \\left<{n-1} \\atop {k-1} \\right>*(n-k++1)$\n",
    "\n",
    "We won't discuss Eulerian numbers here, but you can find them in [Sloane's On-line Encyclopedia of Integer Sequences](https://en.wikipedia.org/wiki/On-Line_Encyclopedia_of_Integer_Sequences), where they're entry [OEIS A008292](https://oeis.org/A008292)\n"
   ]
  },
  {
   "cell_type": "markdown",
   "id": "3a675a79",
   "metadata": {},
   "source": [
    "What if you lower your expectations by relaxing the criterion?\n",
    "Suppose, for example, you just look for sequences in which the *average* of the numbers to the left of your finger (the **prefix**)\n",
    "is always less than the average of those to your right (the **suffix**). \n",
    "\n",
    "For example, in the list $[2, 1, 8, 4, 16]$,\n",
    "\n",
    "* $mean([2]) < mean([1, 8, 4, 16])$\n",
    "* $mean([2, 1]) < mean([8, 4, 16])$\n",
    "* $mean([2, 1, 8]) < mean([4, 16)]$\n",
    "* $mean([2, 1, 8, 4]) < mean([16])$\n",
    "\n",
    "We'll call such a sequence a **trend**.\n",
    "\n",
    "Just as sequences decompose, uniquely into subsequences that are monotonic, they decompose, uniquely, into trends.\n",
    "\n",
    "The `trendlist` package makes such decompositions easy. You can install it as a Python package from PyPI like this:"
   ]
  },
  {
   "cell_type": "code",
   "execution_count": null,
   "id": "d49de5e9",
   "metadata": {},
   "outputs": [],
   "source": [
    "pip install trendlist"
   ]
  },
  {
   "cell_type": "markdown",
   "id": "e114c0ac",
   "metadata": {},
   "source": [
    "You can find [package documentation on ReadTheDocs](https://trendlist.readthedocs.io/en/latest/index.html)."
   ]
  },
  {
   "cell_type": "markdown",
   "id": "7d8db249",
   "metadata": {},
   "source": [
    "This notebook sketches the package implementation, and its data structures and methods.\n",
    "\n",
    "The sketches will often have less detail and precision than you'll find in the package itself because we want you to see the forest, not the trees and every detail of the biota. When you want to see those details, they're in\n",
    "[the package source on GitHub](https://github.com/jsh/trendlist.git).\n",
    "\n",
    "Our language will also be quite informal.\n",
    "\n",
    "We don't however, think either the sketches or the language are misleading.\n",
    "We think reading the sketches and our explanations will make reading the code easier,\n",
    "and let you construct precise proofs when you need to."
   ]
  },
  {
   "cell_type": "markdown",
   "id": "ae022c9a",
   "metadata": {},
   "source": [
    "### Generating Lists"
   ]
  },
  {
   "cell_type": "markdown",
   "id": "9ff2ac29",
   "metadata": {},
   "source": [
    "It's useful to have a couple of functions to use in the sections that follow.\n",
    "One of these, `pows()`, returns lists of powers of a specified `base`, defaulting to powers of two."
   ]
  },
  {
   "cell_type": "code",
   "execution_count": null,
   "id": "5856f7a1",
   "metadata": {},
   "outputs": [],
   "source": [
    "def pows(n, base=2, start=0):\n",
    "    start = start % n # in case start >= n\n",
    "    for i in range(start, n):\n",
    "        yield base**i\n",
    "    for i in range(start):\n",
    "        yield base**i\n",
    "    \n",
    "print(list(pows(10)))\n",
    "print(list(pows(10, base=3, start=4)))"
   ]
  },
  {
   "cell_type": "markdown",
   "id": "5114b0d0",
   "metadata": {},
   "source": [
    "Setting the `start` argument lets you retrieve the same list, but starting somewhere else. When you reach the end, go back to the beginning and start again. This is a **circular permutation** of the list you'd have starting at position $0$ in the original list.\n",
    "\n",
    "Having that ability will prove quite useful, down the road."
   ]
  },
  {
   "cell_type": "markdown",
   "id": "aa6f80e6",
   "metadata": {},
   "source": [
    "The second function, `rands()`, generates lists of random numbers, with a given seed."
   ]
  },
  {
   "cell_type": "code",
   "execution_count": null,
   "id": "53707a15",
   "metadata": {},
   "outputs": [],
   "source": [
    "import random\n",
    "\n",
    "def rands(n, seed=None, start=0):\n",
    "    random.seed(seed)\n",
    "    start = start % n         # in case start >= n\n",
    "    for _ in range(start):\n",
    "        random.random()       # ignore first `start` numbers\n",
    "    for _ in range(start, n):\n",
    "        yield(random.random())\n",
    "    random.seed(seed)        # go back to the beginning\n",
    "    for _ in range(start):\n",
    "        yield(random.random())\n",
    "\n",
    "list(rands(5))"
   ]
  },
  {
   "cell_type": "markdown",
   "id": "f5c0c67f",
   "metadata": {},
   "source": [
    "The `seed` argument helps testing, because it lets you generate a reproduceable list of (pseudo-)random numbers."
   ]
  },
  {
   "cell_type": "code",
   "execution_count": null,
   "id": "47d55a31",
   "metadata": {},
   "outputs": [],
   "source": [
    "print(list(rands(5, 0)))\n",
    "print(list(rands(5, 0)))"
   ]
  },
  {
   "cell_type": "code",
   "execution_count": null,
   "id": "0fc33050",
   "metadata": {},
   "outputs": [],
   "source": [
    "print(list(rands(3, seed=0)))\n",
    "print(list(rands(3, seed=0))) # exactly the same list of pseudo-random numbers\n",
    "print(list(rands(3, seed=0, start=1))) # rotate the list by 1\n",
    "print(list(rands(3, seed=0, start=2))) # rotate the same list by 2\n",
    "print(list(rands(3, seed=0, start=3))) # rotate by 3, to bring you back to the beginning\n",
    "print(list(rands(3, seed=0, start=4))) # rotating by 4 is just like rotating by 1"
   ]
  },
  {
   "cell_type": "markdown",
   "id": "46803641",
   "metadata": {},
   "source": [
    "One difference between these two worth noting is that `pows()` just returns a list, while `rands()` is a generator.\n",
    "`pows()` is used in simple examples, but rarely invoked to create long sequences.\n",
    "In practice, the largest integers you'd probably want are only about 64-bits long. the largest lists from `pows()` not much longer than five dozen elements.\n",
    "\n",
    "In contrast, you'll find yourself wanting `rands()` to make sequences of a million or more floats, so a generator is the way to go. "
   ]
  },
  {
   "cell_type": "markdown",
   "id": "e7a8cd96",
   "metadata": {},
   "source": [
    "## Is This List a Trend?"
   ]
  },
  {
   "cell_type": "markdown",
   "id": "d3df4488",
   "metadata": {},
   "source": [
    "Because the overall mean of a list, `s`, lies between the means of each prefix, `s[:i]`, and its suffix, `s[i:]`, here's a simple test of whether a sequence is a trend:"
   ]
  },
  {
   "cell_type": "code",
   "execution_count": null,
   "id": "7b857fed",
   "metadata": {},
   "outputs": [],
   "source": [
    "import statistics\n",
    "\n",
    "def is_trend(s):\n",
    "    mean_s = statistics.mean(s)\n",
    "    for i in range(1, len(s)):\n",
    "        if statistics.mean(s[:i]) > mean_s:  # prefix mean greater than the whole, so greater than the suffix, too.\n",
    "            return False\n",
    "    return True # every prefix mean is less than its suffix mean"
   ]
  },
  {
   "cell_type": "code",
   "execution_count": null,
   "id": "6c3493e8",
   "metadata": {
    "scrolled": true
   },
   "outputs": [],
   "source": [
    "s = [2, 1, 8, 4, 16]\n",
    "print(is_trend(s))"
   ]
  },
  {
   "cell_type": "markdown",
   "id": "725d41b2",
   "metadata": {},
   "source": [
    "Systematically testing all $4! = 24$ permutations of [1,2,4,8], you find these $6$ trends:"
   ]
  },
  {
   "cell_type": "code",
   "execution_count": null,
   "id": "4a6c6d6d",
   "metadata": {},
   "outputs": [],
   "source": [
    "import itertools\n",
    "\n",
    "s = [1, 2, 4, 8]\n",
    "for perm in itertools.permutations(s):\n",
    "    if is_trend(perm):\n",
    "        print(perm)"
   ]
  },
  {
   "cell_type": "markdown",
   "id": "7308b2d6",
   "metadata": {},
   "source": [
    "You can show that for a sets of size $N$, $(N-1)!$ of its permutations are trends.\n",
    "So, for $N = 10$, only $1$ out of the $10! == 3628800$ arrangements is sorted,\n",
    "but $1$ out of $10$ of those arrangements, or $9! == 362880$, are trends.\n",
    "\n",
    "That's much better odds."
   ]
  },
  {
   "cell_type": "markdown",
   "id": "e8f75514",
   "metadata": {},
   "source": [
    "## Decomposing a List into Trends"
   ]
  },
  {
   "cell_type": "markdown",
   "id": "58e885ac",
   "metadata": {},
   "source": [
    "Here's a simple, direct method to decompose a list into trends.\n",
    "\n",
    "1. Find the longest prefix trend.\n",
    "1. Next, find the longest trend in the remaining suffix.\n",
    "1. Repeat this until you've carved the entire list into trends."
   ]
  },
  {
   "cell_type": "code",
   "execution_count": null,
   "id": "4f7819a0",
   "metadata": {},
   "outputs": [],
   "source": [
    "from copy import copy\n",
    "\n",
    "def pfx_trend(s):\n",
    "    # Return the first trend in the sequence.\n",
    "    t = s.copy()\n",
    "    while t: # start with the whole sequence\n",
    "        if is_trend(t): # work backwards until you find a trend\n",
    "            return t\n",
    "        t.pop()\n",
    "\n",
    "def decompose(s):\n",
    "    # Decompose a sequence into its trends,\n",
    "    # return the list of trends.\n",
    "    decompose = []\n",
    "    while s:\n",
    "        p = pfx_trend(s)    # find the longest, leftmost trend\n",
    "        decompose.append(p) # tack it onto the end of the trendlist\n",
    "        p_len = len(p)      \n",
    "        s = s[p_len:]       # decompose what remains\n",
    "    return decompose"
   ]
  },
  {
   "cell_type": "code",
   "execution_count": null,
   "id": "97011c9a",
   "metadata": {},
   "outputs": [],
   "source": [
    "import itertools\n",
    "\n",
    "for perm in itertools.permutations(pows(3)):\n",
    "        print(f\"{perm} -> {decompose(list(perm))}\") # itertools.permutations() returns tuples"
   ]
  },
  {
   "cell_type": "markdown",
   "id": "007da6e6",
   "metadata": {},
   "source": [
    "This direct approach works fine for shorter lists of length 5 or 50, but when you want to decompose lists of $500$ or $5,000$, you're manipulating long, in-core lists. Even if you switch to floats, so you don't have list elements that are huge powers of two, this algorithm starts off like a herd of turtles. \n",
    "\n",
    "With $N=10,000$, it's unuseable."
   ]
  },
  {
   "cell_type": "code",
   "execution_count": null,
   "id": "61059fcf",
   "metadata": {
    "scrolled": true
   },
   "outputs": [],
   "source": [
    "for n in [5, 50, 500]:\n",
    "    print(f\"{n=:4_d}: \", end=\"\")\n",
    "    %timeit decompose(list(rands(n)))"
   ]
  },
  {
   "cell_type": "markdown",
   "id": "ce486f51",
   "metadata": {},
   "source": [
    "This approach is still useful for getting your feet wet, because it's easy to wrap your head around, there aren't many abstractions, and you can make sense of all the individual steps.\n",
    "You'll find code you can use for it in the sub-package `trendlist.simple`.\n",
    "\n",
    "We'll move on, though, to a different approach."
   ]
  },
  {
   "cell_type": "markdown",
   "id": "58ab53e6",
   "metadata": {},
   "source": [
    "## Decomposing a List into Trends, Try Two"
   ]
  },
  {
   "cell_type": "markdown",
   "id": "6d4d3772",
   "metadata": {},
   "source": [
    "The key attributes of a trend are its mean and its length,\n",
    "so let's define a `Trend` class with just those two attributes."
   ]
  },
  {
   "cell_type": "code",
   "execution_count": null,
   "id": "be562193",
   "metadata": {},
   "outputs": [],
   "source": [
    "from dataclasses import dataclass\n",
    "\n",
    "@dataclass(order=True)\n",
    "class Trend:\n",
    "    mean: int = None\n",
    "    length: int = 1"
   ]
  },
  {
   "cell_type": "code",
   "execution_count": null,
   "id": "c04bb6e2",
   "metadata": {},
   "outputs": [],
   "source": [
    "t = Trend(mean=6, length=9)\n",
    "print(t)\n",
    "t2 = Trend(9, 6)\n",
    "print(t2)\n",
    "\n",
    "t3 = Trend(math.pi)\n",
    "print(t3)"
   ]
  },
  {
   "cell_type": "markdown",
   "id": "9f35d2cb",
   "metadata": {},
   "source": [
    "`@dataclass(order=True)` orders `Trend` objects by their means. `<`, `>`, etc. will all work correctly on `Trend` objects."
   ]
  },
  {
   "cell_type": "code",
   "execution_count": null,
   "id": "91a090af",
   "metadata": {},
   "outputs": [],
   "source": [
    "t1 = Trend(6.9, 10)\n",
    "t2 = Trend(9.6, 1)\n",
    "t1 < t2"
   ]
  },
  {
   "cell_type": "markdown",
   "id": "f21f91bc",
   "metadata": {},
   "source": [
    "It's also easy to merge `Trend` instances, like this:"
   ]
  },
  {
   "cell_type": "code",
   "execution_count": null,
   "id": "390f939c",
   "metadata": {},
   "outputs": [],
   "source": [
    "import operator\n",
    "\n",
    "def merge(self, other, reverse=False):\n",
    "        can_merge = operator.gt if reverse else operator.lt\n",
    "        if can_merge(self, other):\n",
    "            length = self.length + other.length\n",
    "            mean = (self.length*self.mean + other.length*other.mean)/length  # weighted average\n",
    "            return Trend(mean, length)\n",
    "        return None\n",
    "    \n",
    "Trend.merge = merge\n",
    "\n",
    "merge(Trend(mean=2, length=2), Trend(mean=4, length=2))"
   ]
  },
  {
   "cell_type": "markdown",
   "id": "89491051",
   "metadata": {},
   "source": [
    "(Ignore the `reverse` argument for a moment. We'll explain it when we need to use it, below.)\n",
    "\n",
    "Next, we'll define a `TrendList` as a list of `Trend` objects, \n",
    "with a method that lets us merge a `Trend` onto the right end of a `TrendList`"
   ]
  },
  {
   "cell_type": "code",
   "execution_count": null,
   "id": "17163c59",
   "metadata": {},
   "outputs": [],
   "source": [
    "from collections import deque\n",
    "\n",
    "class TrendList(list):\n",
    "    def __init__(self, s, reverse=False):\n",
    "        self.reverse = reverse\n",
    "        for elem in s:\n",
    "            if not isinstance(elem, Trend): # accept either Trends or numbers\n",
    "                elem = Trend(elem)\n",
    "            self.append(elem)\n",
    "\n",
    "    def append(self, other):\n",
    "        if not self:\n",
    "            super().append(other)\n",
    "            return\n",
    "        popped = self.pop()\n",
    "        if merged := popped.merge(other, reverse=self.reverse):  # merge and recurse\n",
    "            self.append(merged)\n",
    "        else:  # new trend cannot merge\n",
    "            self.extend([popped, other])  # push popped back on, then other"
   ]
  },
  {
   "cell_type": "code",
   "execution_count": null,
   "id": "3a6f9e22",
   "metadata": {
    "scrolled": true
   },
   "outputs": [],
   "source": [
    "s = [1, 2, 4]\n",
    "for perm in itertools.permutations(s):\n",
    "        print(f\"{perm} -> {TrendList(list(perm))}\") # itertools.permutations() returns tuples"
   ]
  },
  {
   "cell_type": "markdown",
   "id": "7bcebf4a",
   "metadata": {},
   "source": [
    "We could use a list of Trends as initializers, too!"
   ]
  },
  {
   "cell_type": "code",
   "execution_count": null,
   "id": "73195b31",
   "metadata": {
    "scrolled": true
   },
   "outputs": [],
   "source": [
    "s = [Trend(elem) for elem in [1, 2, 4]]  # now try a list of Trends\n",
    "print(f\"s is now {s}\")\n",
    "for perm in itertools.permutations(s):\n",
    "    print(f\"{perm} -> {TrendList(list(perm))}\") # itertools.permutations() returns tuples"
   ]
  },
  {
   "cell_type": "markdown",
   "id": "b5321ace",
   "metadata": {},
   "source": [
    "If we reverse a list, then decompose it into a `TrendList` for a *downwards* trend, (`reverse=True`), we should get the same list of `Trends`, reversed."
   ]
  },
  {
   "cell_type": "code",
   "execution_count": null,
   "id": "e08aab3b",
   "metadata": {},
   "outputs": [],
   "source": [
    "s = [1, 2, 4]\n",
    "for perm in itertools.permutations(s):\n",
    "        trends= TrendList(perm)\n",
    "        rperm = reversed(list(perm))\n",
    "        rtrends = list(reversed(TrendList(rperm, reverse=True)))\n",
    "        print(f\"{perm=}: reversing everything gets you back to where you started: {rtrends == trends}\")"
   ]
  },
  {
   "cell_type": "markdown",
   "id": "65036468",
   "metadata": {},
   "source": [
    "But now, we can decompose even large sequences quite quickly. This algorithm is $O(N)$."
   ]
  },
  {
   "cell_type": "code",
   "execution_count": null,
   "id": "b5e8e88c",
   "metadata": {},
   "outputs": [],
   "source": [
    "for n in pows(7, base=10):\n",
    "    print(f\"{n=:10_d}: \", end=\"\")\n",
    "    %timeit TrendList(rands(n))"
   ]
  },
  {
   "cell_type": "markdown",
   "id": "d4596f70",
   "metadata": {},
   "source": [
    "On my laptop, the last line tells me this new approach decomposes a list of a *million* random floats into trends, in an average of one and a third seconds for seven runs. That's two-tenths of a second per run, without breaking a sweat.\n",
    "\n",
    "In trade, what we give up is knowing the contents of those trends -- the actual random numbers in each trend."
   ]
  },
  {
   "cell_type": "markdown",
   "id": "74a6d6c6",
   "metadata": {},
   "source": [
    "## Creating Single Trends"
   ]
  },
  {
   "cell_type": "markdown",
   "id": "936427ef",
   "metadata": {},
   "source": [
    "Sorting a sequence of random numbers turns it a single, monotonic sequence. Is there an efficient way to turn it into a single trend? Two ways come right to mind:\n",
    "\n",
    "1. A sorted sequence is a trend. We could sort it. Sorting is $O(N * log(N))$\n",
    "\n",
    "1. We said, before, that exactly one circular permutation of every sequence is a single trend. We could rotate the sequence, looking for the one that only decomposes into a single trend.\n",
    "\n",
    "This brute-force approach would be slower -- $O(N^2)$ -- since there are $N$ rotations, and decomposing each is also $O(N)$. Fortunately, there's a faster approach here, too.\n",
    "\n",
    "1. Decompose the sequence into trends. This is $O(N)$\n",
    "1. Rotate trends front-to-back to create a circular permutation that's a single trend. The average number of trends is only $O(log(N))$\n",
    "\n",
    "Using this approach, turning a random sequence into a trend should only be $O(N) + O(log(N)) = O(N)$"
   ]
  },
  {
   "cell_type": "code",
   "execution_count": null,
   "id": "79112284",
   "metadata": {},
   "outputs": [],
   "source": [
    "t = TrendList([2, 1])\n",
    "left = t[0]\n",
    "right = TrendList(t[1:])\n",
    "right.append(left)\n",
    "right"
   ]
  },
  {
   "cell_type": "code",
   "execution_count": null,
   "id": "f5650ffb",
   "metadata": {},
   "outputs": [],
   "source": [
    "from collections import namedtuple\n",
    "\n",
    "Rotations = namedtuple('Rotations', 'start rotations')\n",
    "\n",
    "def rotate(self):\n",
    "    merged = self\n",
    "    left = merged[0]\n",
    "    right = TrendList(merged[1:])\n",
    "    right.append(left)\n",
    "    merged = right\n",
    "    return merged\n",
    "    \n",
    "def single(self):\n",
    "    new = self\n",
    "    rotations = 0   # how many rotations to get to a single trend\n",
    "    orig_start = 0    # position in original list that will become new[0]\n",
    "    while len(new) > 1:\n",
    "        orig_start += new[0].length  # positon in self that will become new[0] following rotation\n",
    "        new = new.rotate()\n",
    "        rotations += 1\n",
    "    return Rotations(start = orig_start, rotations=rotations)\n",
    "\n",
    "TrendList.rotate = rotate\n",
    "TrendList.single = single"
   ]
  },
  {
   "cell_type": "markdown",
   "id": "9bb90431",
   "metadata": {},
   "source": [
    "We can check the speed."
   ]
  },
  {
   "cell_type": "code",
   "execution_count": null,
   "id": "5c4480df",
   "metadata": {
    "scrolled": false
   },
   "outputs": [],
   "source": [
    "for n in pows(7, base=10):\n",
    "    print(f\"{n=:10_d}: \", end=\"\")\n",
    "    %timeit TrendList(rands(n)).single()"
   ]
  },
  {
   "cell_type": "markdown",
   "id": "675ac9c6",
   "metadata": {},
   "source": [
    "Yep. Still $O(N)$"
   ]
  },
  {
   "cell_type": "markdown",
   "id": "b2872431",
   "metadata": {},
   "source": [
    "Here's a simple example, to illustrate how it works."
   ]
  },
  {
   "cell_type": "code",
   "execution_count": null,
   "id": "ae09ed53",
   "metadata": {
    "scrolled": true
   },
   "outputs": [],
   "source": [
    "s = pows(4)\n",
    "for perm in itertools.permutations(s):\n",
    "        trends = TrendList(list(perm)) # itertools.permutations() returns tuples\n",
    "        print(f\"{perm} ->\")\n",
    "        print(f\"\\t{trends} ->\")\n",
    "        print(f\"\\t\\t{trends.single()}\")"
   ]
  },
  {
   "cell_type": "markdown",
   "id": "8c2546d0",
   "metadata": {},
   "source": [
    "## Bucking the Trend"
   ]
  },
  {
   "cell_type": "markdown",
   "id": "7efc8037",
   "metadata": {},
   "source": [
    "We now have the tools we need to study trends: \n",
    "\n",
    "* two classes: `Trend` and `Trendlist`\n",
    "* operators in those two classes: `Trend.merge(), Trendlist.append(), Trendlist.rotate(), Trendlist.single()`\n",
    "* good performance, both in speed and in space\n",
    "* a pair of utility routines to generate sequences to study: `pows(), rands()`"
   ]
  },
  {
   "cell_type": "markdown",
   "id": "d5abf3a8",
   "metadata": {},
   "source": [
    "As an example, let's do something a little kinky. \n",
    "Instead of looking at falling trends inside of random sequences, we'll look at falling trends inside of sequences that we know are single, rising trends.  \n",
    "That is, we'll\n",
    "\n",
    "* decompose a sequence into trends\n",
    "* rotate the trendlist to create a single trend\n",
    "* decompose that sequence into falling trends, which go the other way\n",
    "* look at those falling trends\n",
    "\n",
    "We'll \"buck the trend.\""
   ]
  },
  {
   "cell_type": "code",
   "execution_count": null,
   "id": "516913b6",
   "metadata": {},
   "outputs": [],
   "source": [
    "def buck(s):\n",
    "    trends = TrendList(s)\n",
    "    single_start = trends.single().start\n",
    "    rising_trend = s[single_start:] + s[:single_start]\n",
    "    print(f\"{rising_trend=:}\")\n",
    "    buck_trend = TrendList(rising_trend, reverse=True)\n",
    "    print(f\"decomposed into falling trends = {buck_trend}\")\n",
    "    "
   ]
  },
  {
   "cell_type": "markdown",
   "id": "58c615e4",
   "metadata": {},
   "source": [
    "And now you see what the `reverse` argument is for in $TrendList$ and $Trend$: Using it generates **falling trends**:\n",
    "trends where the average of everything to the left of your finger is *greater than* the average of everything to the right, wherever you put your finger. Things are always looking down."
   ]
  },
  {
   "cell_type": "code",
   "execution_count": null,
   "id": "e9c83a9d",
   "metadata": {},
   "outputs": [],
   "source": [
    "buck([4,8,2,1])"
   ]
  },
  {
   "cell_type": "markdown",
   "id": "8eac925d",
   "metadata": {},
   "source": [
    "What if, instead of lists of integers, we want to look at sequences of random floats?\n",
    "We'll tweak `buck()` slightly replacing the list argument, which specified the sequence to use,\n",
    "with a length and just generate a random sequence that long.\n",
    "\n",
    "This, at last, shows off what that third argument of `rands()` is good for.\n",
    "Though `TrendList` throws away the generated, random numbers of the original list,\n",
    "keeping track of `seed` lets us regenerate the sequence, \n",
    "and then `start` lets us rotate it to a single trend.\n"
   ]
  },
  {
   "cell_type": "code",
   "execution_count": null,
   "id": "15db621d",
   "metadata": {},
   "outputs": [],
   "source": [
    "def buck(n):\n",
    "    seed = random.random() # random seed\n",
    "    s = rands(n, seed=seed)\n",
    "    trends = TrendList(s)\n",
    "    single_start = trends.single().start\n",
    "    single_trend = rands(n, seed=seed, start=single_start) # same, random numbers, rotated to a single trend!\n",
    "    return TrendList(single_trend, reverse=True) # and broken into trends in the opposite direction\n",
    "\n",
    "buck(1_000)"
   ]
  },
  {
   "cell_type": "markdown",
   "id": "7fb41212",
   "metadata": {},
   "source": [
    "Let's time that."
   ]
  },
  {
   "cell_type": "code",
   "execution_count": null,
   "id": "50cdac9b",
   "metadata": {},
   "outputs": [],
   "source": [
    "for n in pows(7, base=10):\n",
    "    print(f\"{n=:10_d}: \", end=\"\")\n",
    "    %timeit buck(n)"
   ]
  },
  {
   "cell_type": "markdown",
   "id": "28ae81d1",
   "metadata": {},
   "source": [
    "Which is what you'd expect: \n",
    "requiring twice as many decompositions into trends -- one rising, one falling -- roughly doubles the runtime.\n",
    "\n",
    "And how many trands are we talking about?"
   ]
  },
  {
   "cell_type": "code",
   "execution_count": null,
   "id": "c1cf976c",
   "metadata": {},
   "outputs": [],
   "source": [
    "for n in pows(7, base=10):\n",
    "    print(f\"{n=:10_d}: \", end=\"\")\n",
    "    print(f\"random={len(TrendList(rands(n)))}, buck-trends={len(buck(n))}\")"
   ]
  },
  {
   "cell_type": "markdown",
   "id": "9bdfb5ec",
   "metadata": {},
   "source": [
    "Also what you'd expect! If you start with a sequence that's already trend in one direction, the trends in the other direction should be shorter, and therefore more frequent than the ones you get starting with a simple, random sequence."
   ]
  },
  {
   "cell_type": "markdown",
   "id": "485df893",
   "metadata": {},
   "source": [
    "## Summary"
   ]
  },
  {
   "cell_type": "markdown",
   "id": "f7782db1",
   "metadata": {},
   "source": [
    "You can import the `trendlist` package to play with sequence trends and lists of trends.\n",
    "\n",
    "The main package defines two classes, `Trend` and `TrendList`, with methods on each, that make writing code to investigate these easy.\n",
    "\n",
    "\n",
    "The subpackage, `trendlist.simple` defines other methods and functions that let you do the same tasks with less sophistication, while preserving all the data so you can look at it while you're playing. It's a self-teaching tool.\n",
    "\n",
    "`trendlist` also has a pair of convenient utility functions, `pows()` and `rands()` that make it easy to create lists of nunmbers you can decompose.\n",
    "\n"
   ]
  }
 ],
 "metadata": {
  "kernelspec": {
   "display_name": "Python 3 (ipykernel)",
   "language": "python",
   "name": "python3"
  },
  "language_info": {
   "codemirror_mode": {
    "name": "ipython",
    "version": 3
   },
   "file_extension": ".py",
   "mimetype": "text/x-python",
   "name": "python",
   "nbconvert_exporter": "python",
   "pygments_lexer": "ipython3",
   "version": "3.11.0"
  }
 },
 "nbformat": 4,
 "nbformat_minor": 5
}
