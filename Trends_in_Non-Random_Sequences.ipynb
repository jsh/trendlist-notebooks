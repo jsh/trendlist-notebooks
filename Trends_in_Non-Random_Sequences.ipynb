{
 "cells": [
  {
   "cell_type": "markdown",
   "id": "84be3e0f",
   "metadata": {},
   "source": [
    "# Trends in Non-Random Sequences"
   ]
  },
  {
   "cell_type": "markdown",
   "id": "07bb6475",
   "metadata": {},
   "source": [
    "You've explored trends in sequences of random floats. \n",
    "What if the sequences of floats aren't random?\n",
    "\n",
    "\"Like what?\" you ask."
   ]
  },
  {
   "cell_type": "markdown",
   "id": "d6f2ac99",
   "metadata": {},
   "source": [
    "## Trends in A Sorted Sequence"
   ]
  },
  {
   "cell_type": "markdown",
   "id": "e1832b45",
   "metadata": {},
   "source": [
    "A monotonically increasing sequence is a single trend.\n",
    "In a monotonically decreasing sequence, each element is its own trend.\n",
    "\n",
    "You can write code to check that.\n",
    "\n",
    "Because we'll be looking at long sequences, we'll use the `trendlist` package,\n",
    "which supplies the abstractions `Trend` for trends, `TrendList` for lists of trends,\n",
    "and methods to manipulate them with efficient algorithms."
   ]
  },
  {
   "cell_type": "code",
   "execution_count": null,
   "id": "7ff9e47f",
   "metadata": {},
   "outputs": [],
   "source": [
    "from random import random\n",
    "from trendlist import Trend, TrendList, rands"
   ]
  },
  {
   "cell_type": "markdown",
   "id": "c4960bb5",
   "metadata": {},
   "source": [
    "You can decompose random sequences quickly and easily,"
   ]
  },
  {
   "cell_type": "code",
   "execution_count": null,
   "id": "04b12e5f",
   "metadata": {},
   "outputs": [],
   "source": [
    "n = 1000\n",
    "# a random sequence\n",
    "seq = [random() for _ in range(n)]\n",
    "trends = TrendList(seq)\n",
    "len(trends)"
   ]
  },
  {
   "cell_type": "markdown",
   "id": "25f8cedd",
   "metadata": {},
   "source": [
    "but you can also decompose, for example, a sorted sequence,\n",
    "which should be a single trend."
   ]
  },
  {
   "cell_type": "code",
   "execution_count": null,
   "id": "24011d31",
   "metadata": {},
   "outputs": [],
   "source": [
    "# the same random numbers after sorting\n",
    "sorted_seq = sorted(seq)\n",
    "trends = TrendList(sorted_seq)\n",
    "len(trends)"
   ]
  },
  {
   "cell_type": "markdown",
   "id": "99289fe1",
   "metadata": {},
   "source": [
    "In like fashion, in a monotonically decreasing sequence -- a sequence sorted in reverse order -- each element should be its own trend."
   ]
  },
  {
   "cell_type": "code",
   "execution_count": null,
   "id": "04a62952",
   "metadata": {},
   "outputs": [],
   "source": [
    "# the same numbers after sorting into descending order\n",
    "reverse_sorted_seq = sorted(seq, reverse=True)\n",
    "trends = TrendList(reverse_sorted_seq)\n",
    "len(trends)"
   ]
  },
  {
   "cell_type": "markdown",
   "id": "bd03e833",
   "metadata": {},
   "source": [
    "## Trends in a Trend"
   ]
  },
  {
   "cell_type": "markdown",
   "id": "55739e7c",
   "metadata": {},
   "source": [
    "What other kind of non-random sequence might we try to decompose? How about a trend?\n",
    "\n",
    "These should be fairly easy to come by. A sequence of length $n$, has $n!$ permutations; \n",
    "of those, $(n-1)$ are single trends.\n",
    "\n",
    "We can build intuition about that by going back to working with sequences of powers of two:"
   ]
  },
  {
   "cell_type": "code",
   "execution_count": null,
   "id": "6852c54d",
   "metadata": {},
   "outputs": [],
   "source": [
    "from trendlist.simple import is_trend, pows\n",
    "import itertools\n",
    "\n",
    "def single_trends(s):\n",
    "    # return a list of all the permutations of the elements of s\n",
    "    # s can be any iterable\n",
    "    _perms = itertools.permutations(s)\n",
    "    for perm in _perms:\n",
    "        if is_trend((perm)):\n",
    "            yield list(perm)\n",
    "\n",
    "n = 5\n",
    "for trend in single_trends(pows(n)):\n",
    "    print(trend)"
   ]
  },
  {
   "cell_type": "markdown",
   "id": "61cdbf5c",
   "metadata": {},
   "source": [
    "Of course, decomposing any of these into trends isn't even interesting, right? They're already trends."
   ]
  },
  {
   "cell_type": "code",
   "execution_count": null,
   "id": "af3b0a4b",
   "metadata": {},
   "outputs": [],
   "source": [
    "n = 8\n",
    "more_than_one_trend = 0\n",
    "for trend in single_trends(pows(n)):\n",
    "    if len(TrendList(trend)) != 1: # if it's not a single trend\n",
    "        more_than_one_trend += 1\n",
    "        print(f\"{trend} should only have one trend, but has more!\")\n",
    "if not more_than_one_trend:\n",
    "    print(\"All single trends!\")"
   ]
  },
  {
   "cell_type": "markdown",
   "id": "58b55e9a",
   "metadata": {},
   "source": [
    "## Falling Trends"
   ]
  },
  {
   "cell_type": "markdown",
   "id": "24f46b3d",
   "metadata": {},
   "source": [
    "What, however, if you flip the trends around?\n",
    "\n",
    "Everything that we've decided about trends so far must have a mirror-image. If you replace \"things are always getting better, on average,\" with, \"things are always getting worse, on average,\" all the logic still follows. Everything you've figured out has a dual:\n",
    "\n",
    "* Every sequence can be uniquely decomposed into *falling* trends.\n",
    "* The means of the trends *increase* monotonically.\n",
    "* $P($ *random sequence of length n is a falling trend* $) == 1/n$ for trendy sets. \n",
    "* The average number of falling trends for sequences of length $n$ is $H_n$, the $n$th harmonic number.\n",
    "* ... and so on."
   ]
  },
  {
   "cell_type": "markdown",
   "id": "a6baa088",
   "metadata": {},
   "source": [
    "How can you make a falling trend? Just flip around a rising trend."
   ]
  },
  {
   "cell_type": "code",
   "execution_count": null,
   "id": "a3bdfd2a",
   "metadata": {},
   "outputs": [],
   "source": [
    "n = 8\n",
    "more_than_one_trend = 0\n",
    "for trend in single_trends(pows(n)):\n",
    "    trend.reverse() # make it a falling trend\n",
    "    if len(TrendList(trend, reverse=True)) != 1: # if it's not a single *falling* trend\n",
    "        more_than_one_trend += 1\n",
    "        print(f\"{trend} should only have one trend, but has more!\")\n",
    "if not more_than_one_trend:\n",
    "    print(\"All single falling trends!\")"
   ]
  },
  {
   "cell_type": "markdown",
   "id": "a522dd82",
   "metadata": {},
   "source": [
    "How cool is that?"
   ]
  },
  {
   "cell_type": "markdown",
   "id": "e1293d59",
   "metadata": {},
   "source": [
    "## Working with Longer, Random Trends"
   ]
  },
  {
   "cell_type": "markdown",
   "id": "b27df166",
   "metadata": {},
   "source": [
    "This opens a question: What do you expect when you decompose a long sequence that's a trend in one direction into trends in the other? We could do it either way -- decompose a single, long rising trend into falling trends, or a single long falling trend into rising trends.\n",
    "\n",
    "Let's write some code.\n",
    "\n",
    "(Because of the way we've written trendlist, it's easy to do the first, but the second would require writing more code. At some point, someone should generalize the package a little more so they're equally easy.)\n",
    "\n",
    "For starters, let's generate random, long trends,\n",
    "and turn to `trendlist.rands()` for this task, \n",
    "because it generates a long sequence quickly."
   ]
  },
  {
   "cell_type": "code",
   "execution_count": null,
   "id": "330ae274",
   "metadata": {
    "scrolled": true
   },
   "outputs": [],
   "source": [
    "n=1_000_000\n",
    "%timeit rands(n)"
   ]
  },
  {
   "cell_type": "markdown",
   "id": "f44be38d",
   "metadata": {},
   "source": [
    "`trendlist.TrendList()` promptly decomposes such sequences into falling trends."
   ]
  },
  {
   "cell_type": "code",
   "execution_count": null,
   "id": "f91778c5",
   "metadata": {},
   "outputs": [],
   "source": [
    "def rising trends(n):\n",
    "    return TrendList(rands(n))\n",
    "\n",
    "%timeit len(rising_trends(n))"
   ]
  },
  {
   "cell_type": "markdown",
   "id": "20ca0cd5",
   "metadata": {},
   "source": [
    "And `Trendlist().single()` circularly permutes these into single trends."
   ]
  },
  {
   "cell_type": "code",
   "execution_count": null,
   "id": "f57481c3",
   "metadata": {
    "scrolled": true
   },
   "outputs": [],
   "source": [
    "%timeit rising_trends(n).single()"
   ]
  },
  {
   "cell_type": "markdown",
   "id": "a89c5a29",
   "metadata": {},
   "source": [
    "Though these have little execution-time cost, they comes at a different price: all information about the original sequence is lost. Having created a single trend, there's no way to go back and decompose it in the opposite direction.\n",
    "\n",
    "The very simplifications that let us decompose really long sequences efficiently, then rotate them to single trends seem like they prevent us from doing much more with the falling trends than get their means. \n",
    "\n",
    "But wait! The `rands()` function takes two more arguments, `seed` and `start`, which let us get what we want.  Here's the plan:\n",
    "\n",
    "* Generate a random seed for the random number generator, `random.random`, and save it away.\n",
    "* Generate a random sequence using that seed.\n",
    "* Decompose the sequence into a rising TrendList -- a list of rising Trends.\n",
    "* Rotate that TrendList into a single, rising trend. Keep track of how much rotation that required.\n",
    "* Re-generate the original sequence with the same seed, and rotate it enough to make a single trend.\n",
    "\n",
    "Does this work? My grandfather used to say, \"Hide and watch.\""
   ]
  },
  {
   "cell_type": "markdown",
   "id": "0821287d",
   "metadata": {},
   "source": [
    "First, we'll make a function like `rands()` that generates a sequence of random floats, but only sequences that are rising trends."
   ]
  },
  {
   "cell_type": "code",
   "execution_count": null,
   "id": "06b58fbb",
   "metadata": {},
   "outputs": [],
   "source": [
    "def rands_rising(n):\n",
    "    seed = random() # pick a random seed\n",
    "    r = rands(n, seed=seed) # generate a random sequence using that seed\n",
    "    rot = TrendList(r).single() # decompose it into a rising trend\n",
    "    return rands(n, seed=seed, start=rot.start) # return a generator that generates it"
   ]
  },
  {
   "cell_type": "markdown",
   "id": "416f5c52",
   "metadata": {},
   "source": [
    "Let's kick the tires a little."
   ]
  },
  {
   "cell_type": "code",
   "execution_count": null,
   "id": "abe64e62",
   "metadata": {},
   "outputs": [],
   "source": [
    "n = 1_000_000\n",
    "print(f\"the function has type {type(rands_rising(n))},\")\n",
    "print(f\"given the argument {n:_} it generates {len(list(rands_rising(n))):_} elements,\")\n",
    "just_one_trend = len(TrendList(rands_rising(n))) == 1\n",
    "print(f\"and those elements {'do' if just_one_trend else 'do not'} form a single trend.\")"
   ]
  },
  {
   "cell_type": "markdown",
   "id": "8d69d2f0",
   "metadata": {},
   "source": [
    "Can a falling trend ever be a rising trend? No way.\n",
    "\n",
    "In a falling trend, if you stick your finger somewhere in the middle of a falling trend, the mean of the numbers to the left is greater than the mean of those to the right.\n",
    "In a rising trend, it's the reverse. Can't be both, so no.\n",
    "\n",
    "How many rising trends will there be?\n",
    "\n",
    "You know the answer for one case: a monotonic sequence. If you decompose a monotonically decreasing sequence, which is a single falling trend, into rising trends, every element is a separate trend. Is that true for *all* falling trends.\n",
    "\n",
    "Also no, but to see that you need to be able to decompose a sequence into trends. You can cannibalize the code to do this from another worksheet."
   ]
  },
  {
   "cell_type": "markdown",
   "id": "4d4d8821",
   "metadata": {},
   "source": [
    "And now we can ask how many falling trends are in a long rising trend. Let's do a few for practice:"
   ]
  },
  {
   "cell_type": "code",
   "execution_count": null,
   "id": "ee82538c",
   "metadata": {
    "scrolled": true
   },
   "outputs": [],
   "source": [
    "n = 100_000\n",
    "for i in range(10):\n",
    "    print(f\"{i}: {len(TrendList(rands_rising(n), reverse=True))}\")"
   ]
  },
  {
   "cell_type": "markdown",
   "id": "c2383a27",
   "metadata": {},
   "source": [
    "This is, as you'd expect, more than the number of trends in a completely random sequence.\n",
    "\n",
    "To be more precise, here's the average number of falling trends in a random sequence."
   ]
  },
  {
   "cell_type": "code",
   "execution_count": null,
   "id": "ff5178a5",
   "metadata": {},
   "outputs": [],
   "source": [
    "import math\n",
    "n = 100_000\n",
    "trends = []\n",
    "for trial in range(100):\n",
    "    trends.append(len(TrendList(rands(n), reverse=True)))\n",
    "print(f\"average number of falling trends in a random sequence: {statistics.mean(trends)}\")\n",
    "\n",
    "def H(n):\n",
    "    '''Euler approximation to the Nth Harmonic number.'''\n",
    "    gamma = 0.5772 # The Euler-Mascheroni constant\n",
    "    return ln(n) + gamma\n",
    "\n",
    "print(f\"We expect{H(n)=}\")"
   ]
  },
  {
   "cell_type": "markdown",
   "id": "6493cb72",
   "metadata": {},
   "source": [
    "And here's the average number of falling trends in a random, rising trend: "
   ]
  },
  {
   "cell_type": "code",
   "execution_count": null,
   "id": "4c494c21",
   "metadata": {},
   "outputs": [],
   "source": [
    "import math\n",
    "n = 100_000\n",
    "trends = []\n",
    "for trial in range(100):\n",
    "    trends.append(len(TrendList(rands_rising(n), reverse=True)))\n",
    "print(f\"average number of falling trends in a rising trend: {statistics.mean(trends)}\")"
   ]
  },
  {
   "cell_type": "markdown",
   "id": "fd4fea13",
   "metadata": {},
   "source": [
    "What is this number? Where's it from?\n",
    "\n",
    "You'd expect it to be bigger than the number in a random trend,\n",
    "but how big?"
   ]
  },
  {
   "cell_type": "markdown",
   "id": "799b4d69",
   "metadata": {},
   "source": [
    "## How Mean Number of Reverse Trends Rises with Sequence Length"
   ]
  },
  {
   "cell_type": "markdown",
   "id": "b612c635",
   "metadata": {},
   "source": [
    "You expect the number of reverse trends to grow with sequence length,\n",
    "so perhaps it would be useful to see how it grows.\n",
    "When a statistical relationship is simple, it offers predictive value: \"Ah, this falling trend has 1,000 reals, that means that if I decompose it into rising trends, I expect to see ....\"\n",
    "\n",
    "Moreover, if it's particularly simple, it may offer a clue to the origin of the relationship."
   ]
  },
  {
   "cell_type": "markdown",
   "id": "0690e105",
   "metadata": {},
   "source": [
    "You'll need a way to graph the results."
   ]
  },
  {
   "cell_type": "code",
   "execution_count": null,
   "id": "6180a574",
   "metadata": {},
   "outputs": [],
   "source": [
    "'''I hope there is a simpler way to do this\n",
    "but for now, this works.\n",
    "'''\n",
    "from matplotlib import pyplot as plt\n",
    "import numpy as np\n",
    "import math\n",
    "\n",
    "def slope_and_intercept(x, y):\n",
    "    # fit a least-squares line\n",
    "    m, b = np.polyfit(x, y, deg=1)\n",
    "    # coefficient of determination = correlation ** 2\n",
    "    return (m, b)\n",
    "\n",
    "def legend(m, b, r):\n",
    "    equation = f\"y = {m:2.2f}*x + {b:2.2f}\"\n",
    "    rho_sq = \"\\u03c1**2\"    # Unicode character for rho is U+03C1. Sadly, the font lacks superscripts.\n",
    "    goodness_of_fit = f\"{rho_sq} = {r**2:2.3f}\"\n",
    "    legend = f\"{equation}\\n{goodness_of_fit}\"\n",
    "    return legend\n",
    "\n",
    "def annotate_graph(x, y):\n",
    "    # add in a best-fit line and a legend\n",
    "    m, b = slope_and_intercept(x, y) \n",
    "    r = np.corrcoef(x, y)[0,1]\n",
    "\n",
    "    # create nparray that spans the x-space\n",
    "    xseq = np.linspace(0, math.ceil(x[-1]), num=100)\n",
    "\n",
    "    # create a legend\n",
    "    graph_legend = legend(m, b, r)\n",
    "\n",
    "    # add best-fit line and legend to the plot\n",
    "    plt.plot(xseq, m * xseq + b, color=\"red\", lw=1.5) # best-fit line\n",
    "    plt.text(0, y[-2], graph_legend, color=\"red\")           # legend in the urh corner\n",
    "    \n",
    "\n",
    "def graph(x, y, x_label, y_label, title):    \n",
    "    # Create a scatterplot with a title and axis labels\n",
    "    plt.figure(figsize=(10, 10))\n",
    "    plt.scatter(x, y, s=10, alpha=0.7)\n",
    "    plt.title(title)\n",
    "    plt.xlabel(x_label)\n",
    "    plt.ylabel(y_label)\n",
    "    annotate_graph(x, y) # add the legend and the best-fit line\n",
    "    "
   ]
  },
  {
   "cell_type": "code",
   "execution_count": null,
   "id": "ce09c319",
   "metadata": {},
   "outputs": [],
   "source": [
    "graph([1, 2, 3], [2, 4, 6], \"X\", \"Y\", \"My title\")"
   ]
  },
  {
   "cell_type": "code",
   "execution_count": null,
   "id": "bae728af",
   "metadata": {},
   "outputs": [],
   "source": [
    "import math\n",
    "\n",
    "def average_number_of_trends(n, trials):\n",
    "    '''Average number of trends in sequence of length n'''\n",
    "    trends = []\n",
    "    for trial in range(trials):\n",
    "        trends.append(len(TrendList(rands(n), reverse=True))) # reverse actually doesn't matter\n",
    "    return statistics.mean(trends)\n",
    "\n",
    "def trend_count(max_len, trials=10, points=7):\n",
    "    trend_count = {}\n",
    "    interval = (max_len - 1)//points\n",
    "    for n in range(1, max_len, interval):\n",
    "        trend_count[n] = average_number_of_trends(n, trials)\n",
    "    return trend_count\n",
    "    \n",
    "max_len = 1000\n",
    "graph(max_len, trend_count(max_len), \"length\", \"average trend count\", \"Average Number of Trends\")"
   ]
  },
  {
   "cell_type": "raw",
   "id": "62a3b283",
   "metadata": {},
   "source": []
  }
 ],
 "metadata": {
  "kernelspec": {
   "display_name": "Python 3 (ipykernel)",
   "language": "python",
   "name": "python3"
  },
  "language_info": {
   "codemirror_mode": {
    "name": "ipython",
    "version": 3
   },
   "file_extension": ".py",
   "mimetype": "text/x-python",
   "name": "python",
   "nbconvert_exporter": "python",
   "pygments_lexer": "ipython3",
   "version": "3.9.6"
  }
 },
 "nbformat": 4,
 "nbformat_minor": 5
}
