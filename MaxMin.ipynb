{
 "cells": [
  {
   "cell_type": "markdown",
   "id": "83c9bac2",
   "metadata": {},
   "source": [
    "# Bounding With Maxima and Minima"
   ]
  },
  {
   "cell_type": "markdown",
   "id": "254908a0",
   "metadata": {},
   "source": [
    "Rather than bounding subsequences where the mean is no longer increasing, let's do something simpler:\n",
    "let's look at sequences where the first element is the least element. Call these Biblical sequences\n",
    "after Matthew 20:16, \"So the first shall be last and the last shall be first.\""
   ]
  },
  {
   "cell_type": "markdown",
   "id": "1e9e57eb",
   "metadata": {},
   "source": [
    "## Biblical Sequences"
   ]
  },
  {
   "cell_type": "markdown",
   "id": "1092e1f8",
   "metadata": {},
   "source": [
    "In a *biblical* sequence, the leading element is the smallest.\n",
    "By analogy with trends, we'll confine ourselves to sequences without repetitions\n",
    "so we don't have to worry about what to do with ties.\n",
    "Once again, sorted sequences are biblical, but biblical sequences aren't necessarily sorted.\n",
    "For example, the first ten odd primes, $3, 5, 7, 11, 13, 17, 19, 23, 29, 31$, is obviously a biblical sequence;\n",
    "however, if you reverse them, like this: \n",
    "$31, 29, 23, 19, 17, 13, 11, 7, 5, 3$, \n",
    "you can get a biblical sequence by just sticking $2$ at the front:\n",
    "$2, 31, 29, 23, 19, 17, 13, 11, 7, 5, 3$ .\n",
    "\n",
    "(It will be clear that whatever we find will have analogues in sequences where the leading element is the largest,\n",
    "or the last element is the smallest or largest -- sequences bounded by extrema.)\n",
    "\n",
    "This function asks whether a list is biblical:"
   ]
  },
  {
   "cell_type": "code",
   "execution_count": null,
   "id": "11a01067",
   "metadata": {
    "scrolled": true
   },
   "outputs": [],
   "source": [
    "def is_bib(seq):\n",
    "   return min(seq) == seq[0]\n",
    "\n",
    "seq = [3,5,7,11,13,17,19,23,29,31]\n",
    "print(f\"{is_bib(seq)=}\")"
   ]
  },
  {
   "cell_type": "code",
   "execution_count": null,
   "id": "5902d103",
   "metadata": {},
   "outputs": [],
   "source": [
    "seq.reverse()\n",
    "is_bib(seq)"
   ]
  },
  {
   "cell_type": "code",
   "execution_count": null,
   "id": "6a7489a8",
   "metadata": {},
   "outputs": [],
   "source": [
    "seq = [2] + seq\n",
    "print(f\"{is_bib(seq)=}\")"
   ]
  },
  {
   "cell_type": "markdown",
   "id": "18ac32e3",
   "metadata": {},
   "source": [
    "Make up your own list below and then use `is_bib()` to ask whether it's monotonically increasing."
   ]
  },
  {
   "cell_type": "code",
   "execution_count": null,
   "id": "c4f7650b",
   "metadata": {},
   "outputs": [],
   "source": [
    "is_bib([2, 7, 1, 8, 3])"
   ]
  },
  {
   "cell_type": "markdown",
   "id": "20b40883",
   "metadata": {},
   "source": [
    "Typing in long lists of numbers gets old, fast.\n",
    "You can quickly generate a long sequence of random reals like this:"
   ]
  },
  {
   "cell_type": "code",
   "execution_count": null,
   "id": "fe74a755",
   "metadata": {},
   "outputs": [],
   "source": [
    "from random import random\n",
    "[random() for _ in range(50)]"
   ]
  },
  {
   "cell_type": "markdown",
   "id": "c6d7d1df",
   "metadata": {},
   "source": [
    "How often is the first element of a list of length $N$ the smallest element?\n",
    "Let's use random lists and just count."
   ]
  },
  {
   "cell_type": "code",
   "execution_count": null,
   "id": "3ac590c0",
   "metadata": {},
   "outputs": [],
   "source": [
    "from random import random\n",
    "N = 10\n",
    "trials = 1_000_000\n",
    "bibs = 0\n",
    "for i in range(trials):\n",
    "    if is_bib([random() for _ in range(N)]):\n",
    "        bibs += 1\n",
    "print(bibs/trials)"
   ]
  },
  {
   "cell_type": "markdown",
   "id": "286757ac",
   "metadata": {},
   "source": [
    "About one time in $N$. Just what you expected. "
   ]
  },
  {
   "cell_type": "markdown",
   "id": "ff187473",
   "metadata": {},
   "source": [
    "# Decomposing into Biblical Subsequences"
   ]
  },
  {
   "cell_type": "markdown",
   "id": "62cd72fa",
   "metadata": {},
   "source": [
    "Decomposing a sequence into biblical subsequences is straightforward.\n",
    "Start on the left end and move right. \n",
    "When you reach a smaller number than the first, start a new biblical sequence.\n",
    "Take that smaller number, keep track of it, and repeat the process.\n",
    "\n",
    "Easy, right?"
   ]
  },
  {
   "cell_type": "code",
   "execution_count": null,
   "id": "ff17a662",
   "metadata": {},
   "outputs": [],
   "source": [
    "seq = [31, 29, 23, 19, 17, 13, 11, 7, 5, 3]\n",
    "print(f\"{is_bib(seq)=}\")"
   ]
  },
  {
   "cell_type": "code",
   "execution_count": null,
   "id": "e79f6241",
   "metadata": {
    "scrolled": true
   },
   "outputs": [],
   "source": [
    "def bib_starts(seq):\n",
    "    starts = [0]\n",
    "    most_recent_min = seq[0]\n",
    "    for idx, elem in enumerate(seq):\n",
    "        if elem < most_recent_min:\n",
    "            starts.append(idx)\n",
    "            most_recent_min = elem\n",
    "    return starts\n",
    "bib_starts([2, 7, 1, 8, 3])"
   ]
  },
  {
   "cell_type": "markdown",
   "id": "acb329e8",
   "metadata": {},
   "source": [
    "So long as the all the numbers in the sequence are unique, the only circular permutation that's biblical is the one that puts the smallest element at the front.\n",
    "\n",
    "And once the original sequence is decomposed, you can get to that permutation trivially -- just rotate the rightmost biblical to the left end."
   ]
  },
  {
   "cell_type": "markdown",
   "id": "f70c78dc",
   "metadata": {},
   "source": [
    "On average, how many biblical sequences does random sequence of length $N$ decompose into?"
   ]
  },
  {
   "cell_type": "code",
   "execution_count": null,
   "id": "a3d8523b",
   "metadata": {},
   "outputs": [],
   "source": [
    "N = 10_000_000\n",
    "random_seq = [random() for _ in range(N)]\n",
    "starts = len(bib_starts(random_seq))\n",
    "\n",
    "from math import log\n",
    "print(f\"{N=}, {starts=}, {log(N)=}\")"
   ]
  },
  {
   "cell_type": "markdown",
   "id": "da489871",
   "metadata": {},
   "source": [
    "Starting to sound familiar, right?\n",
    "\n",
    "Let's look at the distribution of number of biblical sequences more closely."
   ]
  },
  {
   "cell_type": "markdown",
   "id": "f8dfde84",
   "metadata": {},
   "source": [
    "## The Expected # of Biblical Sequences is $H_n$"
   ]
  },
  {
   "cell_type": "markdown",
   "id": "6c2a29f2",
   "metadata": {},
   "source": [
    "Suppose we carve up an appropriately-friendly sequence into contiguous, non-overlapping, biblical sequences, where the first element in each is its smallest:\n",
    "\n",
    "$31 41 59 | 26 53 58 97 93 | 23 84 62 64 33 83 27 95 | 02 88$\n",
    "\n",
    "How many subsequences should we expect?\n",
    "\n",
    "Imagine a huge collection of random sequences, all the same length.\n",
    "Certainly the first number in each sequence starts a biblical sequence. It might be length one, it might be the whole sequence.\n",
    "\n",
    "The second number in each might be smaller than the first or it might be larger. They're random so there's a 50-50 chance of each: in half the sequences the second number starts a new biblical sequence.\n",
    "\n",
    "The third number will be smaller than either the first or second in a third of the sequences in the collection, and start its own, new biblical sequence.\n",
    "\n",
    "It's clear where this is going. The expected number of positions that start a biblical sequence, and so the expected number of biblical sequences, is something we've seen before:\n",
    "\n",
    "$N \\cdot H_n$ where $H_n = N1 + 1/2 + 1/3 + ... + 1/n$\n",
    "\n"
   ]
  },
  {
   "cell_type": "markdown",
   "id": "1839c684",
   "metadata": {},
   "source": [
    "## The Stirling Numbers Describe the Distribution. Again."
   ]
  },
  {
   "cell_type": "markdown",
   "id": "e0bdd248",
   "metadata": {},
   "source": [
    "Let's go for the grand prize -- the whole distribution."
   ]
  },
  {
   "cell_type": "markdown",
   "id": "9942723b",
   "metadata": {},
   "source": [
    "At this point, it's certainly reasonable to hope that the answer will be \"Stirling Numbers of the First Kind!\"\n",
    "but before shooting for a proof, let's look at a few."
   ]
  },
  {
   "cell_type": "markdown",
   "id": "8f56217b",
   "metadata": {},
   "source": [
    "Without loss of generality, let's just use permutations of non-negative integers, `range(N)`, for small $N$.\n",
    "\n",
    "Sequences of length 0, don't have any biblical subsequences. Phew. That was easy.\n",
    "Sequences of length 1 have exactly 1. `bib(1,1) == 1`\n",
    "Sequences of length 2 have either 1 or 2 with equal frequency: $[1, 2]$ or $[2] [1]$. `bib(2,1) == 1`, `bib(2,2) == 1`\n",
    "Length 3? $[1, 2, 3]$, $[1, 3, 2]$ , $[2] [1, 3]$, $[2, 3] [1]$, $[3] [1, 2]$, $[3] [2] [1]$ \n",
    "Thus, `bib(3, 1) = 2`, `bib(3,2) = 3`, `b(3,3) = 1`\n",
    "\n",
    "This is looking good."
   ]
  },
  {
   "cell_type": "markdown",
   "id": "75a5ef83",
   "metadata": {},
   "source": [
    "Another one-to-one correspondence to permutation cycles may be in easy reach, but instead, for variety, let's do a direct combinatorial proof."
   ]
  },
  {
   "cell_type": "markdown",
   "id": "ffd65751",
   "metadata": {},
   "source": [
    "Suppose you have a sequence of random reals of length $N$, plus an $N+1$st, larger element.\n",
    "If the $N$ reals decomposes into $K$ biblical subsequences, you can insert the $N+1$st in $N+1$ places -- on the far-left-hand end, or to the right of any of the other $N$ elements.\n",
    "\n",
    "Inserted to the right of one of the others, the new element will simply be incorporated into that element's biblical subsequence, since its left-hand element is smaller.\n",
    "\n",
    "If it's prepended on the far left, it will form a new, one-element biblical sequence, because it is larger than the element to its right -- the original first (and smallest) element of the sequence.\n",
    "\n",
    "Thus, you can get $K$ subsequences two ways: adding a single, new subsequence to an existing $K-1$, or adding a new element to a sequence that already has $K$.\n",
    "\n",
    "${N+1 \\brack K} = {N \\brack K-1} + N \\cdot {N \\brack K}$\n",
    "\n",
    "This is exactly the recurrence formula for (unsigned) Stirling numbers of the first kind, so our other conclusions about trends should apply to these, too."
   ]
  },
  {
   "cell_type": "markdown",
   "id": "eecd93a0",
   "metadata": {},
   "source": [
    "## Summary\n",
    "\n",
    "Bounding subsequences by their minmimal elements gives the same statistical behavior as using trends."
   ]
  },
  {
   "cell_type": "code",
   "execution_count": null,
   "id": "92015ac1",
   "metadata": {},
   "outputs": [],
   "source": []
  }
 ],
 "metadata": {
  "kernelspec": {
   "display_name": "Python 3 (ipykernel)",
   "language": "python",
   "name": "python3"
  },
  "language_info": {
   "codemirror_mode": {
    "name": "ipython",
    "version": 3
   },
   "file_extension": ".py",
   "mimetype": "text/x-python",
   "name": "python",
   "nbconvert_exporter": "python",
   "pygments_lexer": "ipython3",
   "version": "3.11.0"
  }
 },
 "nbformat": 4,
 "nbformat_minor": 5
}
