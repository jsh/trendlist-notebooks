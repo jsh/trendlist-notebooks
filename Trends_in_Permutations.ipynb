{
 "cells": [
  {
   "cell_type": "markdown",
   "id": "35577c60",
   "metadata": {},
   "source": [
    "# Trends in Permutations"
   ]
  },
  {
   "cell_type": "markdown",
   "id": "606bce85",
   "metadata": {},
   "source": [
    "A trend is a number sequence with one interesting property:\n",
    "if you put your finger between any two numbers in that sequence, breaking it into a prefix and a suffix,\n",
    "the average of the prefix is smaller than the average of the suffix.\n",
    "\n",
    "In a trend, things are always \"looking up.\" The `trendlist` package, which create and explore trends. \n",
    "If you'd like more in-depth information on this package, it's available in a sibling notebook.\n",
    "\n",
    "A fun way to explore trends is to pick a sequence, then decompose each permutation of that sequence into trends.\n",
    "\n",
    "This notebook explores that.\n",
    "\n",
    "Most of the tools we'll need to do this are in the submodule `trendlist.simple`,\n",
    "and we'll save time by just importing them right from the start."
   ]
  },
  {
   "cell_type": "code",
   "execution_count": null,
   "id": "aef49a87",
   "metadata": {},
   "outputs": [],
   "source": [
    "from trendlist.simple import *"
   ]
  },
  {
   "cell_type": "markdown",
   "id": "1b562f65",
   "metadata": {},
   "source": [
    "## Unique Decomposition"
   ]
  },
  {
   "cell_type": "markdown",
   "id": "2b206768",
   "metadata": {},
   "source": [
    "You can decompose nearly every list, uniquely, into maximum-length trends.\n",
    "When you do, the average of those trends drops, steadily, from left-to-right."
   ]
  },
  {
   "cell_type": "markdown",
   "id": "1a8eee79",
   "metadata": {},
   "source": [
    "For example, [32, 4, 1, 16, 2, 8] decomposes into [32] [4, 1, 16] [2, 8]. Each subsequence is a trend, and the means of the trends drops from left to right. $\\mu([32]) == 32 > \\mu([4, 1, 16] == 7 > \\mu([2, 8]) == 5$ "
   ]
  },
  {
   "cell_type": "markdown",
   "id": "3d68f24e",
   "metadata": {},
   "source": [
    "This makes sense. After all, if a trend mean is less than the mean of the trend to its immediate right,\n",
    "then the two form a single, longer trend."
   ]
  },
  {
   "cell_type": "code",
   "execution_count": null,
   "id": "b59ff2be",
   "metadata": {},
   "outputs": [],
   "source": [
    "ts = [[32], [4, 1, 16], [2, 8]]\n",
    "for t in ts: \n",
    "    print(f\"{t=} {'is a trend' if is_trend(t) else 'is not a trend'}, with mean {statistics.mean(t)}\")"
   ]
  },
  {
   "cell_type": "markdown",
   "id": "5cee5bb5",
   "metadata": {},
   "source": [
    "Though tacking any pair of these trends together in their original order leaves them as two, separate trends,"
   ]
  },
  {
   "cell_type": "code",
   "execution_count": null,
   "id": "fe030a93",
   "metadata": {},
   "outputs": [],
   "source": [
    "is_trend(ts[1] + ts[2])"
   ]
  },
  {
   "cell_type": "markdown",
   "id": "23b45470",
   "metadata": {},
   "source": [
    "reversing the order, so that the left trend's mean is less than the right's, turns that concatenation into a single trend."
   ]
  },
  {
   "cell_type": "code",
   "execution_count": null,
   "id": "214afd4b",
   "metadata": {},
   "outputs": [],
   "source": [
    "is_trend(ts[2]+ts[1])"
   ]
  },
  {
   "cell_type": "markdown",
   "id": "e2ea24c7",
   "metadata": {},
   "source": [
    "However, not all sequences decompose uniquely. How would you decompose [1, 1, 1, 1, 1]? \n",
    "\n",
    "* As a single trend, [1, 1, 1, 1, 1]? \n",
    "* As two, [1,1] [1, 1, 1]? \n",
    "* As five, [1], [1], [1], [1], [1]?\n",
    "\n",
    "For unique decomposition, you only need a couple of conditions."
   ]
  },
  {
   "cell_type": "code",
   "execution_count": null,
   "id": "4939b14d",
   "metadata": {},
   "outputs": [],
   "source": [
    "is_trend([1,1,1,1])"
   ]
  },
  {
   "cell_type": "markdown",
   "id": "b6e2c27d",
   "metadata": {},
   "source": [
    "1. **in-between-ness**\n",
    "If you break a sequence in two, the two parts must have averages that flank the average of the whole;\n",
    "that is, if A and B are two sub-sequences, and A+B is their concatenation, then average(A) > average(B) \n",
    "implies average(A) > average(A+B) > average(B). \n",
    "\n",
    "As long as you can pick some sort of \"average\" which guarantees that the average of any pair of collections lies strictly between the average of each, it'll work.\n",
    "\n",
    "The arithmetic mean, $\\mu$, has in-between-ness, but so do the geometric mean, the harmonic mean, and many other measures of central tendency."
   ]
  },
  {
   "cell_type": "code",
   "execution_count": null,
   "id": "09110c1d",
   "metadata": {},
   "outputs": [],
   "source": [
    "from statistics import mean as arithmetic_mean\n",
    "from statistics import geometric_mean, harmonic_mean\n",
    "A = [1, 1, 2, 2, 2, 3]\n",
    "B = [1, 1, 4, 4, 4, 5]\n",
    "for mean in arithmetic_mean, geometric_mean, harmonic_mean:\n",
    "    print(mean)\n",
    "    print(f\"{mean(A)=:0.2f}\")\n",
    "    print(f\"{mean(A+B)=:0.2f}\")\n",
    "    print(f\"{mean(B)=:0.2f}\")"
   ]
  },
  {
   "cell_type": "markdown",
   "id": "642fc6aa",
   "metadata": {},
   "source": [
    "Another common measure of central tendency, the mode (the most frequent value) doesn't work here!"
   ]
  },
  {
   "cell_type": "code",
   "execution_count": null,
   "id": "dd25b7be",
   "metadata": {},
   "outputs": [],
   "source": [
    "from statistics import mode\n",
    "print(f\"{mode(A)=:0.2f}\")\n",
    "print(f\"{mode(A+B)=:0.2f}\")\n",
    "print(f\"{mode(B)=:0.2f}\")"
   ]
  },
  {
   "cell_type": "markdown",
   "id": "8b45cdb2",
   "metadata": {},
   "source": [
    "2. **uniqueness** No two different trends can have the same average: if they do, the order of the two trends in the decomposition is ambiguous.\n",
    "\n",
    "Medians regularly runs afoul of this condition."
   ]
  },
  {
   "cell_type": "code",
   "execution_count": null,
   "id": "d001105a",
   "metadata": {},
   "outputs": [],
   "source": [
    "from statistics import median\n",
    "A = [1, 2, 3, 10]\n",
    "B = [0, 2.2, 2.8, 100]\n",
    "print(f\"{median(A)=:0.2f}\")\n",
    "print(f\"{median(A+B)=:0.2f}\")\n",
    "print(f\"{median(B)=:0.2f}\")"
   ]
  },
  {
   "cell_type": "markdown",
   "id": "8e36cfda",
   "metadata": {},
   "source": [
    "Thus, we could use any of the means, but not the median or the mode for our \"average.\" We'll use the arithmetic mean because it's familiar, and dead-easy to compute."
   ]
  },
  {
   "cell_type": "markdown",
   "id": "84f922f0",
   "metadata": {},
   "source": [
    "Next, notice that if every subset of a set of numbers has a different average, \n",
    "then any permutation of those numbers has a unique decomposition,\n",
    "because no matter how you order those numbers, \n",
    "no two, neighboring trends in their decomposition could ever wind up with the same average.\n",
    "\n",
    "When you can assure that, adjacent trends in *any* permutation of those numbers can never have the same average. "
   ]
  },
  {
   "cell_type": "markdown",
   "id": "39264678",
   "metadata": {},
   "source": [
    "Let's call an iterable where you can uniquely decompose any permutation, ***trendy***."
   ]
  },
  {
   "cell_type": "markdown",
   "id": "d2ce595c",
   "metadata": {},
   "source": [
    "I suspect two kinds of sequences will satisfy both conditions."
   ]
  },
  {
   "cell_type": "markdown",
   "id": "447b95ad",
   "metadata": {},
   "source": [
    "1. Sets of prime powers: sets like ${1, 5, 25, 125, ..., 5^k}$\n",
    "1. Sets of random reals"
   ]
  },
  {
   "cell_type": "markdown",
   "id": "d3040c12",
   "metadata": {},
   "source": [
    "$\\color{green}{\\text{A proof of my suspicion would be nice, but I don't have one yet.}}$"
   ]
  },
  {
   "cell_type": "markdown",
   "id": "8cf2adba",
   "metadata": {},
   "source": [
    "Meanwhile, `trendlist.simple.pows()` will generate the first, and `trendlist.rands()`, the second.\n",
    "\n",
    "In everything that follows we'll use these two kinds of sequences and to the arithmetic mean, which is familiar and easy to compute."
   ]
  },
  {
   "cell_type": "markdown",
   "id": "5285eb92",
   "metadata": {},
   "source": [
    "Next, let's move on to counting the number of trends in every permutation of a trendy iterable.\n",
    "Perhaps you're saying to everyone who's around you, \"This is just a problem in elementary enumerative combinatorics!\"\n",
    "\n",
    "Or, perhaps not. :-)\n",
    "\n",
    "**[Spoiler alert: I'm not.]**\n",
    "\n",
    "Even if you're the kind of person who says things like that, perhaps it's not obvious yet how to attack it.\n",
    "\n",
    "Let's explore a little, to see if we can get ideas by writing some code."
   ]
  },
  {
   "cell_type": "markdown",
   "id": "28cdf372",
   "metadata": {},
   "source": [
    "## Counting Trends in Permutations"
   ]
  },
  {
   "cell_type": "markdown",
   "id": "a6852c20",
   "metadata": {},
   "source": [
    "The set `pows(3)` = ${1, 2, 4}$, has $3! = 6$ possible permutations.\n",
    "You can generate all $6$ with `itertools.permutations()` like this:"
   ]
  },
  {
   "cell_type": "code",
   "execution_count": null,
   "id": "8a3bb84d",
   "metadata": {},
   "outputs": [],
   "source": [
    "import itertools\n",
    "\n",
    "def perms(s):\n",
    "    # return a list of all the permutations of the elements of s\n",
    "    # s can be any iterable\n",
    "    _perms = itertools.permutations(s) # _perms generates tuples\n",
    "    _perms = [list(perm) for perm in _perms] # but lists are easier to work with\n",
    "    return _perms"
   ]
  },
  {
   "cell_type": "code",
   "execution_count": null,
   "id": "33ee832d",
   "metadata": {},
   "outputs": [],
   "source": [
    "perms(pows(3))"
   ]
  },
  {
   "cell_type": "markdown",
   "id": "5a3b02dc",
   "metadata": {},
   "source": [
    "`pows()` returns a list, but `perms` will accept a list, a tuple, a set, or even a generator."
   ]
  },
  {
   "cell_type": "markdown",
   "id": "4aff16ad",
   "metadata": {},
   "source": [
    "Next, let's decompose each permutation into trends.\n",
    "The `trendlist` package offers efficient algorithms and useful data structures for these tasks,\n",
    "but in what follows, we'll mostly use the brute-force routines defined in the submodule `trendlist.simple`.\n",
    "They're easy to read, understand, and use.\n",
    "\n",
    "To decompose a list into trends, you can just use `trend_list()`"
   ]
  },
  {
   "cell_type": "code",
   "execution_count": null,
   "id": "24dc28e6",
   "metadata": {},
   "outputs": [],
   "source": [
    "s = [2, 4, 1]\n",
    "trend_list(s)"
   ]
  },
  {
   "cell_type": "markdown",
   "id": "a24540a8",
   "metadata": {},
   "source": [
    "The data structures, functions, and methods are all discussed in a separate notebook, [The `trendlist` Package]()]\n",
    "\n",
    "We can decompose all the permutations in a simple loop."
   ]
  },
  {
   "cell_type": "code",
   "execution_count": null,
   "id": "79c5c50d",
   "metadata": {},
   "outputs": [],
   "source": [
    "def print_all_trend_lists(s):\n",
    "    for perm in perms(s):\n",
    "        print(f\"{perm=} -> {trend_list(perm)}\")\n",
    "\n",
    "print_all_trend_lists(pows(4))"
   ]
  },
  {
   "cell_type": "markdown",
   "id": "9294f0fd",
   "metadata": {},
   "source": [
    "Go ahead and try `print_all_trend_lists()` with your own, trendy enumerable."
   ]
  },
  {
   "cell_type": "code",
   "execution_count": null,
   "id": "876fe3bc",
   "metadata": {},
   "outputs": [],
   "source": []
  },
  {
   "cell_type": "markdown",
   "id": "0e8d65b8",
   "metadata": {},
   "source": [
    "We already mentioned, in passing, that the trend means in a trend list drop from left to right.\n",
    "Before going any farther, notice a couple of other things:\n",
    "\n",
    "1. Swapping any pair of adjacent trends gives you a new permutation that has exactly one fewer trend.\n",
    "If you have a trendlist with $n$ trends, $L = [T_1, T_2, ... T_{k-1}, T_k, T_{k+1}, T_{k+2}, ... T_n]$,\n",
    "with means $M(L) = [\\mu_1, \\mu_2, ... \\mu_n]$,\n",
    "and you swap $T_k$ and $T_{k+1}$, these trends will merge into a single trend, $T_x$.\n",
    "But because $\\mu_{k-1} > \\mu_k > \\mu_x > \\mu_{k+1} > \\mu_{k+2}$, \n",
    "fusing that pair just drops the number of trends by 1:\n",
    "$L2 = [T_1, T_2, ... T_{k-1}, T_x, T_{k+2}, ... T_n]$\n",
    "\n",
    "1. Rotating a trend from one end to the other decreases the number of trends, by *at least one*, but maybe more.\n",
    "In the trendlist $L$, if, instead of swapping a pair of neighbors, you rotate $T_n$ from the right end to the beginning, $T_n$ and $T_1$ will fuse into a single trend, $T_y$ because $\\mu_n$ < $\\mu_1$.  \n",
    "\n",
    "But you might not be done!\n",
    "\n",
    "You know that $\\mu_1 > \\mu_2$. But $\\mu_y$ is somewhere between $\\mu_1$ and $\\mu_n$. If it's a lot smaller than $\\mu_1$ then it might be smaller than $\\mu_2$, so you have to merge $T_y$ with $T_2$, and so on.\n",
    "\n",
    "In the example above, if you start with the permutation $p = [2, 8, 4, 1]$, decompose it into its trends $L = [[2, 8], [4], [1]]$, rotate $[1]$ to the beginning, and let the dust settle, you end up with a single trend: $L' = [[1, 2, 8, 4]]$\n",
    "\n",
    "In other words,\n",
    "\n",
    "* If you keep rotating trends from one end to the other, one at a time, each rotation will decrease the number of trends by *some* number, $>= 1$, until you can't rotate any more, because you finally have a single trend.\n",
    "\n",
    "This algorithm -- decompose into trends with trend_list, then rotate until you have a single trend -- shows that every sequence has a circular permutation that's a single trend.  It's not a huge amount of work to show that no *other* circular permutation is a single trend -- that no permutation of a single trend is still a trend -- but we'll leave that exercise to you.\n",
    "\n",
    "Here's the important take-home:\n",
    "\n",
    "**Every sequence from a trendy set has *exactly one* circular permutation that is a single trend.**"
   ]
  },
  {
   "cell_type": "markdown",
   "id": "2e0a71a8",
   "metadata": {},
   "source": [
    "## Counting trends"
   ]
  },
  {
   "cell_type": "markdown",
   "id": "05aa8e4b",
   "metadata": {},
   "source": [
    "How many trends does each trend_list have?"
   ]
  },
  {
   "cell_type": "code",
   "execution_count": null,
   "id": "15566335",
   "metadata": {},
   "outputs": [],
   "source": [
    "def all_trend_lists(seq, verbose=False):\n",
    "    # decompose *every* permutation of seq into trends\n",
    "    return [trend_list(perm) for perm in perms(seq)]\n",
    "\n",
    "def count_trends(list_of_trend_lists, verbose=False):\n",
    "    # count the # of trends in each trend_list\n",
    "    if verbose:\n",
    "        for trend_list in list_of_trend_lists:\n",
    "            print(f\"{trend_list=} has {len(trend_list)} trend(s)\")\n",
    "    return [len(trend_list) for trend_list in list_of_trend_lists]\n",
    "\n",
    "seq = pows(3)\n",
    "count_trends(all_trend_lists(seq), verbose=True)"
   ]
  },
  {
   "cell_type": "markdown",
   "id": "6134df1e",
   "metadata": {},
   "source": [
    "And how frequent is each of these counts? We can summarize them with `collections.Counter()`, which puts all the $0$ trends into one bin, all the $1$ trends in another, and so on."
   ]
  },
  {
   "cell_type": "code",
   "execution_count": null,
   "id": "2d7277d2",
   "metadata": {},
   "outputs": [],
   "source": [
    "from collections import Counter\n",
    "\n",
    "counts = Counter(count_trends(all_trend_lists(seq)))"
   ]
  },
  {
   "cell_type": "markdown",
   "id": "58f1fe38",
   "metadata": {},
   "source": [
    "Having collected and binned those data, you can report what you found:"
   ]
  },
  {
   "cell_type": "code",
   "execution_count": null,
   "id": "671be1c9",
   "metadata": {
    "scrolled": true
   },
   "outputs": [],
   "source": [
    "for count in range(len(seq)+2):\n",
    "    print(f\"number of permutations with exactly {count} trends is {counts[count]}\")"
   ]
  },
  {
   "cell_type": "markdown",
   "id": "d16c6291",
   "metadata": {},
   "source": [
    "Note that `collections.Counter()` cheerfully reports counts of $0$ for everything it doesn't know about,\n",
    "instead of giving you an error."
   ]
  },
  {
   "cell_type": "code",
   "execution_count": null,
   "id": "0f35a880",
   "metadata": {},
   "outputs": [],
   "source": [
    "print(f\"the number of permutations with exactly 100 trends is {counts[100]}\")"
   ]
  },
  {
   "cell_type": "markdown",
   "id": "27e2445b",
   "metadata": {},
   "source": [
    "Before moving on, wrap that into a function."
   ]
  },
  {
   "cell_type": "code",
   "execution_count": null,
   "id": "854216a7",
   "metadata": {},
   "outputs": [],
   "source": [
    "def n_trends(s):\n",
    "    # Return list telling how many permutations of s have exactly k trends.\n",
    "    # Include 0 at the beginning to say that no permutation has *no* trends.\n",
    "    # Besides, Python programmers like the first array index to be 0, not 1.\n",
    "    counts = [0]*(len(s) + 1)\n",
    "    for ntrends, count in Counter(count_trends(all_trend_lists(s))).items():\n",
    "        counts[ntrends] = count\n",
    "    return counts\n",
    "\n",
    "n_trends(list(pows(7)))"
   ]
  },
  {
   "cell_type": "markdown",
   "id": "8e97b6cc",
   "metadata": {},
   "source": [
    "## First, Not-Very-Deep Thoughts about `n_trends()`"
   ]
  },
  {
   "cell_type": "markdown",
   "id": "716281ff",
   "metadata": {},
   "source": [
    "You can already say a few things about `n_trends()`.\n",
    "\n",
    "1. As long as the argument is trendy, the returned list should only depend on the size of the arg.\n",
    "1. Every permutation has *some* number of trends, so it's in one of the buckets. This means the sum of the list `n_trends()` returns will be $n!$\n",
    "\n",
    "Let's see those:"
   ]
  },
  {
   "cell_type": "code",
   "execution_count": null,
   "id": "5e93ffaf",
   "metadata": {},
   "outputs": [],
   "source": [
    "from trendlist import rands # sequences from a different trendy set\n",
    "# 1. trendy values don't matter, only their lengths\n",
    "n = 7\n",
    "r = list(rands(7))\n",
    "p = pows(7)\n",
    "n_trends(r) == n_trends(p)"
   ]
  },
  {
   "cell_type": "code",
   "execution_count": null,
   "id": "930f6d24",
   "metadata": {},
   "outputs": [],
   "source": [
    "# 2. n_trends(s) sums to len(s)!\n",
    "from math import factorial\n",
    "\n",
    "# n_trends(s) sums to len(s)!\n",
    "p = pows(8)\n",
    "print(f\"sum of all buckets is n!: {sum(n_trends(p)) == factorial(len(p))}\")"
   ]
  },
  {
   "cell_type": "markdown",
   "id": "c02cec25",
   "metadata": {},
   "source": [
    "Also,\n",
    "\n",
    "3. Every list has exactly one circular permutation that's a single trend.\n",
    "This partitions the $n!$ permutations into non-overlapping subsets, each of size $n$, that can be rotated into the same single trend.\n",
    "\n",
    "Using our earlier example, the list [1, 2, 8, 4] has four circular permutations.\n",
    "$[1, 2, 8, 4]$\n",
    "\n",
    "$[4, 1, 2, 8]$\n",
    "\n",
    "$[8, 4, 1, 2]$\n",
    "\n",
    "$[2, 8, 4, 1]$\n",
    "\n",
    "\n",
    "Each can broken down into a trendlist.\n",
    "\n",
    "$[[1, 2, 8, 4]]$\n",
    "\n",
    "$[[4], [1, 2, 8]]$\n",
    "\n",
    "$[[8], [4], [1, 2]]$\n",
    "\n",
    "$[[2, 8], [4], [1]]$\n",
    "\n",
    "\n",
    "Exactly one of these has a lone trend.\n",
    "\n",
    "This batching of permutations into equal-sized buckets, all of which are circular permutations of one another,\n",
    "means the number of permutations that are a single trend is `n_trends()[1]` = $n!/n = (n-1)!$\n",
    "\n",
    "This is important, and a little surprising, so let's check that it's correct:"
   ]
  },
  {
   "cell_type": "code",
   "execution_count": null,
   "id": "64e2da27",
   "metadata": {},
   "outputs": [],
   "source": [
    "for n in range(1, 8):\n",
    "    seq = pows(n)\n",
    "    # n_trends(seq)[1] = (n-1)!\n",
    "    print(f\"for sequences of length {n}, {n-1=}: number of single trends: {n_trends(seq)[1]}\")\n"
   ]
  },
  {
   "cell_type": "markdown",
   "id": "4b1f63fa",
   "metadata": {},
   "source": [
    "## Slightly Beyond the Basics with `n_trends()`"
   ]
  },
  {
   "cell_type": "markdown",
   "id": "8080cb0a",
   "metadata": {},
   "source": [
    "Clearly `n_trends()[0]` == $0$ and we just showed that `n_trends()[1]` == $(n-1)!$.\n",
    "Can we say anthing else about `n_trends()[k]`, the number of permutations with k trends?\n",
    "\n",
    "Here's another special case: $k = n-1$."
   ]
  },
  {
   "cell_type": "code",
   "execution_count": null,
   "id": "d10ea592",
   "metadata": {},
   "outputs": [],
   "source": [
    "for n in range(1, 8):\n",
    "    seq = pows(n)\n",
    "    k = n-1\n",
    "    # n_trends(seq)[-1] = 1\n",
    "    print(f\"when {n=}, the number of permutations with {k=} trends is {n_trends(seq)[-1]}\")"
   ]
  },
  {
   "cell_type": "markdown",
   "id": "3d0b3903",
   "metadata": {},
   "source": [
    "Well, that's regular. Why?\n",
    "\n",
    "Easy enough. First, any sequence that's sorted from biggest to smallest will have exactly $n$ trends: every element will be its own trend.\n",
    "\n",
    "The first number is bigger than the average of everything that follows it, so it's a trend of length $1$.\n",
    "The same argument holds, in turn, for each element in the sequence."
   ]
  },
  {
   "cell_type": "code",
   "execution_count": null,
   "id": "aca73314",
   "metadata": {},
   "outputs": [],
   "source": [
    "p_7 = pows(7)\n",
    "tl = trend_list(sorted(p_7, reverse=True))\n",
    "print(f\"{tl=}, and {len(tl)=}\")"
   ]
  },
  {
   "cell_type": "markdown",
   "id": "af5096f3",
   "metadata": {},
   "source": [
    "Could other permutations also have $n$ trends? No way.\n",
    "\n",
    "1. To have $n$ trends, each element must be its own trend.\n",
    "1. In a trendlist, the trends are monotonically decreasing from left to right.\n",
    "1. The elements in the original sequence *must* also decrease monotonically.\n",
    "1. The sequence must have been sorted, in decreasing order.\n",
    "\n",
    "In other words, there's one and only one sequence with $n$ trends."
   ]
  },
  {
   "cell_type": "markdown",
   "id": "aa1643b9",
   "metadata": {},
   "source": [
    "A similar argument shows you `n_trends()[-2]` $== {n \\choose 2}$\n",
    "\n",
    "Here it is, step-by-step:"
   ]
  },
  {
   "cell_type": "markdown",
   "id": "12882f9b",
   "metadata": {},
   "source": [
    "1. `n_trends()[-2]` is the number of permutations with exactly $n-1$ trends.\n",
    "1. To have exactly $n-1$ trends, exactly one trend must have 2 elements.\n",
    "1. There are $n \\choose 2$ ways to pick 2 elements out to put in that trend.\n",
    "1. The two-element trend can only be in increasing order: [smaller, larger]. Otherwise, it's not a trend.\n",
    "1. Once the elements are assigned to trends -- two to a 2-element trend in increasing order, one to each of the rest -- there is only one way to arrange the trends: with their means in decreasing order.\n",
    "\n",
    "In other words, by picking two elements, you define a unique permutation that decomposes into $n-1$ trends, with one of those trends made up of the two elements you picked, in increasing order.\n",
    "\n",
    "Check it out:"
   ]
  },
  {
   "cell_type": "code",
   "execution_count": null,
   "id": "1c268a19",
   "metadata": {},
   "outputs": [],
   "source": [
    "from math import comb # binomial coefficients\n",
    "\n",
    "for n in range(2, 8):\n",
    "    seq = pows(n)\n",
    "    k = n-2\n",
    "    # n_trends(seq)[-2] = comb(n, k)\n",
    "    print(f\"when {n=}, the number of permutations with {k=} trends is {n_trends(seq)[-2]}\")\n",
    "    print(f\"and {comb(n, k)=}\")"
   ]
  },
  {
   "cell_type": "markdown",
   "id": "0a2fc1b8",
   "metadata": {},
   "source": [
    "Okay, but these are special cases: the number of permutations of a sequence with exactly $1$ trend, the number with exactly $n-1$ trendsm the number with exactly $n-2$ trends. Can we say how many permutations of a sequence of length $n$ has exactly $k$ trends, for any $n$ abd $k$?\n",
    "\n",
    "Why yes, we can."
   ]
  },
  {
   "cell_type": "markdown",
   "id": "7d3e0f9e",
   "metadata": {},
   "source": [
    "## `n_trends()[k]`, the number of permutations with exactly `k` trends."
   ]
  },
  {
   "cell_type": "markdown",
   "id": "33288c4a",
   "metadata": {},
   "source": [
    "## `n_trends(s)[k]` is $len(s) \\brack k$"
   ]
  },
  {
   "cell_type": "markdown",
   "id": "5bac329e",
   "metadata": {},
   "source": [
    "Is there a simple expression for the number of permutations of `s` with exactly `k` trends?\n",
    "Yes!\n",
    "\n",
    "Sort of.\n",
    "\n",
    "First, you have to learn about Stirling Numbers."
   ]
  },
  {
   "cell_type": "markdown",
   "id": "5f6c4e33",
   "metadata": {},
   "source": [
    "## Stirling Numbers Count Cycles"
   ]
  },
  {
   "cell_type": "markdown",
   "id": "f7ca6a2e",
   "metadata": {},
   "source": [
    "A Sterling number of the first kind (unsigned), written $n \\brack k$, \n",
    "is the number of ways you can decompose *n* elements into *k* distinct cycles.\n",
    "\n",
    "(Folks have used are several different notations for these numbers. We're using Don Knuth's, because we have to use something and we've been Don Knuth fanboys since our teen years, some time back in the mid-Cretaceous.)\n",
    "\n",
    "What's that mean?\n",
    "\n",
    "A set of four elements, $\\{a, b, c, d\\}$, has these, distinct decompositions:\n",
    "\n",
    "* (a b c d)\n",
    "* (a b d c)\n",
    "* (a c b d)\n",
    "* (a c d b)\n",
    "* (a d b c)\n",
    "* (a d c b)\n",
    "* (a)(b c d)\n",
    "* (a)(b d c)\n",
    "* (b)(a c d)\n",
    "* (b)(a d c)\n",
    "* (c)(a b d)\n",
    "* (c)(a d b)\n",
    "* (d)(a b c)\n",
    "* (d)(a c b)\n",
    "* (a b)(c d)\n",
    "* (a c)(b d)\n",
    "* (a d)(b c)\n",
    "* (a)(b)(c d)\n",
    "* (a)(c)(b d)\n",
    "* (a)(d)(b c)\n",
    "* (b)(c)(a d)\n",
    "* (b)(d)(a c)\n",
    "* (c)(d)(a b)\n",
    "* (a)(b)(c)(d)"
   ]
  },
  {
   "cell_type": "markdown",
   "id": "ad038968",
   "metadata": {},
   "source": [
    "Two cycles are considered identical if they're circular permutations of one another, so \n",
    "\n",
    "$(a b c d) == (b c d a) == (c d a b) == (d a b c)$\n",
    "\n",
    "Any other decomposition will fall into one of these buckets.\n",
    "For example, $(a) (c d b)$ is not in the list above, but it's just a different way of writing the cycle $(a) (b c d)$.\n",
    "\n",
    "Similarly, ordering of adjacent cycles doesn't matter, so $(a b) (c d)$ is the same as $(c d) (a b)$.\n",
    "\n",
    "If you count elements in the list above, you can see that there are 11 lines with exactly two cycles. $ {4 \\brack 2} == 11 $"
   ]
  },
  {
   "cell_type": "markdown",
   "id": "9d6fdbdb",
   "metadata": {},
   "source": [
    "This is easy to see, with reasoning analogous to that used to show `n_trends(s)[-2]` $== {n \\choose 2}$\n",
    "\n",
    "1. Partition the $n$ elements of a trendy iterable into $k$ subsets.\n",
    "1. Consider each subset a cycle, and rotate it into the unique order that is a single trend.\n",
    "1. Order the trends in order of decreasing means.\n",
    "\n",
    "This is a 1-1 match of trendlists of permutations to decompositions of the set into distinct cycles, and vice-versa. It's what math guys call a *bijection*.\n",
    "Each decomposition into $k$ cycles maps, reversably, to a decomposition of some permutation into $k$ trends. \n",
    "\n",
    "To find the number of ways to take $n$, random reals and write them as a single sequence of $k$ trends, just look up the value of $n \\brack k$ ."
   ]
  },
  {
   "cell_type": "markdown",
   "id": "6e5c28fd",
   "metadata": {},
   "source": [
    "Stirling numbers were first studied by James Stirling [1692-1770], a crony of Sir Isaac Newton's. The numbers were named for him, not the other way around.\n",
    "\n",
    "They pop up in unexpected places. This is yet another. There isn't a simple, closed, algebraic expression for *$n \\brack k$*, \n",
    "but there isn't for *$sin(\\theta)$* or *$ln(x)$* either, and you've gotten used to using sines and natural logs. *Stirling number* is just another well-defined function to add to your mathematical vocabulary.\n",
    "\n",
    "When you actually need a value for *$n \\brack k$*, you just plug in the parameters and look it up, the way you would  𝑡𝑎𝑛(𝜃)  or a  𝑝 -value for a particular part of the normal distribution."
   ]
  },
  {
   "cell_type": "code",
   "execution_count": null,
   "id": "e22bf94a",
   "metadata": {},
   "outputs": [],
   "source": [
    "print(f\"Using n_trends(): {n_trends(pows(8))}\")"
   ]
  },
  {
   "cell_type": "code",
   "execution_count": null,
   "id": "14d8bb1e",
   "metadata": {},
   "outputs": [],
   "source": [
    "def stirlings(n):\n",
    "    # compute n_trends() with Stirling numbers\n",
    "    from sympy.functions.combinatorial.numbers import stirling # package for symbolic computation\n",
    "    row = []\n",
    "    for k in range(n+1):\n",
    "        row.append(stirling(n=n, k=k, kind=1))\n",
    "    return row\n",
    "print(f\"Using Stirling numbers: {stirlings(8)}\")"
   ]
  },
  {
   "cell_type": "markdown",
   "id": "058af6fc",
   "metadata": {},
   "source": [
    "## Why Does This Help?"
   ]
  },
  {
   "cell_type": "markdown",
   "id": "7ce355fb",
   "metadata": {},
   "source": [
    "Okay, so it's the Sterling numbers (of the first kind, unsigned). So what?"
   ]
  },
  {
   "cell_type": "markdown",
   "id": "f4273221",
   "metadata": {},
   "source": [
    "First, there's a big performance difference."
   ]
  },
  {
   "cell_type": "code",
   "execution_count": null,
   "id": "8023e314",
   "metadata": {},
   "outputs": [],
   "source": [
    "for n in range(1, 6):\n",
    "    print(f\"n_trends(pows({n})): \", end=\"\")\n",
    "    %timeit n_trends(pows(n))\n",
    "    print(f\"stirlings({n}): \", end=\"\")\n",
    "    %timeit stirlings(n)\n"
   ]
  },
  {
   "cell_type": "markdown",
   "id": "7eae85f6",
   "metadata": {},
   "source": [
    "So you don't have to look it up $1ms == 1000\\mu s == 1,000,000 ns$.\n",
    "\n",
    "Don't even think about using `n_trends()` for larger *n*."
   ]
  },
  {
   "cell_type": "code",
   "execution_count": null,
   "id": "3071f03c",
   "metadata": {},
   "outputs": [],
   "source": [
    "%timeit stirlings(20)"
   ]
  },
  {
   "cell_type": "markdown",
   "id": "466fb5f2",
   "metadata": {},
   "source": [
    "Second, if we know a fact about Stirling numbers, we can apply it to trends.\n",
    "For example, we know that the average Stirling number, $n \\brack k$, is $H(n)$, \n",
    "the *n*th Harmonic number, $1 + 1/2 + 1/3 + ... + 1/n$\n",
    "\n",
    "In 1734, Leonard Euler showed that $\\lim\\limits_{n \\to \\inf}(H(n) - ln(n)) = \\gamma$,\n",
    "where $\\gamma = 0.5775664...$ is the Euler-Mascheroni constant.\n",
    "\n",
    "In other words, the average number of trends in a sequence of length $N$ is about $ln(N)$.\n",
    "\n",
    "Before, you could say that when you decompose sequences of 1,000,000 random reals, you'll get a single trend one time in a million. Now, you can also say that typically you'll expect roughly $ln(10^6) \\approx 13.7$ trends."
   ]
  },
  {
   "cell_type": "markdown",
   "id": "7f22d475",
   "metadata": {},
   "source": [
    "## Counting Lengths of Longest Trends"
   ]
  },
  {
   "cell_type": "markdown",
   "id": "c7df07df",
   "metadata": {},
   "source": [
    "Let's count something else. If you list all permutations of a sequence, decomposed into trends, how long is the longest trend? We'll cannibalize the earlier code."
   ]
  },
  {
   "cell_type": "code",
   "execution_count": null,
   "id": "254f30d0",
   "metadata": {},
   "outputs": [],
   "source": [
    "def longest_trend(trendlist):\n",
    "    return max([len(trend) for trend in trendlist])\n",
    "    \n",
    "def count_longest_trends(trendlists):\n",
    "    return [longest_trend(tl) for tl in trendlists]\n",
    "\n",
    "count_longest_trends(all_trend_lists(pows(3)))"
   ]
  },
  {
   "cell_type": "code",
   "execution_count": null,
   "id": "c7004644",
   "metadata": {
    "scrolled": true
   },
   "outputs": [],
   "source": [
    "from collections import Counter\n",
    "\n",
    "counts = Counter(count_longest_trends(all_trend_lists([1, 2, 4])))\n",
    "\n",
    "for count in range(len([1,2,4])+1):\n",
    "    print(f\"the number of permutations that have a longest trend of length {count} trends is {counts[count]}\")"
   ]
  },
  {
   "cell_type": "code",
   "execution_count": null,
   "id": "dfdd21a7",
   "metadata": {},
   "outputs": [],
   "source": [
    "def l_trends(s):\n",
    "    # OEIS iiA126074\n",
    "    # Return list telling how many permutations of s have a longest trend of a given length.\n",
    "    # Include 0 at the beginning to say that no permutation has *no* trends,\n",
    "    # because, Python programmers like the first array index to be 0, not 1.\n",
    "    counts = [0]*(len(s) + 1)\n",
    "    for ltrends, count in Counter(count_longest_trends(all_trend_lists(s))).items():\n",
    "        counts[ltrends] = count\n",
    "    return counts\n",
    "\n",
    "l_trends(pows(8))"
   ]
  },
  {
   "cell_type": "markdown",
   "id": "fd650b1b",
   "metadata": {},
   "source": [
    "If you decompose each of the $8!$ permutation of `pows(8) = [1, 2, 4, 8, 16, 32, 64, 128, 256, 512]`, then 5040 have single trends of length 8, the whole sequence. \n",
    "Of course, you knew that because 1 out of every 8 is a single trend.\n",
    "$8!/8 = 7! = 5040$\n",
    "\n",
    "Now you know that $6720$ have a longest trend of length $6$!\n",
    "\n",
    "Once again, all sequences must have *some* longest trend, so the sum of `l_trends(s)` must be `factorial(len(s))`.\n",
    "\n",
    "Watch:"
   ]
  },
  {
   "cell_type": "code",
   "execution_count": null,
   "id": "e23fd9e5",
   "metadata": {},
   "outputs": [],
   "source": [
    "n = 6\n",
    "print(l_trends(pows(n)))\n",
    "nlongests = sum(l_trends(pows(n)))\n",
    "print(f\"the total number of longest trends (`l_trends`) {'is' if nlongests == factorial(n) else 'is not'} {n}!\")"
   ]
  },
  {
   "cell_type": "markdown",
   "id": "be80bca6",
   "metadata": {},
   "source": [
    "So, as sequences grow longer, how much of their decomposition is in the single, longest trend? "
   ]
  },
  {
   "cell_type": "code",
   "execution_count": null,
   "id": "faa55cc1",
   "metadata": {},
   "outputs": [],
   "source": [
    "def sum_max_trend_lengths(s):\n",
    "    # OEIS A028418\n",
    "    sum = 0\n",
    "    for l_trend, count in enumerate(l_trends(s)):\n",
    "        sum += l_trend*count\n",
    "    return sum\n",
    "\n",
    "def mean_max_trend_length(s):\n",
    "    return sum_max_trend_lengths(s)/(factorial(len(s))*len(s))\n",
    "\n",
    "for length in range(1, 10):\n",
    "    print(f\"{length=}: {mean_max_trend_length(pows(length))})\")"
   ]
  },
  {
   "cell_type": "markdown",
   "id": "e5d9f807",
   "metadata": {},
   "source": [
    "It looks like the fraction continues to drop, but our brute-force package is too slow to tell whether its assymptotic value is $> 0$"
   ]
  }
 ],
 "metadata": {
  "kernelspec": {
   "display_name": "Python 3 (ipykernel)",
   "language": "python",
   "name": "python3"
  },
  "language_info": {
   "codemirror_mode": {
    "name": "ipython",
    "version": 3
   },
   "file_extension": ".py",
   "mimetype": "text/x-python",
   "name": "python",
   "nbconvert_exporter": "python",
   "pygments_lexer": "ipython3",
   "version": "3.11.0"
  }
 },
 "nbformat": 4,
 "nbformat_minor": 5
}
