{
 "cells": [
  {
   "cell_type": "markdown",
   "id": "83c9bac2",
   "metadata": {},
   "source": [
    "# A Trends Tutorial"
   ]
  },
  {
   "cell_type": "markdown",
   "id": "1e9e57eb",
   "metadata": {},
   "source": [
    "## Monotonic Sequences"
   ]
  },
  {
   "cell_type": "markdown",
   "id": "1092e1f8",
   "metadata": {},
   "source": [
    "In a *monotonically increasing* sequence, each element is bigger than the last.\n",
    "For example, the sequence of primes, $2, 3, 5, 7, 11, 13, ...$, is monotonically increasing.\n",
    "In its doppelganger, a *monotonically decreasing* sequence, every element is less than the one before.\n",
    "Examples include $1/2, 1/3, 1/5, 1/7, 1/11, 1/13, ...$\n",
    "$-2, -3, -5, -7, -11, -13, ...$,\n",
    "and lots more that you could make up yourself.\n",
    "\n",
    "This function asks whether a list is monotonically increasing:"
   ]
  },
  {
   "cell_type": "code",
   "execution_count": 1,
   "id": "11a01067",
   "metadata": {},
   "outputs": [
    {
     "name": "stdout",
     "output_type": "stream",
     "text": [
      "is_mono_inc(seq)=False\n"
     ]
    }
   ],
   "source": [
    "def is_mono_inc(seq):\n",
    "   return all([seq[i] > seq[i-1] for i in range(1, len(seq))])\n",
    "\n",
    "seq = [1 , 1, 2, 3, 5, 8, 13, 21]\n",
    "print(f\"{is_mono_inc(seq)=}\")"
   ]
  },
  {
   "cell_type": "markdown",
   "id": "18ac32e3",
   "metadata": {},
   "source": [
    "Make up your own list below and then use `mono_inc()` to ask whether it's monotonically increasing."
   ]
  },
  {
   "cell_type": "code",
   "execution_count": null,
   "id": "c4f7650b",
   "metadata": {},
   "outputs": [],
   "source": []
  },
  {
   "cell_type": "markdown",
   "id": "20b40883",
   "metadata": {},
   "source": [
    "Typing in long lists of numbers gets old, fast.\n",
    "You can quickly generate a long sequence of random reals like this:"
   ]
  },
  {
   "cell_type": "code",
   "execution_count": 2,
   "id": "fe74a755",
   "metadata": {},
   "outputs": [
    {
     "data": {
      "text/plain": [
       "[0.08302837497661997,\n",
       " 0.8012866283514037,\n",
       " 0.8489061877465098,\n",
       " 0.04064850577570711,\n",
       " 0.8050938533091376,\n",
       " 0.6068602885026211,\n",
       " 0.5680716056924787,\n",
       " 0.00454133747765606,\n",
       " 0.6199011139750669,\n",
       " 0.6137263906435676,\n",
       " 0.3718828142167442,\n",
       " 0.3446145150160188,\n",
       " 0.702197024718513,\n",
       " 0.5491220113437081,\n",
       " 0.1606965591527184,\n",
       " 0.8728574297036538,\n",
       " 0.5896255519394028,\n",
       " 0.6133494231985195,\n",
       " 0.6918004974922952,\n",
       " 0.9628998515776316,\n",
       " 0.7259380382487426,\n",
       " 0.43355268487055865,\n",
       " 0.579035197985649,\n",
       " 0.7410237774992205,\n",
       " 0.4310718142728306,\n",
       " 0.9729371167697329,\n",
       " 0.284437571716602,\n",
       " 0.3650830388044256,\n",
       " 0.03731055304123654,\n",
       " 0.47386791764312475,\n",
       " 0.5753226516643064,\n",
       " 0.7492970746670322,\n",
       " 0.3258281295927604,\n",
       " 0.428617198250701,\n",
       " 0.051633218186161844,\n",
       " 0.9514301379208542,\n",
       " 0.47695680200177193,\n",
       " 0.27772309647662885,\n",
       " 0.4397395106324874,\n",
       " 0.6543538458453603,\n",
       " 0.9528765556437312,\n",
       " 0.18391703953962857,\n",
       " 0.770044369814355,\n",
       " 0.058144371664826666,\n",
       " 0.8300064675807404,\n",
       " 0.2575889314927333,\n",
       " 0.18948406009011198,\n",
       " 0.2122515613594662,\n",
       " 0.35615202221717823,\n",
       " 0.195368063394585]"
      ]
     },
     "execution_count": 2,
     "metadata": {},
     "output_type": "execute_result"
    }
   ],
   "source": [
    "from random import random\n",
    "[random() for _ in range(50)]"
   ]
  },
  {
   "cell_type": "markdown",
   "id": "c6d7d1df",
   "metadata": {},
   "source": [
    "\"Monotonic\" is math-speak for \"sorted\".\n",
    "Use `sorted()` to sort a sequence in increasing order, and see if it's monotonically increasing. "
   ]
  },
  {
   "cell_type": "code",
   "execution_count": null,
   "id": "547df98e",
   "metadata": {},
   "outputs": [],
   "source": []
  },
  {
   "cell_type": "markdown",
   "id": "92c4684b",
   "metadata": {},
   "source": [
    "Now, define the function `mono_dec()` to test whether a sequence is monotonically decreasing, and try it out.\n",
    "\n",
    "`sorted(s, reverse=True)` sorts a sequence `s` in reverse order."
   ]
  },
  {
   "cell_type": "code",
   "execution_count": null,
   "id": "3f215f4f",
   "metadata": {},
   "outputs": [],
   "source": []
  },
  {
   "cell_type": "markdown",
   "id": "f8c02648",
   "metadata": {},
   "source": [
    "If a sequence is either monotonically increasing or decreasing, we just say it's *monotonic*.\n",
    "Define the function `mono()` to see whether a list is monotonic, and try it out."
   ]
  },
  {
   "cell_type": "code",
   "execution_count": null,
   "id": "8963cc17",
   "metadata": {},
   "outputs": [],
   "source": []
  },
  {
   "cell_type": "markdown",
   "id": "76e10c25",
   "metadata": {},
   "source": [
    "### Edge Cases"
   ]
  },
  {
   "cell_type": "markdown",
   "id": "1b19149c",
   "metadata": {},
   "source": [
    "When two or more numbers in the sequence are equal, you've run into an edge-case. Such a list could be sorted, but not monotonic. Consder the list l = [0,1,1,1,1,1,50].  This is sorted but neither monotonically increasing nor decreasing. \n",
    "\n",
    "There are at least two easy ways to weasel out of this: one is to call such a list \"monotonically non-decreasing.\" A second, often more useful, is to stick to sequences where that will never happen. For example, if you confine yourself to sequences of random reals, the probability of duplicates in that sequence is zero.\n",
    "\n",
    "(The mathematician would say, \"The set of real sequences that are monotonically non-decreasing, yet not monotonically increasing, is of Lebesgue measure zero,\" largely to show off his ability to pronounce \"Lebesgue.\")\n",
    "\n",
    "While we can't generate reals in Python, floats suffice: the odds of duplicates in even very long list of random floats isn't zero, but it's so small that you can test for them and throw exceptions when they occur.\n",
    "\n",
    "Neither can we actually generate random floats, but pseudo-random-number generators are good enough in practice. Honest.\n",
    "\n",
    "**N.B., From here on out, when we say \"sequence,\" we'll mean a sequence of reals, and our Python programs will manipulate lists of (pseudo-)random floats.**\n",
    "\n",
    "**We'll also use \"sorted\" instead of \"monotonic\" so our less-technical kin can know what the heck we're talking about.**\n",
    "\n",
    "We'll leave edge cases and technical jargon to the mathematicians."
   ]
  },
  {
   "cell_type": "markdown",
   "id": "de2f88e7",
   "metadata": {},
   "source": [
    "## Sorted Sequences Are Rare"
   ]
  },
  {
   "cell_type": "markdown",
   "id": "752a6c56",
   "metadata": {},
   "source": [
    "Sorted sequences are interesting, but rare. In a sequence of length N, only 1 of the N! permutations will be sorted in increasing order. `math.factorial(N)` caculates $N!$.  If you generate one random real every morning, at the end of the week, the probability that your sequence will be sorted is"
   ]
  },
  {
   "cell_type": "code",
   "execution_count": 3,
   "id": "6417edf6",
   "metadata": {},
   "outputs": [
    {
     "data": {
      "text/plain": [
       "0.0001984126984126984"
      ]
     },
     "execution_count": 3,
     "metadata": {},
     "output_type": "execute_result"
    }
   ],
   "source": [
    "import math\n",
    "1/math.factorial(7)"
   ]
  },
  {
   "cell_type": "markdown",
   "id": "03ae2fc2",
   "metadata": {},
   "source": [
    "What if you do it every day for a year?"
   ]
  },
  {
   "cell_type": "code",
   "execution_count": 4,
   "id": "5be1b019",
   "metadata": {},
   "outputs": [
    {
     "data": {
      "text/plain": [
       "0.0"
      ]
     },
     "execution_count": 4,
     "metadata": {},
     "output_type": "execute_result"
    }
   ],
   "source": [
    "1/math.factorial(365)"
   ]
  },
  {
   "cell_type": "markdown",
   "id": "c81867b0",
   "metadata": {},
   "source": [
    "That last isn't actually zero, it's just too small to print; it's lost in the noise.\n",
    "\n",
    "Sorted sequences are rare. Let's lower our expectations.\n",
    "\n",
    "To do that, begin with this different, yet equivalent, definition of sorted:\n",
    "\n",
    "Put your finger between two, successive terms of your sequence.\n",
    "Suppose you discover every number to the left of your finger is less than every number to its right.\n",
    "If that's true *no matter where you put your finger*, the sequence is monotonically increasing. It's sorted.\n",
    "\n",
    "In code"
   ]
  },
  {
   "cell_type": "code",
   "execution_count": 5,
   "id": "a0cc2308",
   "metadata": {},
   "outputs": [
    {
     "name": "stdout",
     "output_type": "stream",
     "text": [
      "is_mono_inc2(seq)=True\n"
     ]
    }
   ],
   "source": [
    "def is_mono_inc2(seq):\n",
    "    n = len(seq)\n",
    "    for i in range(1, n):\n",
    "        if max(seq[:i]) > max(seq[i:]):\n",
    "            return False\n",
    "    return True\n",
    "\n",
    "print(f\"{is_mono_inc2(seq)=}\")"
   ]
  },
  {
   "cell_type": "markdown",
   "id": "258a9b45",
   "metadata": {},
   "source": [
    "Try this function on some sequences you defined earlier to verify you get the same answer."
   ]
  },
  {
   "cell_type": "code",
   "execution_count": null,
   "id": "82d819c5",
   "metadata": {},
   "outputs": [],
   "source": []
  },
  {
   "cell_type": "markdown",
   "id": "ff187473",
   "metadata": {},
   "source": [
    "# From Monotonic Sequences to Trends"
   ]
  },
  {
   "cell_type": "markdown",
   "id": "3b8b0096",
   "metadata": {},
   "source": [
    "Suppose that you buy a stock whose value changes every day.\n",
    "If its value increased monotonically over the year, you'd be delighted.\n",
    "\n",
    "If, however, its value dipped slightly on the next-to-last day, but then went back up on New-Year's Eve, you'd still be happy.\n",
    "\n",
    "Even more general: suppose that the stock price bounces up and down, but when you write them all down, you discover that the sequence of daily prices is interesting:\n",
    "wherever you put your finger, the *average* of all the stock prices to its left is less than the *average* of all those to its right. The price isn't rising uniformly, but it's rising on average.  Each day, at close-of-market, the days ahead are going to be better, on average, than the days gone by.\n",
    "\n",
    "On average, things are always looking up.\n",
    "\n",
    "We'll call this kind of sequence a *trend*."
   ]
  },
  {
   "cell_type": "code",
   "execution_count": 6,
   "id": "299bc2c3",
   "metadata": {},
   "outputs": [
    {
     "name": "stdout",
     "output_type": "stream",
     "text": [
      "seq=[1, 2, 4, 8] -> is_trend(seq)=True\n",
      "seq=[1, 2, 8, 4] -> is_trend(seq)=True\n",
      "seq=[1, 8, 2, 4] -> is_trend(seq)=False\n"
     ]
    }
   ],
   "source": [
    "from statistics import mean\n",
    "\n",
    "def is_trend(s):\n",
    "    n = len(s)\n",
    "    for i in range(1,n):\n",
    "        if mean(s[:i]) > mean(s[i:]):\n",
    "            return False\n",
    "    return True\n",
    "\n",
    "seq = [1, 2, 4, 8]\n",
    "print(f\"{seq=} -> {is_trend(seq)=}\")\n",
    "seq = [1, 2, 8, 4]\n",
    "print(f\"{seq=} -> {is_trend(seq)=}\")\n",
    "seq = [1, 8, 2, 4]\n",
    "print(f\"{seq=} -> {is_trend(seq)=}\")"
   ]
  },
  {
   "cell_type": "markdown",
   "id": "b3757606",
   "metadata": {},
   "source": [
    "Make some sequences, then use `is_trend()` to test whether they're trends."
   ]
  },
  {
   "cell_type": "code",
   "execution_count": null,
   "id": "0f39d4fe",
   "metadata": {},
   "outputs": [],
   "source": []
  },
  {
   "cell_type": "markdown",
   "id": "9d85c711",
   "metadata": {},
   "source": [
    "## What Goes Up Must Come Down"
   ]
  },
  {
   "cell_type": "markdown",
   "id": "264bf8c6",
   "metadata": {},
   "source": [
    "By the way, there are both rising and falling trends. It's easier just to talk about one or the other. We'll arbitrarily pick rising trends. When we say *trend*, it'll usually mean *rising trend*.\"\n",
    "\n",
    "A mathematician might throw in, \"Without loss of generality ...\"\n",
    "\n",
    "This choice is analogous to the one we're used to for sorting. `sort()` and `sorted()`, make monotonically *increasing* sequences, unless you give them the `reverse=True` flag.\n",
    "\n",
    "We can go back and make statements and functions for falling trends that are mirror-images of the ones we make for rising trends. Keep this in your back pocket to pull out whenever you need it. When we do, we'll say so."
   ]
  },
  {
   "cell_type": "markdown",
   "id": "557b31e4",
   "metadata": {},
   "source": [
    "## Looking for Trends (in all the wrong places)"
   ]
  },
  {
   "cell_type": "markdown",
   "id": "df6b7e83",
   "metadata": {},
   "source": [
    "You have already noticed that you can trivially turn any random sequence\n",
    "into a monotonic sequence, like this:"
   ]
  },
  {
   "cell_type": "code",
   "execution_count": 7,
   "id": "e6d330f3",
   "metadata": {},
   "outputs": [
    {
     "name": "stdout",
     "output_type": "stream",
     "text": [
      "rand_week=[0.32712114822687954, 0.7475351150633058, 0.7348787228978951, 0.8416243853659287, 0.8574203319437431, 0.49025924220925354, 0.20953583732988057]\n",
      "sort_week=[0.20953583732988057, 0.32712114822687954, 0.49025924220925354, 0.7348787228978951, 0.7475351150633058, 0.8416243853659287, 0.8574203319437431]\n"
     ]
    }
   ],
   "source": [
    "week = 7 # days to generate random numbers\n",
    "from random import random\n",
    "rand_week = [random() for _ in range(week)]  # a sequence of 10, random reals in [0,1)\n",
    "print(f\"{rand_week=}\")\n",
    "sort_week = sorted(rand_week)  # the same numbers, sorted\n",
    "print(f\"{sort_week=}\")"
   ]
  },
  {
   "cell_type": "markdown",
   "id": "82266c64",
   "metadata": {},
   "source": [
    "(If you beat the 2-in-ten-thousand odds against randomly generating a sorted sequence, please just go back and generate another sequence.) "
   ]
  },
  {
   "cell_type": "markdown",
   "id": "01021a5c",
   "metadata": {},
   "source": [
    "Can you turn the same sequence into a trend? Sure. A monotonically increasing sequence is also a trend. Just call `sorted()`. \n",
    "\n",
    "That doesn't get you anything new, though, so let's explore ... just play around a little.\n",
    "\n",
    "Even if `rand_week` isn't sorted, does it have a trend in it? \n",
    "\n",
    "Is there, for example, a trend that starts at the left end -- a prefix-trend -- even if it doesn't continue to the end? \n",
    "\n",
    "We'll start, naively, at the left end and move to the right for as long as the elements are still in a trend."
   ]
  },
  {
   "cell_type": "code",
   "execution_count": 8,
   "id": "1c9050ef",
   "metadata": {},
   "outputs": [
    {
     "name": "stdout",
     "output_type": "stream",
     "text": [
      "rand_week=[0.32712114822687954, 0.7475351150633058, 0.7348787228978951, 0.8416243853659287, 0.8574203319437431, 0.49025924220925354, 0.20953583732988057]\n",
      "naive_pfx_trend(rand_week)=[0.32712114822687954, 0.7475351150633058, 0.7348787228978951, 0.8416243853659287, 0.8574203319437431]\n"
     ]
    }
   ],
   "source": [
    "def naive_pfx_trend(s):\n",
    "    for i in range(1, len(s)):\n",
    "        if not is_trend(s[:i]):\n",
    "            return s[:i-1]\n",
    "print(f\"{rand_week=}\")\n",
    "print(f\"{naive_pfx_trend(rand_week)=}\")"
   ]
  },
  {
   "cell_type": "markdown",
   "id": "7b44b86e",
   "metadata": {},
   "source": [
    "Make up some other sequences and try `naive_pfx_trend()` on them."
   ]
  },
  {
   "cell_type": "code",
   "execution_count": null,
   "id": "ac129fde",
   "metadata": {},
   "outputs": [],
   "source": []
  },
  {
   "cell_type": "markdown",
   "id": "fdbfe0fd",
   "metadata": {},
   "source": [
    "This seems too cautious. We're shooting too low.\n",
    "\n",
    "Here's why: What about a sequence that dips enough to end an early trend, but then picks back up again? What about, say, `[1, 4, 2, 8, 16]`, which isn't sorted, but is a trend taken as a whole?"
   ]
  },
  {
   "cell_type": "code",
   "execution_count": 9,
   "id": "ba576e0d",
   "metadata": {},
   "outputs": [
    {
     "name": "stdout",
     "output_type": "stream",
     "text": [
      "naive_pfx_trend(seq)=[1, 4]\n",
      "is_trend(seq)=True\n"
     ]
    }
   ],
   "source": [
    "seq = [1, 4, 2, 8, 16]\n",
    "print(f\"{naive_pfx_trend(seq)=}\")\n",
    "print(f\"{is_trend(seq)=}\")"
   ]
  },
  {
   "cell_type": "markdown",
   "id": "f67dc96c",
   "metadata": {},
   "source": [
    "Seems like our function should just return the whole trend.\n",
    "\n",
    "More to the point, it should pick this, longer prefix trend out of, say,\n",
    "`[1, 4, 2, 8, 16, 1, 4, 2, 8, 1, 2]`.\n",
    "\n",
    "Can we pick out the *longest* prefix that forms a trend?\n",
    "\n",
    "Easy. Just start from the other end.\n",
    "Begin with the whole sequence and back up from the right\n",
    "until you find the first, long trend."
   ]
  },
  {
   "cell_type": "code",
   "execution_count": 10,
   "id": "e53dd11e",
   "metadata": {},
   "outputs": [],
   "source": [
    "def pfx_trend(s):\n",
    "    t = s.copy()\n",
    "    while t:\n",
    "        if is_trend(t):\n",
    "            return t\n",
    "        t.pop()"
   ]
  },
  {
   "cell_type": "markdown",
   "id": "c19e6dac",
   "metadata": {},
   "source": [
    "We're being careful not to modify the original sequence with `pop()`.\n",
    "We might want to go back and look at it again.\n",
    "`pfx_trend()` returns a copy of the original prefix."
   ]
  },
  {
   "cell_type": "code",
   "execution_count": 11,
   "id": "c7b959d5",
   "metadata": {},
   "outputs": [
    {
     "name": "stdout",
     "output_type": "stream",
     "text": [
      "pfx_trend(s)=[1, 4, 2, 8, 16]\n",
      "s=[1, 4, 2, 8, 16, 1, 4, 2, 8, 1, 2]\n"
     ]
    }
   ],
   "source": [
    "s = [1, 4, 2, 8, 16, 1, 4, 2, 8, 1, 2]\n",
    "print(f\"{pfx_trend(s)=}\")\n",
    "print(f\"{s=}\")"
   ]
  },
  {
   "cell_type": "markdown",
   "id": "9cc3190b",
   "metadata": {},
   "source": [
    "Now we're getting somewhere! Having done that, carve the biggest trend out of what remains."
   ]
  },
  {
   "cell_type": "code",
   "execution_count": 12,
   "id": "a88fc2ec",
   "metadata": {},
   "outputs": [
    {
     "name": "stdout",
     "output_type": "stream",
     "text": [
      "s=[1, 4, 2, 8, 16, 1, 4, 2, 8, 1, 2]\n",
      "suffix=[1, 4, 2, 8, 1, 2]\n",
      "next_trend=[1, 4, 2, 8]\n"
     ]
    }
   ],
   "source": [
    "print(f\"{s=}\")\n",
    "pfx_len = len(pfx_trend(s)) # length of that prefix\n",
    "suffix = s[pfx_len:] # the rest of the sequence\n",
    "print(f\"{suffix=}\")\n",
    "next_trend = pfx_trend(suffix) # the *next* long trend\n",
    "print(f\"{next_trend=}\")"
   ]
  },
  {
   "cell_type": "markdown",
   "id": "2e6e3014",
   "metadata": {},
   "source": [
    "You can keep this up until you've decomposed the whole sequence into the biggest trends you can find.\n",
    "\n",
    "We've played a little fast-and-loose for a minute, using sequences of integers instead of reals, because they take up less space. If it makes you feel better, put a `.0` after each int.\n",
    "\n",
    "It's a tutorial. Go with it."
   ]
  },
  {
   "cell_type": "code",
   "execution_count": 13,
   "id": "0d90e149",
   "metadata": {},
   "outputs": [],
   "source": [
    "def trendlist(s):\n",
    "    '''Decompose s into a list of maximal trends.'''\n",
    "    trendlist = []          # all trends in the decomposition\n",
    "    while s:\n",
    "        p = pfx_trend(s)    # get the longest prefix\n",
    "        trendlist.append(p) # append it to the list of trends\n",
    "        p_len = len(p)      # how long was that prefix?\n",
    "        s = s[p_len:]       # get ready to start again with the rest of the sequence\n",
    "    return trendlist"
   ]
  },
  {
   "cell_type": "markdown",
   "id": "0944b54b",
   "metadata": {},
   "source": [
    "We'll show it off with a long, random sequence."
   ]
  },
  {
   "cell_type": "code",
   "execution_count": 14,
   "id": "57d074e4",
   "metadata": {},
   "outputs": [
    {
     "name": "stdout",
     "output_type": "stream",
     "text": [
      "trend_lengths=[3, 4, 12, 7, 14, 52, 2, 6]\n",
      "sum(trend_lengths)=100\n"
     ]
    }
   ],
   "source": [
    "trends = trendlist([random() for _ in range(100)]) # decompose a long, random sequence\n",
    "trend_lengths = [len(trend) for trend in trends]    # get their lengths\n",
    "print(f\"{trend_lengths=}\")                          # what were they?\n",
    "print(f\"{sum(trend_lengths)=}\")"
   ]
  },
  {
   "cell_type": "markdown",
   "id": "d3f2ac83",
   "metadata": {},
   "source": [
    "Run this a few times, to see that the decompositions differ every time.\n",
    "(After all, they're random sequences.)\n",
    "Still, this always decomposes the sequence completely: the sums of the trend lengths are always that of the whole sequence.\n",
    "\n",
    "Try decomposing a sequence or two of your own."
   ]
  },
  {
   "cell_type": "code",
   "execution_count": null,
   "id": "beadfd4f",
   "metadata": {},
   "outputs": [],
   "source": []
  },
  {
   "cell_type": "markdown",
   "id": "40fb0400",
   "metadata": {},
   "source": [
    "This decomposition is easy, easy-to-understand, and unique.\n",
    "\n",
    "Now you can ask questions like, \"What's the average number of trends in a random sequence?\" and \"How long are they?\""
   ]
  },
  {
   "cell_type": "code",
   "execution_count": 15,
   "id": "75371b2e",
   "metadata": {},
   "outputs": [],
   "source": [
    "## Trend Means in a Trendlist Drop From Right to Left"
   ]
  },
  {
   "cell_type": "markdown",
   "id": "097034d2",
   "metadata": {},
   "source": [
    "If you think about it, you can see that each trend's mean will always lie between the means of the trends on either side -- less than the one on its left, greater than the one on its right. The trend means are sorted in decreasing order."
   ]
  },
  {
   "cell_type": "code",
   "execution_count": 16,
   "id": "7d672dc0",
   "metadata": {},
   "outputs": [
    {
     "name": "stdout",
     "output_type": "stream",
     "text": [
      "mean(trend)=0.5088821064378778\n",
      "mean(trend)=0.45723445092611936\n",
      "mean(trend)=0.40314513948686737\n",
      "mean(trend)=0.32397489144241065\n"
     ]
    }
   ],
   "source": [
    "trends = trendlist([random() for _ in range(100)])\n",
    "for trend in trends:\n",
    "    print(f\"{mean(trend)=}\")"
   ]
  },
  {
   "cell_type": "markdown",
   "id": "da5ce87b",
   "metadata": {},
   "source": [
    "Why? Whenever a trend's mean is less than that of the trend on its right, the two merge into a single, longer trend."
   ]
  },
  {
   "cell_type": "code",
   "execution_count": 17,
   "id": "926a51e7",
   "metadata": {},
   "outputs": [
    {
     "name": "stdout",
     "output_type": "stream",
     "text": [
      "is_trend(a)=True, is_trend(b)=True, is_trend(a+b)=False, is_trend(b+a)=True\n"
     ]
    }
   ],
   "source": [
    "a = trends[2]\n",
    "b = trends[3]\n",
    "print(f\"{is_trend(a)=}, {is_trend(b)=}, {is_trend(a+b)=}, {is_trend(b+a)=}\")"
   ]
  },
  {
   "cell_type": "markdown",
   "id": "36673f2a",
   "metadata": {},
   "source": [
    "This isn't hard to prove for yourself, if you want to, \n",
    "but proofs are a little out of scope for a tutorial.\n",
    "\n",
    "Instead, just experiment a little to see for yourself."
   ]
  },
  {
   "cell_type": "code",
   "execution_count": null,
   "id": "9738550b",
   "metadata": {},
   "outputs": [],
   "source": []
  },
  {
   "cell_type": "markdown",
   "id": "76d74311",
   "metadata": {},
   "source": [
    "## Counting Trends\n",
    "\n",
    "Out of the $N!$ arrangements of $N$ random reals, only one is sorted. \n",
    "\n",
    "How many are trends? At least one, because the sorted sequence is a trend.\n",
    "There are trends that aren't sorted, so more than that.\n",
    "But not all sequences are trends.\n",
    "\n",
    "Can we say how many are? Yup.\n",
    "\n",
    "Again, we'll start by decomposing a big, random sequence into trends."
   ]
  },
  {
   "cell_type": "code",
   "execution_count": 18,
   "id": "e240227b",
   "metadata": {},
   "outputs": [
    {
     "name": "stdout",
     "output_type": "stream",
     "text": [
      "mean(trend)=0.4865076595392952\n",
      "mean(trend)=0.46791039958803987\n"
     ]
    }
   ],
   "source": [
    "trends = trendlist([random() for _ in range(100)])\n",
    "for trend in trends:\n",
    "    print(f\"{mean(trend)=}\")"
   ]
  },
  {
   "cell_type": "markdown",
   "id": "e5184cb5",
   "metadata": {},
   "source": [
    "But now, let's *circularly permute* those trends.\n",
    "\n",
    "If you've never thought about circular permutations, here's a brief description.\n",
    "If you have, you can skip it."
   ]
  },
  {
   "cell_type": "markdown",
   "id": "d667d3f5",
   "metadata": {},
   "source": [
    "### The Circle Game"
   ]
  },
  {
   "cell_type": "markdown",
   "id": "86d71b86",
   "metadata": {},
   "source": [
    "A circular permutation of the sequence, S, just peels off one end of the sequence and sticks it on the other.\n",
    "\n",
    "It's called \"circular\" because it's treating the sequence as though the head and the tail are  like the worm ouroboros\n",
    "\n",
    "The standard library `collections` has a submodule, `collections.deque` to handles circular permutations, but for the tutorial, let's just rotate by hand to make things obvious."
   ]
  },
  {
   "cell_type": "code",
   "execution_count": 19,
   "id": "ab0e580f",
   "metadata": {},
   "outputs": [
    {
     "name": "stdout",
     "output_type": "stream",
     "text": [
      "seq=[0, 1, 2, 3, 4, 5, 6, 7, 8, 9]\n",
      "rotate(seq, 4)=[4, 5, 6, 7, 8, 9, 0, 1, 2, 3]\n"
     ]
    }
   ],
   "source": [
    "def rotate(s, i=1):\n",
    "    return s[i:] + s[:i]\n",
    "seq = list(range(10))\n",
    "print(f\"{seq=}\", f\"{rotate(seq, 4)=}\", sep=\"\\n\")"
   ]
  },
  {
   "cell_type": "markdown",
   "id": "4807c878",
   "metadata": {},
   "source": [
    "Try this with sequences of your own."
   ]
  },
  {
   "cell_type": "code",
   "execution_count": null,
   "id": "29b084e2",
   "metadata": {},
   "outputs": [],
   "source": []
  },
  {
   "cell_type": "markdown",
   "id": "6a9bbff0",
   "metadata": {},
   "source": [
    "Can you implement your own `rotate()` with `deque`?"
   ]
  },
  {
   "cell_type": "code",
   "execution_count": 20,
   "id": "f57acfb4",
   "metadata": {},
   "outputs": [],
   "source": [
    "from collections import deque\n"
   ]
  },
  {
   "cell_type": "markdown",
   "id": "20486dd8",
   "metadata": {},
   "source": [
    "### Exactly One Circular Permutation Is a Trend"
   ]
  },
  {
   "cell_type": "markdown",
   "id": "1b5b820f",
   "metadata": {},
   "source": [
    "We've arrived.\n",
    "\n",
    "- Take a random sequence, $S = [s_0, s_1, ... s_n]$ . \n",
    "\n",
    "- Decompose it into a list of trends \n",
    "\n",
    "$T_0 = [A, B, ..., K] = [[a_0, a_1, ...], [b_0, b_1, ... ], ..., [k_0, k_1 ...] ]$\n",
    "\n",
    "The mean of these trends decreases, monotonically: `mean(A) > mean(B) > ... > mean(K)`\n",
    "\n",
    "- Rotate the sequence, moving the first (leftmost) trend to the end:\n",
    "\n",
    "$T_1 = [B, C, ..., K, A] = [[b_0, b_1, ... ], [c_0, c_1, ...], ..., [k_0, k_1, ...], [a_0, a_1, ...] + ]$\n",
    "\n",
    "- Because `mean(K) < mean(A)`. K and A can merge into a single trend!\n",
    "\n",
    "The number of trends has decreased.\n",
    "\n",
    "Now, it's just \"rinse, lather, repeat.\" Keep doing this, decreasing the number of trends at every rotation, until there's only one left.\n",
    "\n",
    "Every random sequence has a circular permutation that is a single trend."
   ]
  },
  {
   "cell_type": "code",
   "execution_count": 21,
   "id": "e9652ff3",
   "metadata": {},
   "outputs": [
    {
     "name": "stdout",
     "output_type": "stream",
     "text": [
      "pows(10)=[1, 2, 4, 8, 16, 32, 64, 128, 256, 512]\n",
      "seq=[1, 2, 4, 8, 16, 32, 64, 128, 256, 512, 1, 2, 4, 8, 16, 32, 1, 2]\n",
      "trends=[[1, 2, 4, 8, 16, 32, 64, 128, 256, 512], [1, 2, 4, 8, 16, 32], [1, 2]]\n",
      "rotated=[1, 2, 4, 8, 16, 32, 1, 2, 1, 2, 4, 8, 16, 32, 64, 128, 256, 512]\n",
      "trendlist(rotated)=[[1, 2, 4, 8, 16, 32, 1, 2, 1, 2, 4, 8, 16, 32, 64, 128, 256, 512]]\n"
     ]
    }
   ],
   "source": [
    "from trendlist.simple import pows # powers of 2\n",
    "\n",
    "def print_trend_lengths(trends):\n",
    "    print(f\"{[len(trend) for trend in trends]}\")    \n",
    "\n",
    "print(f\"{pows(10)=}\")  # pows is powers of two \n",
    "seq = pows(10) + pows(6) + pows(2) # concatenate three lists\n",
    "print(f\"{seq=}\")\n",
    "trends = trendlist(seq) # decompose into trends\n",
    "print(f\"{trends=}\")\n",
    "rotated = rotate(seq, 10) # rotate the first trend from the left end to the right.\n",
    "print(f\"{rotated=}\")\n",
    "print(f\"{trendlist(rotated)=}\")"
   ]
  },
  {
   "cell_type": "markdown",
   "id": "df18c184",
   "metadata": {},
   "source": [
    "Whoa!  We rotated *one* trend to the end and it all merged. That's worth understanding. \n",
    "\n",
    "$\\mu(first) > \\mu(last)$\n",
    "so the last trend will always merge with the first one to make a new, longer end trend.\n",
    "But when it does, that new end trend has a new, bigger mean.\n",
    "In the original sequence, $\\mu(next-to-last) > \\mu(end)$. \n",
    "Maybe that's not still true.\n",
    "If not, there's another merge waiting to happen, next-to-last with (the new) end.\n",
    "And if you merge those, maybe that triggers another merge.\n",
    "\n",
    "In other words, a circular permutation decreases the number of trends. It might decrease that number by one, but it could decrease it by more.\n",
    "Still, rotating will eventually get you a single trend.\n",
    "\n",
    "Define your own sequences and give it a try."
   ]
  },
  {
   "cell_type": "code",
   "execution_count": null,
   "id": "5cf9fc5f",
   "metadata": {},
   "outputs": [],
   "source": []
  },
  {
   "cell_type": "markdown",
   "id": "ab7a1bc4",
   "metadata": {},
   "source": [
    "Here's a function that finds that rotation."
   ]
  },
  {
   "cell_type": "code",
   "execution_count": 22,
   "id": "a993a0b6",
   "metadata": {},
   "outputs": [],
   "source": [
    "def single_trend(s):\n",
    "    ts = trendlist(s)\n",
    "    if len(ts) == 1:        # already a single trend\n",
    "        return s            # you're done\n",
    "    mean_s = mean(s)\n",
    "    rotate = 0\n",
    "    for t in ts:\n",
    "        mean_t = mean(t)\n",
    "        if mean_t < mean_s: # find the first trend with mean < mean(seq)\n",
    "            return s[rotate:] + s[:rotate]\n",
    "        rotate += len(t)"
   ]
  },
  {
   "cell_type": "markdown",
   "id": "f76f99a6",
   "metadata": {},
   "source": [
    "We've optimized a little by noticing that every trend on the right end that has a mean less than the overall mean will end up merging into the left on rotation. Can you see why?"
   ]
  },
  {
   "cell_type": "markdown",
   "id": "673bf4fc",
   "metadata": {},
   "source": [
    "Watch it work on rand_week"
   ]
  },
  {
   "cell_type": "code",
   "execution_count": 23,
   "id": "29441fe1",
   "metadata": {},
   "outputs": [
    {
     "name": "stdout",
     "output_type": "stream",
     "text": [
      "rand_week=[0.32712114822687954, 0.7475351150633058, 0.7348787228978951, 0.8416243853659287, 0.8574203319437431, 0.49025924220925354, 0.20953583732988057]\n",
      "single_trend(rand_week)=[0.49025924220925354, 0.20953583732988057, 0.32712114822687954, 0.7475351150633058, 0.7348787228978951, 0.8416243853659287, 0.8574203319437431]\n",
      "is_trend(single_trend(rand_week))=True\n"
     ]
    }
   ],
   "source": [
    "print(f\"{rand_week=}\")\n",
    "print(f\"{single_trend(rand_week)=}\")\n",
    "print(f\"{is_trend(single_trend(rand_week))=}\")"
   ]
  },
  {
   "cell_type": "markdown",
   "id": "c2e43c8f",
   "metadata": {},
   "source": [
    "Then try it on a random sequence of your own. Use `is_trend()` to verify your result."
   ]
  },
  {
   "cell_type": "code",
   "execution_count": null,
   "id": "688a59fb",
   "metadata": {},
   "outputs": [],
   "source": []
  },
  {
   "cell_type": "markdown",
   "id": "8aad7d6d",
   "metadata": {},
   "source": [
    "So:\n",
    "\n",
    "1. Any set of $N$ random reals has $N!$ permutations. \n",
    "1. One of them is monotonically increasing\n",
    "1. $N!/N = (N-1)!$ are increasing trends.\n",
    "1. Every real sequence has *exactly* one circular permutation that's a trend."
   ]
  },
  {
   "cell_type": "markdown",
   "id": "ced84010",
   "metadata": {},
   "source": [
    "If you generate a random number daily, when you wake up in the morning, at the end of the week your chance of having generated a trend is $1/7$.  At the end of a year? $1/365$. A 70-year lifespan?"
   ]
  },
  {
   "cell_type": "code",
   "execution_count": 24,
   "id": "e016e217",
   "metadata": {
    "scrolled": true
   },
   "outputs": [
    {
     "name": "stdout",
     "output_type": "stream",
     "text": [
      "A 70-year-lifespan's worth of days: 25550\n"
     ]
    }
   ],
   "source": [
    "print(f\"A 70-year-lifespan's worth of days: {70*365}\")"
   ]
  },
  {
   "cell_type": "markdown",
   "id": "095b1f24",
   "metadata": {},
   "source": [
    "The odds of a 70-year-lifetime's worth of daily, random floats being sorted? Bupkis. Of being a trend? About 1/25,000."
   ]
  },
  {
   "cell_type": "markdown",
   "id": "488d2499",
   "metadata": {},
   "source": [
    "Maybe you didn't expect that.\n",
    "\n",
    "My city has about 100,000 people. so 1 in 4 of us would have a trend."
   ]
  },
  {
   "cell_type": "markdown",
   "id": "fd443778",
   "metadata": {},
   "source": [
    "## Now We Can Ask Some More Questions"
   ]
  },
  {
   "cell_type": "markdown",
   "id": "05dc211e",
   "metadata": {},
   "source": [
    "### How Fast Can We Find Trends?"
   ]
  },
  {
   "cell_type": "markdown",
   "id": "52d1c839",
   "metadata": {},
   "source": [
    "It would be nice to look at trends in really long sequences,\n",
    "like the 25,000 daily random numbers from a lifespan.\n",
    "\n",
    "We've been using `pows()` to generate sequences, but it chokes trying to generate sequences longer than a few hunderd.\n",
    "\n",
    "Let's import the random-sequence generator, `rands()` from the trendlist package."
   ]
  },
  {
   "cell_type": "code",
   "execution_count": 25,
   "id": "75df8289",
   "metadata": {},
   "outputs": [
    {
     "name": "stdout",
     "output_type": "stream",
     "text": [
      "rands is <generator object rands at 0x107629660>\n",
      "list(rands(5))=[0.9406408063681388, 0.9808779993056174, 0.030796720866265725, 0.6788607033243702, 0.6695684738354775]\n"
     ]
    }
   ],
   "source": [
    "from trendlist import rands\n",
    "print(f\"rands is {rands(5)}\")\n",
    "print(f\"{list(rands(5))=}\")"
   ]
  },
  {
   "cell_type": "markdown",
   "id": "a892cfe0",
   "metadata": {},
   "source": [
    "`rands()` lets us generate really long, trendy sequences, which brings us to the next problem: our `trendlist()` function can't handle the long sequences it generates. \n",
    "\n",
    "Even with sequences of a hundred or so random floats, decomposing them with `trendlist()` feels like punching through molasses."
   ]
  },
  {
   "cell_type": "code",
   "execution_count": 26,
   "id": "7930e9c3",
   "metadata": {
    "scrolled": false
   },
   "outputs": [
    {
     "name": "stdout",
     "output_type": "stream",
     "text": [
      "1: 29.1 µs ± 256 ns per loop (mean ± std. dev. of 7 runs, 10,000 loops each)\n",
      "2: 41.3 µs ± 150 ns per loop (mean ± std. dev. of 7 runs, 10,000 loops each)\n",
      "4: 92.8 µs ± 868 ns per loop (mean ± std. dev. of 7 runs, 10,000 loops each)\n",
      "8: 300 µs ± 2.96 µs per loop (mean ± std. dev. of 7 runs, 1,000 loops each)\n",
      "16: 1.14 ms ± 12.1 µs per loop (mean ± std. dev. of 7 runs, 1,000 loops each)\n",
      "32: 4.88 ms ± 160 µs per loop (mean ± std. dev. of 7 runs, 100 loops each)\n",
      "64: 23.2 ms ± 584 µs per loop (mean ± std. dev. of 7 runs, 100 loops each)\n",
      "128: 123 ms ± 29.1 ms per loop (mean ± std. dev. of 7 runs, 1 loop each)\n"
     ]
    }
   ],
   "source": [
    "for i in range(8):\n",
    "    n = 2**i\n",
    "    print(f\"{n}: \", end=\"\")\n",
    "    %timeit trendlist(list(rands(n)))"
   ]
  },
  {
   "cell_type": "markdown",
   "id": "9ee2b914",
   "metadata": {},
   "source": [
    "For industrial-strength jobs, the `trendlist` package offers a pair of classes, `Trend` and `Trendlist` that will handle the task."
   ]
  },
  {
   "cell_type": "code",
   "execution_count": 27,
   "id": "4028e465",
   "metadata": {
    "scrolled": true
   },
   "outputs": [
    {
     "name": "stdout",
     "output_type": "stream",
     "text": [
      "1: 29.3 µs ± 38.4 ns per loop (mean ± std. dev. of 7 runs, 10,000 loops each)\n",
      "2: 30.9 µs ± 127 ns per loop (mean ± std. dev. of 7 runs, 10,000 loops each)\n",
      "4: 34.4 µs ± 132 ns per loop (mean ± std. dev. of 7 runs, 10,000 loops each)\n",
      "8: 42.4 µs ± 242 ns per loop (mean ± std. dev. of 7 runs, 10,000 loops each)\n",
      "16: 57.8 µs ± 287 ns per loop (mean ± std. dev. of 7 runs, 10,000 loops each)\n",
      "32: 88.5 µs ± 126 ns per loop (mean ± std. dev. of 7 runs, 10,000 loops each)\n",
      "64: 150 µs ± 330 ns per loop (mean ± std. dev. of 7 runs, 10,000 loops each)\n",
      "128: 275 µs ± 503 ns per loop (mean ± std. dev. of 7 runs, 1,000 loops each)\n"
     ]
    }
   ],
   "source": [
    "from trendlist import TrendList\n",
    "for i in range(8):\n",
    "    n = 2**i\n",
    "    print(f\"{n}: \", end=\"\")\n",
    "    %timeit TrendList(rands(n))"
   ]
  },
  {
   "cell_type": "markdown",
   "id": "44e2a986",
   "metadata": {},
   "source": [
    "TrendList handles sequences of 25,000 floats without breaking a sweat. "
   ]
  },
  {
   "cell_type": "code",
   "execution_count": 28,
   "id": "df514308",
   "metadata": {},
   "outputs": [
    {
     "name": "stdout",
     "output_type": "stream",
     "text": [
      "TrendList(rands(25_000))=[Trend(mean=0.8569355025861051, length=1), Trend(mean=0.550929398493027, length=68), Trend(mean=0.5291074443010918, length=87), Trend(mean=0.506622665120056, length=12), Trend(mean=0.5036643389846974, length=13568), Trend(mean=0.5035751637271891, length=8), Trend(mean=0.5029488138000413, length=10218), Trend(mean=0.49160839732061123, length=132), Trend(mean=0.4874826477246316, length=638), Trend(mean=0.4874543740704897, length=268)]\n",
      "48.9 ms ± 87.5 µs per loop (mean ± std. dev. of 7 runs, 10 loops each)\n"
     ]
    }
   ],
   "source": [
    "print(f\"{TrendList(rands(25_000))=}\")\n",
    "%timeit TrendList(rands(25_000))"
   ]
  },
  {
   "cell_type": "markdown",
   "id": "75ebe9c1",
   "metadata": {},
   "source": [
    "It gets its speed by keeping only the means and lengths of the trends it finds.\n",
    "For many questions, this is plenty:\n",
    "\n",
    "* What is the average number of trends?\n",
    "* How long is the longest trend?\n",
    "* ...\n",
    "\n",
    "By the time it finishes, `TrendList` has no information about the original sequence except means and lengths. It has sacrificed all memory of numbers in a trade for speed and space.\n",
    "\n",
    "This is enough to let us do Monte Carlo simulations to explore statistics of even very long trends.\n",
    "\n",
    "*And how fast does `TrendList` decompose sequences of length $N$?*\n",
    "\n",
    "Is it $O(log(N))$? $O(Nlog(N))$?\n",
    "You know: all those computer-science-y questions."
   ]
  },
  {
   "cell_type": "markdown",
   "id": "ba60a67c",
   "metadata": {},
   "source": [
    "### Count Chocula Counts the Trends\n",
    "\n",
    "Another kind of question is \"How many lists of length $N$ have *exactly* $K$ trends?\n",
    "\n",
    "This looks at the telescope through the other end. It's a problem in enumerative combinatorics.\n",
    "\n",
    "We already know an imporant answer: one in $N$ has exactly 1. Trivially, we can also say none has fewer than one, or more than $N$. A little thought will probably convince you that only one in $N$ has $N$ trends: the sequences that are sorted in decreasing order.\n",
    "\n",
    "Let's confirm this by writing some code.\n",
    "\n",
    "First, here are all the permutations of [1, 2, 4, 8]"
   ]
  },
  {
   "cell_type": "code",
   "execution_count": 29,
   "id": "272a70fc",
   "metadata": {},
   "outputs": [
    {
     "name": "stdout",
     "output_type": "stream",
     "text": [
      "perms=[(1, 2, 4, 8), (1, 2, 8, 4), (1, 4, 2, 8), (1, 4, 8, 2), (1, 8, 2, 4), (1, 8, 4, 2), (2, 1, 4, 8), (2, 1, 8, 4), (2, 4, 1, 8), (2, 4, 8, 1), (2, 8, 1, 4), (2, 8, 4, 1), (4, 1, 2, 8), (4, 1, 8, 2), (4, 2, 1, 8), (4, 2, 8, 1), (4, 8, 1, 2), (4, 8, 2, 1), (8, 1, 2, 4), (8, 1, 4, 2), (8, 2, 1, 4), (8, 2, 4, 1), (8, 4, 1, 2), (8, 4, 2, 1)]\n"
     ]
    }
   ],
   "source": [
    "import itertools\n",
    "\n",
    "perms = list(itertools.permutations(pows(4)))\n",
    "print(f\"{perms=}\")"
   ]
  },
  {
   "cell_type": "markdown",
   "id": "4a785e4c",
   "metadata": {},
   "source": [
    "We're predicting exactly $4! = 24$ permutations, $4!/4 = 3! = 6$ single trends, and one permutation with $4$ trends."
   ]
  },
  {
   "cell_type": "code",
   "execution_count": 30,
   "id": "57eda97b",
   "metadata": {},
   "outputs": [
    {
     "name": "stdout",
     "output_type": "stream",
     "text": [
      "len(perms)=24\n",
      "len(single_trends)=6\n",
      "len(four_trends)=1\n"
     ]
    }
   ],
   "source": [
    "perms = [list(perm) for perm in perms] # trendlist.simple functions want lists, not tuples\n",
    "single_trends = [perm for perm in perms if is_trend(perm)]\n",
    "four_trends = [perm for perm in perms if (len(trendlist(perm)) == 4)]\n",
    "print(f\"{len(perms)=}\", f\"{len(single_trends)=}\", f\"{len(four_trends)=}\", sep=\"\\n\")"
   ]
  },
  {
   "cell_type": "markdown",
   "id": "14256084",
   "metadata": {},
   "source": [
    "*But can we say how many trends will have exactly $2$ permutations? Exactly $3$? The *exact* expected number of trends in sequences of length $N$?*"
   ]
  },
  {
   "cell_type": "markdown",
   "id": "c78b196a",
   "metadata": {},
   "source": [
    "### Random, Shmandum.\n",
    "\n",
    "We've looked at trends in three kinds of sequences: hand-crafted sequences of various sorts, random reals, and permutations of the powers of |two. \n",
    "\n",
    "What if the sequence isn't at all random; what if it already has a pattern of some sort?\n",
    "\n",
    "We know a few, special answers. "
   ]
  },
  {
   "cell_type": "markdown",
   "id": "3603d2ac",
   "metadata": {},
   "source": [
    "Unsurprisingly, \n",
    "\n",
    "* ***There's only one trend in a trend.***"
   ]
  },
  {
   "cell_type": "code",
   "execution_count": 31,
   "id": "b43b3627",
   "metadata": {},
   "outputs": [
    {
     "name": "stdout",
     "output_type": "stream",
     "text": [
      "seq=[1, 2, 4, 8, 16, 1, 2, 4, 8, 1, 2, 4, 1, 2, 1]\n",
      "trends=[[1, 2, 4, 8, 16], [1, 2, 4, 8], [1, 2, 4], [1, 2], [1]]\n",
      "trend [1, 2, 4, 8, 16] has 1 trend(s)\n",
      "trend [1, 2, 4, 8] has 1 trend(s)\n",
      "trend [1, 2, 4] has 1 trend(s)\n",
      "trend [1, 2] has 1 trend(s)\n",
      "trend [1] has 1 trend(s)\n"
     ]
    }
   ],
   "source": [
    "# make a long sequence that's not a trend\n",
    "seq = []\n",
    "for i in range(5, 0, -1):\n",
    "    seq += pows(i)\n",
    "trends = trendlist(seq)\n",
    "print(f\"{seq=}\", f\"{trends=}\", sep=\"\\n\")\n",
    "# and count the trends in each trend (should just be one in each)\n",
    "for trend in trends:\n",
    "    print(f\"trend {trend} has {len(trendlist(trend))} trend(s)\")"
   ]
  },
  {
   "cell_type": "markdown",
   "id": "9181e737",
   "metadata": {},
   "source": [
    "* ***Sorted sequences have a single trend.***"
   ]
  },
  {
   "cell_type": "code",
   "execution_count": 32,
   "id": "ea30c60c",
   "metadata": {},
   "outputs": [
    {
     "name": "stdout",
     "output_type": "stream",
     "text": [
      "len(TrendList(rands_100))=4\n",
      "len(TrendList(sorted_100))=1\n"
     ]
    }
   ],
   "source": [
    "rands_100 = list(rands(100))\n",
    "sorted_100 = sorted(rands_100)\n",
    "print(f\"{len(TrendList(rands_100))=}\", f\"{len(TrendList(sorted_100))=}\", sep=\"\\n\")"
   ]
  },
  {
   "cell_type": "markdown",
   "id": "4d6fb0a5",
   "metadata": {},
   "source": [
    "* ***Reverse-sorted sequences have $N$ trends -- one trend per sequence element.***"
   ]
  },
  {
   "cell_type": "code",
   "execution_count": 33,
   "id": "4ad68309",
   "metadata": {},
   "outputs": [
    {
     "name": "stdout",
     "output_type": "stream",
     "text": [
      "len(TrendList(rands_100))=4\n",
      "len(TrendList(reversed_100))=100\n"
     ]
    }
   ],
   "source": [
    "reversed_100 = sorted(rands_100, reverse=True)\n",
    "print(f\"{len(TrendList(rands_100))=}\", f\"{len(TrendList(reversed_100))=}\", sep=\"\\n\")"
   ]
  },
  {
   "cell_type": "markdown",
   "id": "df382042",
   "metadata": {},
   "source": [
    "*But how many trends would we expect in a \"sort-of-sorted\" sequence?*\n",
    "\n",
    "For that matter, what could that even mean?"
   ]
  },
  {
   "cell_type": "markdown",
   "id": "eecd93a0",
   "metadata": {},
   "source": [
    "## Summary\n",
    "\n",
    "You know what trends are, how to use the `trendlist` and `trendlist.simple` modules to play with them, and some questions you can ask.\n",
    "\n",
    "For more details, see the other notebooks, or just go play."
   ]
  },
  {
   "cell_type": "code",
   "execution_count": null,
   "id": "92015ac1",
   "metadata": {},
   "outputs": [],
   "source": []
  }
 ],
 "metadata": {
  "kernelspec": {
   "display_name": "Python 3 (ipykernel)",
   "language": "python",
   "name": "python3"
  },
  "language_info": {
   "codemirror_mode": {
    "name": "ipython",
    "version": 3
   },
   "file_extension": ".py",
   "mimetype": "text/x-python",
   "name": "python",
   "nbconvert_exporter": "python",
   "pygments_lexer": "ipython3",
   "version": "3.11.0"
  }
 },
 "nbformat": 4,
 "nbformat_minor": 5
}
