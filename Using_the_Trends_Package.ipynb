{
 "cells": [
  {
   "cell_type": "markdown",
   "id": "64698775",
   "metadata": {},
   "source": [
    "# Using the `trendlist` Package"
   ]
  },
  {
   "cell_type": "markdown",
   "id": "b086dc4c",
   "metadata": {},
   "source": [
    "`trendlist` is a Python package that lets you create, manipulate, and explore trends.\n",
    "This notebook will show you how to use it, with half a dozen examples.\n",
    "\n",
    "(If you aren't familiar with trends at all, you may want to start by working through the Trends_Tutorial notebook.)\n",
    "\n",
    "If you want to look at the source, you can clone it with `git clone https://github.com/jsh/trendlist.git`,\n",
    "but a ready-to-go package, `trendlist`, is already in the Python Package Index, PyPI, so you can install it directly like this:"
   ]
  },
  {
   "cell_type": "code",
   "execution_count": null,
   "id": "6ee7884c",
   "metadata": {
    "scrolled": true
   },
   "outputs": [],
   "source": [
    "pip install trendlist"
   ]
  },
  {
   "cell_type": "markdown",
   "id": "da38fd9a",
   "metadata": {},
   "source": [
    "Once installed, you can just import and use it in the usual way."
   ]
  },
  {
   "cell_type": "code",
   "execution_count": null,
   "id": "6084b17a",
   "metadata": {},
   "outputs": [],
   "source": [
    "import trendlist"
   ]
  },
  {
   "cell_type": "markdown",
   "id": "cb3006ad",
   "metadata": {},
   "source": [
    "## How fast can you decompose a random sequence into trends?"
   ]
  },
  {
   "cell_type": "markdown",
   "id": "a4c63089",
   "metadata": {},
   "source": [
    "### Brute Force Is Slow."
   ]
  },
  {
   "cell_type": "markdown",
   "id": "7d879547",
   "metadata": {},
   "source": [
    "In the trends tutorial, you decomposed random sequences into maximal trends \n",
    "in two ways. \n",
    "\n",
    "The first used `trendlist.simple.trend_list`, which finds the longest prefix that is a trend, then does that again on the remaining suffix, and continues until the sequence is completely decomposed."
   ]
  },
  {
   "cell_type": "code",
   "execution_count": null,
   "id": "ef4a891b",
   "metadata": {},
   "outputs": [],
   "source": [
    "from trendlist import rands\n",
    "from trendlist.simple import trend_list\n",
    "%timeit trend_list(list(rands(600)))"
   ]
  },
  {
   "cell_type": "markdown",
   "id": "d5fd41ee",
   "metadata": {},
   "source": [
    "`trend_list` is fast on short sequences, but slows down sharply as the sequences grow longer than a few hundred. It's impractical for really long sequences of random numbers.\n",
    "\n",
    "`trendlist.TrendList` offers a faster alternative."
   ]
  },
  {
   "cell_type": "markdown",
   "id": "13ee0c0e",
   "metadata": {},
   "source": [
    "## TrendList Is Fast"
   ]
  },
  {
   "cell_type": "code",
   "execution_count": null,
   "id": "7366cb68",
   "metadata": {},
   "outputs": [],
   "source": [
    "from trendlist import TrendList\n",
    "%timeit TrendList(rands(1_000))"
   ]
  },
  {
   "cell_type": "markdown",
   "id": "c2828fbd",
   "metadata": {},
   "source": [
    "We expect longer sequences to take longer to decompose, \n",
    "but how quickly do `TrendList` run times grow with sequence size?"
   ]
  },
  {
   "cell_type": "code",
   "execution_count": null,
   "id": "92db9ce5",
   "metadata": {},
   "outputs": [],
   "source": [
    "for n in range(1_000, 10_000, 1_000):\n",
    "    print(f\"{n=}: \", end=\"\")\n",
    "    %timeit TrendList(rands(n))"
   ]
  },
  {
   "cell_type": "markdown",
   "id": "99efff27",
   "metadata": {},
   "source": [
    "Looks quite linear. Unless this breaks down, you'd predict `TrendList` would decompose a sequence of a million floats in about $2msec*1000 = 2 sec$. Let's try."
   ]
  },
  {
   "cell_type": "code",
   "execution_count": null,
   "id": "75bcad7a",
   "metadata": {},
   "outputs": [],
   "source": [
    "%timeit TrendList(rands(1_000_000))"
   ]
  },
  {
   "cell_type": "markdown",
   "id": "1d92b665",
   "metadata": {},
   "source": [
    "Sho 'nuff. `TrendList` can decompose a million-float sequence in less than half the time `trend_list()` takes to decompose a list of $1,000$.\n",
    "\n",
    "It's peppy. You can work with it."
   ]
  },
  {
   "cell_type": "markdown",
   "id": "f6409270",
   "metadata": {},
   "source": [
    "## How Many Trends in a Random Sequence?"
   ]
  },
  {
   "cell_type": "markdown",
   "id": "54be10f6",
   "metadata": {},
   "source": [
    "That was fun. What else could you use the `trendlist` package to ask?\n",
    "How about the average number of trends in a random sequence.\n",
    "\n",
    "Again, this will depend on sequence length -- you'd expect longer sequences to usually have more trends -- \n",
    "and although the result doesn't seem obvious,\n",
    "the code isn't hard."
   ]
  },
  {
   "cell_type": "markdown",
   "id": "c054d21b",
   "metadata": {},
   "source": [
    "Let's watch that."
   ]
  },
  {
   "cell_type": "code",
   "execution_count": null,
   "id": "d4534158",
   "metadata": {},
   "outputs": [],
   "source": [
    "def trend_count(seq):\n",
    "    trends = TrendList(seq)\n",
    "    return len(trends)"
   ]
  },
  {
   "cell_type": "code",
   "execution_count": null,
   "id": "9fe7b9ab",
   "metadata": {
    "scrolled": true
   },
   "outputs": [],
   "source": [
    "s_up = [0.1, 0.2, 0.4]    # an increasing trend\n",
    "print(trend_count(s_up))\n",
    "s_down = [0.4, 0.2, 0.1]  # the decreasing trend `list(reversed(s.up))`\n",
    "print(trend_count(s_down))\n",
    "s_mixed = [0.4, 0.1, 0.2] # neither increasing nor decreasing\n",
    "print(trend_count(s_mixed))\n",
    "s_random = rands(10) # a sequence of random floats\n",
    "print(trend_count(s_random))"
   ]
  },
  {
   "cell_type": "markdown",
   "id": "ac94e5fb",
   "metadata": {},
   "source": [
    "Try some yourself!"
   ]
  },
  {
   "cell_type": "code",
   "execution_count": null,
   "id": "1881bd81",
   "metadata": {},
   "outputs": [],
   "source": []
  },
  {
   "cell_type": "markdown",
   "id": "772b4228",
   "metadata": {},
   "source": [
    "From here, it's easy. We'll walk through everything step-by-step.\n",
    "\n",
    "First, the function to find the mean number of trends for a fixed length sequence over a number of trials."
   ]
  },
  {
   "cell_type": "code",
   "execution_count": null,
   "id": "0c33c6bf",
   "metadata": {},
   "outputs": [],
   "source": [
    "def mean_trend_count(n, trials):\n",
    "    total_trends = 0  # a running total\n",
    "    for _ in range(trials):\n",
    "        s_random = rands(n) # generate a sequence of n floats\n",
    "        total_trends += trend_count(s_random) # add the number of trends to the running total\n",
    "    return round(total_trends / trials, 3)  # average number of trends to three decimal places"
   ]
  },
  {
   "cell_type": "markdown",
   "id": "8896ace2",
   "metadata": {},
   "source": [
    "Trying it out:"
   ]
  },
  {
   "cell_type": "code",
   "execution_count": null,
   "id": "219edca7",
   "metadata": {},
   "outputs": [],
   "source": [
    "mean_trend_count(20, 100)"
   ]
  },
  {
   "cell_type": "markdown",
   "id": "4bad56b4",
   "metadata": {},
   "source": [
    "Next, wrap that in another function, which prints the mean at a variety of sequence lengths."
   ]
  },
  {
   "cell_type": "code",
   "execution_count": null,
   "id": "64b43b40",
   "metadata": {},
   "outputs": [],
   "source": [
    "def trends_by_length(max, trials, npoints):\n",
    "    increment = max // (npoints)\n",
    "    ntrends = {}\n",
    "    for nrands in range(increment, max, increment):\n",
    "        ntrends[nrands] = mean_trend_count(nrands, trials)\n",
    "    return ntrends"
   ]
  },
  {
   "cell_type": "code",
   "execution_count": null,
   "id": "0a253534",
   "metadata": {},
   "outputs": [],
   "source": [
    "trends_by_length(10_000, 100, 20)"
   ]
  },
  {
   "cell_type": "markdown",
   "id": "24063476",
   "metadata": {},
   "source": [
    "Unfortunately, that doesn't look cleanly linear. Not as lucky as when we were timing `TrendList`.\n",
    "\n",
    "No reason to be discouraged. It turns out you can get a better line with a simple transformation. Instead of using $sequence\\ length$ for the X axis, use $ln(sequence\\ length)$."
   ]
  },
  {
   "cell_type": "code",
   "execution_count": null,
   "id": "07fed127",
   "metadata": {},
   "outputs": [],
   "source": [
    "import math\n",
    "\n",
    "def trends_by_log_length(max, trials):\n",
    "    ntrends = {}\n",
    "    nrands = 1         # start small\n",
    "    while nrands <= max:\n",
    "        log_length = round(math.log(nrands), 2)\n",
    "        ntrends[log_length] = mean_trend_count(nrands, trials)\n",
    "        nrands *= 2    # double nrands at each iteration\n",
    "    return ntrends"
   ]
  },
  {
   "cell_type": "code",
   "execution_count": null,
   "id": "a6ed3c81",
   "metadata": {
    "scrolled": false
   },
   "outputs": [],
   "source": [
    "nt = trends_by_log_length(10_000, 100)\n",
    "print(nt)"
   ]
  },
  {
   "cell_type": "markdown",
   "id": "b4cb4fba",
   "metadata": {},
   "source": [
    "That looks pretty linear. We'll use `numpy`, to test it.\n",
    "`numpy` is a big library with a ton o' stuff for solving mathematical problems with vectors and matrices, so we're killing a fly with a sledgehammer, but it's near-at-hand."
   ]
  },
  {
   "cell_type": "code",
   "execution_count": null,
   "id": "2024c836",
   "metadata": {},
   "outputs": [],
   "source": [
    "import numpy as np\n",
    "x = list(nt.keys()) # log of the length\n",
    "y = list(nt.values()) # number of trends\n",
    "r = np.corrcoef(x, y)[0, 1]  # how closely are the two variables correlated?\n",
    "print(f\"coefficient of determination = {r**2}\")\n",
    "# np.polyfit(x, y), deg=1)"
   ]
  },
  {
   "cell_type": "markdown",
   "id": "97268905",
   "metadata": {},
   "source": [
    "That's really quite a good fit. What's the equation of the line?"
   ]
  },
  {
   "cell_type": "code",
   "execution_count": null,
   "id": "754d5c51",
   "metadata": {},
   "outputs": [],
   "source": [
    "m, b = np.polyfit(x, y, deg=1)\n",
    "print(f\"trends = {m:#.2g}*ln(length) + {b:#.2g}\")"
   ]
  },
  {
   "cell_type": "markdown",
   "id": "4e8cebd7",
   "metadata": {},
   "source": [
    "And what a line! For a sequence of length $N$, $trends \\approx ln(N)$.\n",
    "\n",
    "How about a really long sequence?"
   ]
  },
  {
   "cell_type": "code",
   "execution_count": null,
   "id": "bb3826b5",
   "metadata": {},
   "outputs": [],
   "source": [
    "length = 1_000_000\n",
    "count = mean_trend_count(length, 7)  # a million floats, 7 trials\n",
    "print(f\"Predicted: {math.log(length):#.2g}, Actual: {count:#.2g}\")"
   ]
  },
  {
   "cell_type": "markdown",
   "id": "249393eb",
   "metadata": {},
   "source": [
    "How long a sequence would you need to average 7 trends?"
   ]
  },
  {
   "cell_type": "code",
   "execution_count": null,
   "id": "cd3729c2",
   "metadata": {},
   "outputs": [],
   "source": []
  },
  {
   "cell_type": "markdown",
   "id": "47547c90",
   "metadata": {},
   "source": [
    "Try decomposing a sequence that length to see if you're right."
   ]
  },
  {
   "cell_type": "code",
   "execution_count": null,
   "id": "96a94a34",
   "metadata": {},
   "outputs": [],
   "source": []
  },
  {
   "cell_type": "markdown",
   "id": "18b88e86",
   "metadata": {},
   "source": [
    "## Turns a Random Sequence into a Single Trend with TrendList.rotate\n",
    "\n",
    "Every random sequence has a exactly one circular permutation that's a single trend.\n",
    "After a sequence is decomposed into a list of `Trend` objects -- a `TrendList` -- a circular permutation of those objects, followed by any necessary merges -- creates a new TrendList with fewer trends.\n",
    "\n",
    "The `rotate()` method of a `TrendList` object does that rotation."
   ]
  },
  {
   "cell_type": "code",
   "execution_count": null,
   "id": "279b221a",
   "metadata": {},
   "outputs": [],
   "source": [
    "trends = TrendList(rands(1_000_000))\n",
    "print(\"Initial trendlist:\")\n",
    "for trend in trends:\n",
    "    print(trend)\n",
    "print(f\"{len(trends)=}\")\n",
    "print(\"\\nBut with each rotation and merge, the number of trends shrinks.\")\n",
    "while len(trends) > 1:\n",
    "    trends = trends.rotate()\n",
    "    print(f\"{len(trends)=}\")\n",
    "print(\"Until there's finally a single trend!\")"
   ]
  },
  {
   "cell_type": "markdown",
   "id": "c2b8c9c7",
   "metadata": {},
   "source": [
    "## How Many Rotations to Get a Single Trend?\n",
    "\n",
    "Okay, we can rotate to a single trend. How many rotations are needed?\n",
    "For this, we have the `trendlist` method, `TrendList.single`, which reports both the number of rotations it needs and the distance rotated."
   ]
  },
  {
   "cell_type": "code",
   "execution_count": null,
   "id": "28920f08",
   "metadata": {},
   "outputs": [],
   "source": [
    "trends = TrendList(rands(1_000))\n",
    "print(f\"{len(trends)=}\")\n",
    "print(f\"{trends.single()=}\")"
   ]
  },
  {
   "cell_type": "markdown",
   "id": "c7e8a01f",
   "metadata": {},
   "source": [
    "Watch it in slow motion."
   ]
  },
  {
   "cell_type": "code",
   "execution_count": null,
   "id": "22e964f3",
   "metadata": {},
   "outputs": [],
   "source": [
    "trends = TrendList(rands(1_000)) # make a random TrendList\n",
    "print(\"Initial trendlist:\") # and print out its trends.\n",
    "for trend in trends:\n",
    "    print(trend)\n",
    "print(f\"{trends.single()=}\") # what does trends.single() report?\n",
    "\n",
    "# now go back and do the same thing, one rotation at a time.\n",
    "distance = 0\n",
    "rotations = 0\n",
    "print(f\"{len(trends)=}, {distance=}, {rotations=}\")\n",
    "while len(trends) > 1:\n",
    "    distance += trends[0].length # the distance the next rotation will take us\n",
    "    trends = trends.rotate()\n",
    "    rotations += 1 # count the rotations\n",
    "    print(f\"{len(trends)=}, {distance=}, {rotations=}\")\n",
    "# and finally, the trend we end up with\n",
    "for trend in trends:\n",
    "    print(trend)"
   ]
  },
  {
   "cell_type": "markdown",
   "id": "a1bf1ed8",
   "metadata": {},
   "source": [
    "But what do you *expect* those numbers to be?\n",
    "\n",
    "The final, single trend is as long as the original sequence -- that's a relief, right? -- and has a mean of about the mean of a random, U(0,1) sequence, $0.5$.\n",
    "\n",
    "But what about the average distance rotated?"
   ]
  },
  {
   "cell_type": "code",
   "execution_count": null,
   "id": "c54cbdfc",
   "metadata": {},
   "outputs": [],
   "source": [
    "from statistics import mean\n",
    "n = 10_000\n",
    "trials = 1000\n",
    "distance = []\n",
    "for _ in range(trials):\n",
    "    trends = TrendList(rands(n)) # break a long, random sequence into trends\n",
    "    distance.append(trends.single().start) # rotate to a single trend, save away the distance\n",
    "print(f\"{mean(distance)=}\")    "
   ]
  },
  {
   "cell_type": "markdown",
   "id": "7273638a",
   "metadata": {},
   "source": [
    "Hah! About half the length of the sequence.\n",
    "\n",
    "Makes sense. Pick a trend of length $N$. `single()` turns each of its circular permutation back into that trend. The average distance for all those rotations is half the length of the sequence: $N/2$.\n",
    "\n",
    "How about the number of rotations?"
   ]
  },
  {
   "cell_type": "code",
   "execution_count": null,
   "id": "bc6b7d33",
   "metadata": {},
   "outputs": [],
   "source": [
    "from statistics import mean\n",
    "from math import log\n",
    "n = 10_000\n",
    "trials = 1000\n",
    "rots = []\n",
    "for _ in range(trials):\n",
    "    trends = TrendList(rands(n)) # again, decompose a long, random sequence\n",
    "    rots.append(trends.single().num_rots) # this time, save the rotations to get to 1 trend\n",
    "print(f\"{mean(rots)=}\") # the average\n",
    "print(f\"{log(n)/2=:.2g}\") # and ...?"
   ]
  },
  {
   "cell_type": "markdown",
   "id": "b4cef727",
   "metadata": {},
   "source": [
    "Can you see why this makes sense?"
   ]
  },
  {
   "cell_type": "markdown",
   "id": "3fe479a5",
   "metadata": {},
   "source": [
    "## Wrap-Up\n",
    "\n",
    "Taken together, this means `trendlist` lets you create a single trend from a random sequence of length $N$ in $O(N)$ time.\n",
    "\n",
    "* You're guaranteed that one circular permutation will be a single trend.\n",
    "* You can decompose the sequence into trends in $O(N)$ time.\n",
    "* You can rotate that decomposition it to a single trend in $O(log(N))$ steps.\n",
    "* You can use the trend-length data to know how much to go back and rotate the original sequence to get the single trend.\n",
    "\n",
    "With the `trendlist` toolkit, you've also had a chance to\n",
    "\n",
    "* decompose sequences into trends, fast. You can break a million floats into maximal trends in a couple of seconds.\n",
    "* see the expected number of trends is, roughly, the natural log of the sequence length.\n",
    "* rotate the trends to produce a single trend.\n",
    "* realize that the final, single trend\n",
    "\n",
    "    * is the same length as the original sequence, \n",
    "    * has a mean the same as that of the random numbers\n",
    "    * starts at a position uniformly distributed along the sequence\n",
    "    * takes about $ln(N)/2$ rotations to create\n",
    "    \n",
    "Now, it's your turn. Go play with `trendlist`. Ask some questions of your own."
   ]
  },
  {
   "cell_type": "code",
   "execution_count": null,
   "id": "e78afff9",
   "metadata": {},
   "outputs": [],
   "source": []
  }
 ],
 "metadata": {
  "kernelspec": {
   "display_name": "Python 3 (ipykernel)",
   "language": "python",
   "name": "python3"
  },
  "language_info": {
   "codemirror_mode": {
    "name": "ipython",
    "version": 3
   },
   "file_extension": ".py",
   "mimetype": "text/x-python",
   "name": "python",
   "nbconvert_exporter": "python",
   "pygments_lexer": "ipython3",
   "version": "3.9.6"
  }
 },
 "nbformat": 4,
 "nbformat_minor": 5
}
