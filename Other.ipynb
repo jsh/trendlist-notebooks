{
 "cells": [
  {
   "cell_type": "markdown",
   "id": "83c9bac2",
   "metadata": {},
   "source": [
    "# A Trends Tutorial: The Basics"
   ]
  },
  {
   "cell_type": "markdown",
   "id": "1e9e57eb",
   "metadata": {},
   "source": [
    "## Monotonic Sequences"
   ]
  },
  {
   "cell_type": "markdown",
   "id": "1092e1f8",
   "metadata": {},
   "source": [
    "In a *monotonically increasing* sequence, each element is bigger than the last.\n",
    "For example, the sequence of primes, $2, 3, 5, 7, 11, 13, ...$, is monotonically increasing.\n",
    "In its doppelganger, a *monotonically decreasing* sequence, every element is less than the one before.\n",
    "Examples include $1/2, 1/3, 1/5, 1/7, 1/11, 1/13, ...$\n",
    "$-2, -3, -5, -7, -11, -13, ...$,\n",
    "and lots more that you could make up yourself.\n",
    "\n",
    "This function asks whether a list is monotonically increasing:"
   ]
  },
  {
   "cell_type": "code",
   "execution_count": null,
   "id": "11a01067",
   "metadata": {},
   "outputs": [],
   "source": [
    "def is_mono_inc(seq):\n",
    "   return all([seq[i] > seq[i-1] for i in range(1, len(seq))])\n",
    "\n",
    "seq = [1 , 1, 2, 3, 5, 8, 13, 21]\n",
    "print(f\"{is_mono_inc(seq)=}\")"
   ]
  },
  {
   "cell_type": "markdown",
   "id": "18ac32e3",
   "metadata": {},
   "source": [
    "Define your own list below and then use `mono_inc()` to ask whether it's monotonically increasing."
   ]
  },
  {
   "cell_type": "code",
   "execution_count": null,
   "id": "c4f7650b",
   "metadata": {},
   "outputs": [],
   "source": []
  },
  {
   "cell_type": "markdown",
   "id": "d90d6b54",
   "metadata": {},
   "source": [
    "Now, define the function `mono_dec()` to test whether a sequence is monotonically decreasing, and try it out."
   ]
  },
  {
   "cell_type": "code",
   "execution_count": null,
   "id": "3f215f4f",
   "metadata": {},
   "outputs": [],
   "source": []
  },
  {
   "cell_type": "markdown",
   "id": "f8c02648",
   "metadata": {},
   "source": [
    "If a sequence is either monotonically increasing or decreasing, we just say it's *monotonic*.\n",
    "Define the function `mono()` to see whether a list is monotonic."
   ]
  },
  {
   "cell_type": "code",
   "execution_count": null,
   "id": "5df6dab5",
   "metadata": {},
   "outputs": [],
   "source": []
  },
  {
   "cell_type": "markdown",
   "id": "c6d7d1df",
   "metadata": {},
   "source": [
    "\"monotonic\" is math-speak for \"sorted\"."
   ]
  },
  {
   "cell_type": "markdown",
   "id": "76e10c25",
   "metadata": {},
   "source": [
    "### Edge Cases"
   ]
  },
  {
   "cell_type": "markdown",
   "id": "1b19149c",
   "metadata": {},
   "source": [
    "When two or more numbers in the sequence are equal, you've run into an edge-case. Such a list could be sorted, but not monotonic. Consder the list l = [0,1,1,1,1,1,50].  This is sorted but neither monotonically increasing nor decreasing. \n",
    "\n",
    "There are at least two easy ways to weasel out of this: one is to call such a list \"monotonically non-decreasing.\" A second, often more useful, is to stick to sequences where that will never happen. For example, if you confine yourself to sequences of random reals, the probability of duplicates in that sequence is zero.\n",
    "\n",
    "(The mathematician would say, \"The set of real sequences that are monotonically non-decreasing, yet not monotonically increasing, is of Lebesgue measure zero,\" largely to show off his ability to pronounce \"Lebesgue.\")\n",
    "\n",
    "While we can't generate reals in Python, floats suffice: the odds of duplicates in even very long list of random floats isn't zero, but it's so small that you can test for them and throw exceptions when they occur.\n",
    "\n",
    "Neither can we actually generate random floats, but pseudo-random-number generators are good enough in practice. Honest.\n",
    "\n",
    "**N.B., From here on out, when we say \"sequence,\" we'll mean a sequence of reals, and our Python programs will manipulate lists of (pseudo-)random floats.**\n",
    "\n",
    "**We'll also use \"sorted\" instead of \"monotonic\" so our family can know what we're talking about.**\n",
    "\n",
    "We'll leave edge cases and technical jargon to the mathematicians."
   ]
  },
  {
   "cell_type": "markdown",
   "id": "de2f88e7",
   "metadata": {},
   "source": [
    "## Trends"
   ]
  },
  {
   "cell_type": "markdown",
   "id": "752a6c56",
   "metadata": {},
   "source": [
    "Sorted sequences are interesting, but rare. In a sequence of length N, only 1 of the N! permutations will be sorted in increasing order, and a second in decreasing. `math.factorial(N)` caculates $N!$.  If you generate one random real every morning, at the end of the week, the probability that your sequence will be sorted is"
   ]
  },
  {
   "cell_type": "code",
   "execution_count": null,
   "id": "6417edf6",
   "metadata": {},
   "outputs": [],
   "source": [
    "import math\n",
    "1/math.factorial(7)"
   ]
  },
  {
   "cell_type": "markdown",
   "id": "03ae2fc2",
   "metadata": {},
   "source": [
    "What if you do it every day for a year?"
   ]
  },
  {
   "cell_type": "code",
   "execution_count": null,
   "id": "5be1b019",
   "metadata": {},
   "outputs": [],
   "source": [
    "1/math.factorial(365)"
   ]
  },
  {
   "cell_type": "markdown",
   "id": "c81867b0",
   "metadata": {},
   "source": [
    "The number is too small to track -- lost in the noise.\n",
    "\n",
    "Sorted sequences are rare. Let's lower our expectations.\n",
    "\n",
    "To do that, begin with this different, yet equivalent, definition of sorted:\n",
    "\n",
    "Put your finger between two, successive terms of your sequence.\n",
    "Suppose you discover every number to the left of your finger is less than every number to its right.\n",
    "If that's true *no matter where you put your finger*, the sequence is monotonically increasing -- it's sorted.\n",
    "\n",
    "In code"
   ]
  },
  {
   "cell_type": "code",
   "execution_count": null,
   "id": "a0cc2308",
   "metadata": {},
   "outputs": [],
   "source": [
    "def is_mono_inc2(seq):\n",
    "    n = len(seq)\n",
    "    for i in range(1, n):\n",
    "        if max(seq[:i]) > max(seq[i:]):\n",
    "            return False\n",
    "    return True\n",
    "\n",
    "print(f\"{is_mono_inc2(seq)=}\")"
   ]
  },
  {
   "cell_type": "markdown",
   "id": "258a9b45",
   "metadata": {},
   "source": [
    "Try this function on the sequences you defined earlier to verify you get the same answer."
   ]
  },
  {
   "cell_type": "code",
   "execution_count": null,
   "id": "82d819c5",
   "metadata": {},
   "outputs": [],
   "source": []
  },
  {
   "cell_type": "markdown",
   "id": "ff187473",
   "metadata": {},
   "source": [
    "## From Monotonic Sequences to Trends"
   ]
  },
  {
   "cell_type": "markdown",
   "id": "3b8b0096",
   "metadata": {},
   "source": [
    "Suppose that you buy a stock whose value changes every day.\n",
    "If its value increased monotonically over the year, you'd be delighted.\n",
    "\n",
    "If, however, its value dipped slightly on the next-to-last day, but then went back up on New-Year's Eve, you'd still be happy.\n",
    "\n",
    "Even more general: suppose that the stock price bounces up and down, but when you write them all down, you discover that the sequence of daily prices is interesting:\n",
    "wherever you put your finger, the *average* of all the stock prices to its left is less than the *average* of all those to its right. The price isn't rising uniformly, but it's rising on average.  Each day, at close-of-market, the days ahead are going to be better, on average, than the days gone by.\n",
    "\n",
    "On average, things are always looking up.\n",
    "\n",
    "We'll call this kind of sequence a *trend*."
   ]
  },
  {
   "cell_type": "code",
   "execution_count": null,
   "id": "299bc2c3",
   "metadata": {},
   "outputs": [],
   "source": [
    "from statistics import mean\n",
    "\n",
    "def is_trend(s):\n",
    "    n = len(s)\n",
    "    for i in range(1,n):\n",
    "        if mean(s[:i]) > mean(s[i:]):\n",
    "            return False\n",
    "    return True\n",
    "\n",
    "seq = [1, 2, 4, 8]\n",
    "print(f\"{seq=} -> {is_trend(seq)=}\")\n",
    "seq = [1, 2, 8, 4]\n",
    "print(f\"{seq=} -> {is_trend(seq)=}\")\n",
    "seq = [1, 8, 2, 4]\n",
    "print(f\"{seq=} -> {is_trend(seq)=}\")"
   ]
  },
  {
   "cell_type": "markdown",
   "id": "b3757606",
   "metadata": {},
   "source": [
    "Make some sequences, then use `is_trend()` to test whether they're trends."
   ]
  },
  {
   "cell_type": "code",
   "execution_count": null,
   "id": "76939120",
   "metadata": {},
   "outputs": [],
   "source": []
  },
  {
   "cell_type": "markdown",
   "id": "a16f1036",
   "metadata": {},
   "source": [
    "## What Goes Up Must Come Down"
   ]
  },
  {
   "cell_type": "markdown",
   "id": "980a861e",
   "metadata": {},
   "source": [
    "By the way, there are both rising and falling trends. It's easier just to talk about one or the other. We'll arbitrarily pick rising trends. When we say *trend*, it'll usually mean *rising trend*.\"\n",
    "\n",
    "A mathematician might throw in, \"Without loss of generality ...\"\n",
    "\n",
    "This choice is analogous to the one we're used to for sorting. `sort()` and `sorted()`, make monotonically *increasing* sequences, unless you give them the `reverse=True` flag.\n",
    "\n",
    "We can go back and make statements and functions for falling trends that are mirror-images of the ones we make for rising trends. Keep this in your back pocket to pull out whenever you need it. When we do, we'll say so."
   ]
  },
  {
   "cell_type": "markdown",
   "id": "557b31e4",
   "metadata": {},
   "source": [
    "## Looking for Trends (in all the wrong places)"
   ]
  },
  {
   "cell_type": "markdown",
   "id": "df6b7e83",
   "metadata": {},
   "source": [
    "You have already noticed that you can trivially turn any random sequence\n",
    "into a monotonic sequence, like this:"
   ]
  },
  {
   "cell_type": "code",
   "execution_count": null,
   "id": "e6d330f3",
   "metadata": {},
   "outputs": [],
   "source": [
    "week = 7 # days to generate random numbers\n",
    "from random import random\n",
    "rand_week = [random() for _ in range(week)]  # a sequence of 10, random reals in [0,1)\n",
    "print(f\"{rand_week=}\")\n",
    "sort_week = sorted(rand_week)  # the same numbers, sorted\n",
    "print(f\"{sort_week=}\")"
   ]
  },
  {
   "cell_type": "markdown",
   "id": "4efb803f",
   "metadata": {},
   "source": [
    "(If you beat the 2-in-ten-thousand odds against randomly generating a sorted sequence, please just go back and generate another sequence.) "
   ]
  },
  {
   "cell_type": "markdown",
   "id": "01021a5c",
   "metadata": {},
   "source": [
    "Can you turn the same sequence into a trend? Sure. A monotonically increasing sequence is also a trend. Just call `sorted()`. \n",
    "\n",
    "That doesn't get you anything new, though, so let's explore ... just play around a little.\n",
    "\n",
    "Even if `rand_week` isn't sorted, does it have a trend in it? \n",
    "\n",
    "Is there, for example, a trend that starts at the left end -- a prefix-trend -- even if it doesn't continue to the end? \n",
    "\n",
    "We'll start, naively, at the left end and move to the right for as long as the elements are still in a trend."
   ]
  },
  {
   "cell_type": "code",
   "execution_count": null,
   "id": "1c9050ef",
   "metadata": {},
   "outputs": [],
   "source": [
    "def naive_pfx_trend(s):\n",
    "    for i in range(1, len(s)):\n",
    "        if not is_trend(s[:i]):\n",
    "            return s[:i-1]\n",
    "print(f\"{rand_week=}\")\n",
    "print(f\"{naive_pfx_trend(rand_week)=}\")"
   ]
  },
  {
   "cell_type": "markdown",
   "id": "7b44b86e",
   "metadata": {},
   "source": [
    "Make up some other sequences and try `naive_pfx_trend()` on them."
   ]
  },
  {
   "cell_type": "code",
   "execution_count": null,
   "id": "ac129fde",
   "metadata": {},
   "outputs": [],
   "source": []
  },
  {
   "cell_type": "markdown",
   "id": "c3c52507",
   "metadata": {},
   "source": [
    "This seems too cautious. We're shooting too low.\n",
    "\n",
    "Here's why: What about a sequence that dips enough to end an early trend, but then picks back up again? What about, say, `[1, 4, 2, 8, 16]`, which isn't sorted, but is a trend taken as a whole?"
   ]
  },
  {
   "cell_type": "code",
   "execution_count": null,
   "id": "cbb4c6db",
   "metadata": {},
   "outputs": [],
   "source": [
    "seq = [1, 4, 2, 8, 16]\n",
    "print(f\"{naive_pfx_trend(seq)=}\")\n",
    "print(f\"{is_trend(seq)=}\")"
   ]
  },
  {
   "cell_type": "markdown",
   "id": "f67dc96c",
   "metadata": {},
   "source": [
    "Seems like our function should just return the whole trend.\n",
    "\n",
    "More to the point, it should pick this, longer prefix trend out of, say,\n",
    "`[1, 4, 2, 8, 16, 1, 4, 2, 8, 1, 2]`.\n",
    "\n",
    "Can we pick out the *longest* prefix that forms a trend?\n",
    "\n",
    "Easy. Just start from the other end.\n",
    "Begin with the whole sequence and back up from the right\n",
    "until you find the first, long trend."
   ]
  },
  {
   "cell_type": "code",
   "execution_count": null,
   "id": "e53dd11e",
   "metadata": {},
   "outputs": [],
   "source": [
    "def pfx_trend(s):\n",
    "    t = s.copy()\n",
    "    while t:\n",
    "        if is_trend(t):\n",
    "            return t\n",
    "        t.pop()"
   ]
  },
  {
   "cell_type": "markdown",
   "id": "c19e6dac",
   "metadata": {},
   "source": [
    "We're being careful not to modify the original sequence with `pop()`.\n",
    "We might want to go back and look at it again.\n",
    "`pfx_trend()` returns a copy of the original prefix."
   ]
  },
  {
   "cell_type": "code",
   "execution_count": null,
   "id": "c7b959d5",
   "metadata": {},
   "outputs": [],
   "source": [
    "s = [1, 4, 2, 8, 16, 1, 4, 2, 8, 1, 2]\n",
    "print(f\"{pfx_trend(s)=}\")\n",
    "print(f\"{s=}\")"
   ]
  },
  {
   "cell_type": "markdown",
   "id": "9cc3190b",
   "metadata": {},
   "source": [
    "Now we're getting somewhere! Having done that, carve the biggest trend out of what remains."
   ]
  },
  {
   "cell_type": "code",
   "execution_count": null,
   "id": "a88fc2ec",
   "metadata": {},
   "outputs": [],
   "source": [
    "print(f\"{s=}\")\n",
    "pfx_len = len(pfx_trend(s)) # length of that prefix\n",
    "suffix = s[pfx_len:] # the rest of the sequence\n",
    "print(f\"{suffix=}\")\n",
    "next_trend = pfx_trend(suffix) # the *next* long trend\n",
    "print(f\"{next_trend=}\")"
   ]
  },
  {
   "cell_type": "markdown",
   "id": "2e6e3014",
   "metadata": {},
   "source": [
    "You can keep this up until you've decomposed the whole sequence into the biggest trends you can find.\n",
    "\n",
    "We've played a little fast-and-loose for a minute, using sequences of integers instead of reals, because they take up less space. If it makes you feel better, put a `.0` after each int.\n",
    "\n",
    "It's a tutorial. Go with it."
   ]
  },
  {
   "cell_type": "code",
   "execution_count": null,
   "id": "0d90e149",
   "metadata": {},
   "outputs": [],
   "source": [
    "def trendlist(s):\n",
    "    '''Decompose s into a list of maximal trends.'''\n",
    "    trendlist = []          # all trends in the decomposition\n",
    "    while s:\n",
    "        p = pfx_trend(s)    # get the longest prefix\n",
    "        trendlist.append(p) # append it to the list of trends\n",
    "        p_len = len(p)      # how long was that prefix?\n",
    "        s = s[p_len:]       # get ready to start again with the rest of the sequence\n",
    "    return trendlist"
   ]
  },
  {
   "cell_type": "markdown",
   "id": "1fc26874",
   "metadata": {},
   "source": [
    "We'll show it off with a long, random sequence."
   ]
  },
  {
   "cell_type": "code",
   "execution_count": null,
   "id": "57d074e4",
   "metadata": {},
   "outputs": [],
   "source": [
    "trends = trendlist([random() for _ in range(100)]) # decompose a long, random sequence\n",
    "trend_lengths = [len(trend) for trend in trends]    # get their lengths\n",
    "print(f\"{trend_lengths=}\")                          # what were they?\n",
    "print(f\"{sum(trend_lengths)=}\")"
   ]
  },
  {
   "cell_type": "markdown",
   "id": "75856151",
   "metadata": {},
   "source": [
    "Run this a few times, to see that the decompositions differ every time.\n",
    "(After all, they're random sequences.)\n",
    "Still, this always decomposes the sequence completely: the sums of the trend lengths are always that of the whole sequence.\n",
    "\n",
    "Try decomposing a sequence or two of your own."
   ]
  },
  {
   "cell_type": "code",
   "execution_count": null,
   "id": "eac0a61b",
   "metadata": {},
   "outputs": [],
   "source": []
  },
  {
   "cell_type": "markdown",
   "id": "afd37f90",
   "metadata": {},
   "source": [
    "This decomposition is easy, easy-to-understand, and unique.\n",
    "\n",
    "Now you can ask questions like, \"What's the average number of trends in a random sequence?\" and \"How long are they?\""
   ]
  },
  {
   "cell_type": "code",
   "execution_count": null,
   "id": "958bd5dc",
   "metadata": {},
   "outputs": [],
   "source": [
    "## Trend Means in a Trendlist Drop From Right to Left"
   ]
  },
  {
   "cell_type": "markdown",
   "id": "e8e86424",
   "metadata": {},
   "source": [
    "If you think about it, you can see that each trend's mean will always lie between the means of the trends on either side -- less than the one on its left, greater than the one on its right. The trend means are sorted in decreasing order."
   ]
  },
  {
   "cell_type": "code",
   "execution_count": null,
   "id": "3bcec063",
   "metadata": {},
   "outputs": [],
   "source": [
    "trends = trendlist([random() for _ in range(100)])\n",
    "for trend in trends:\n",
    "    print(f\"{mean(trend)=}\")"
   ]
  },
  {
   "cell_type": "markdown",
   "id": "dacdd321",
   "metadata": {},
   "source": [
    "Why? Whenever a trend's mean is less than that of the trend on its right, the two merge into a single, longer trend."
   ]
  },
  {
   "cell_type": "code",
   "execution_count": null,
   "id": "ae841963",
   "metadata": {},
   "outputs": [],
   "source": [
    "a = trends[2]\n",
    "b = trends[3]\n",
    "print(f\"{is_trend(a)=}, {is_trend(b)=}, {is_trend(a+b)=}, {is_trend(b+a)=}\")"
   ]
  },
  {
   "cell_type": "markdown",
   "id": "3ac41e75",
   "metadata": {},
   "source": [
    "This isn't hard to prove for yourself, if you want to, \n",
    "but proofs are a little out of scope for a tutorial.\n",
    "\n",
    "Instead, just experiment a little to see for yourself."
   ]
  },
  {
   "cell_type": "code",
   "execution_count": null,
   "id": "89384bba",
   "metadata": {},
   "outputs": [],
   "source": []
  },
  {
   "cell_type": "markdown",
   "id": "76d74311",
   "metadata": {},
   "source": [
    "## Counting Trends\n",
    "\n",
    "Out of the $N!$ arrangements of $N$ random reals, only one is sorted. \n",
    "\n",
    "How many are trends? At least one, because the sorted sequence is a trend.\n",
    "There are trends that aren't sorted, so more than that.\n",
    "But not all sequences are trends.\n",
    "\n",
    "Can we say how many are? Yup.\n",
    "\n",
    "Again, we'll start by decomposing a big, random sequence into trends."
   ]
  },
  {
   "cell_type": "code",
   "execution_count": null,
   "id": "ebad145a",
   "metadata": {},
   "outputs": [],
   "source": [
    "trends = trendlist([random() for _ in range(100)])\n",
    "for trend in trends:\n",
    "    print(f\"{mean(trend)=}\")"
   ]
  },
  {
   "cell_type": "markdown",
   "id": "540fa2f7",
   "metadata": {},
   "source": [
    "But now, let's *circularly permute* those trends."
   ]
  },
  {
   "cell_type": "markdown",
   "id": "5e53456a",
   "metadata": {},
   "source": [
    "### Sidebar: Oooh! Colors!\n",
    "\n",
    "If you prefer, you can pretty-print your trendlists. Here's an example, using the Python package `blessed`, which you can get from PyPI with `pip install blessed`.\n",
    "(Make sure your `pip` is `pip3`, with `pip --version`.)"
   ]
  },
  {
   "cell_type": "code",
   "execution_count": null,
   "id": "60ae4a5e",
   "metadata": {},
   "outputs": [],
   "source": [
    "import blessed\n",
    "\n",
    "def print_trends(seq):\n",
    "    trends = trendlist(seq)\n",
    "    term = blessed.Terminal()\n",
    "    for i, trend in enumerate(trends):\n",
    "        trend_l = [f\"{elem:0.2f}\" for elem in trend]\n",
    "        trend_s = \",\".join(trend_l)\n",
    "        trend_p = \"[\" + trend_s + \"]\"\n",
    "        print(term.color(i)(trend_p), end=\"\")\n",
    "    print()"
   ]
  },
  {
   "cell_type": "markdown",
   "id": "158ff9c9",
   "metadata": {},
   "source": [
    "Try this with `rand_week`"
   ]
  },
  {
   "cell_type": "code",
   "execution_count": null,
   "id": "7d2245f0",
   "metadata": {},
   "outputs": [],
   "source": [
    "trends = trendlist(rand_week)\n",
    "term = blessed.Terminal()\n",
    "for i, trend in enumerate(trends):\n",
    "    print(term.color(i)(str(trend)), end=\"\")"
   ]
  },
  {
   "cell_type": "markdown",
   "id": "bce000b6",
   "metadata": {},
   "source": [
    "Well, *that's* certainly not impressive!\n",
    "\n",
    "Why didn't that work? Because `jupyter notebook` doesn't do color.\n",
    "\n",
    "This is when we encourage you to bite the bullet and try this in a terminal window of your own.\n",
    "\n",
    "Here are the steps.\n",
    "\n",
    "    $ pip install trendlist\n",
    "    $ ipython\n",
    "    > from trendlist.simple import print_trendlist, trend_list\n",
    "    > from random import random\n",
    "    > rand_week = [random() for _ in range(7)]\n",
    "    > trends = trend_list(rand_week)\n",
    "    > print_trends(trends)\n",
    "\n",
    "\n",
    "Try it with some random sequences of your own, too."
   ]
  },
  {
   "cell_type": "markdown",
   "id": "fb2167cc",
   "metadata": {},
   "source": [
    "### Trends Can Merge\n",
    "\n",
    "If you stick two trends together\n",
    "\n",
    "`[Left] + [Right]`\n",
    "\n",
    "with `mean([Left]) < mean([Right])`\n",
    "\n",
    "they just merge into a single trend.\n",
    "\n",
    "You can even prove it, with a little work."
   ]
  },
  {
   "cell_type": "markdown",
   "id": "64c03563",
   "metadata": {},
   "source": [
    "#### Proof\n",
    "\n",
    "Put your finger between two numbers in `[Left]`, to split it in two, into `[l]` and `[L]`,\n",
    "So `[Left] = [l] + [L]`. \n",
    "\n",
    "You know that `mean(l) < mean(L)` because `Left` is a trend.\n",
    "\n",
    "But you also know `mean(l) < mean(Left) < mean(L)` because that's how means work: the mean of two things lies between them.\n",
    "\n",
    "Next, think about `[L] + [Right]`. `mean(Left) < mean([L] + [Right]) < mean(Right)` because, again, that's how means work. \n",
    "\n",
    "Putting these together, `mean(l) < mean([L] + [Right]`\n",
    "\n",
    "In other words, the average of the numbers to the left of your finger is less than the average of the number to its right *in the whole sequence*, `[Left]+[Right]`\n",
    "\n",
    "You can reason the same way to show the same thing for wherever you stick your finger in `[Right]`.\n",
    "\n",
    "Finally, if you just stick your finger between `[Left]` and `[Right]`, the mean to its left is less than the mean to its right, because that's how we started. In other words, the two trends, stuck together, make up one big trend."
   ]
  },
  {
   "cell_type": "markdown",
   "id": "fb694c64",
   "metadata": {},
   "source": [
    "So, if you have a list of adjacent trends, whenever you see a trend with a smaller mean than its neighbor on the right, you can just merge them into one.\n",
    "\n",
    "And if you have two trends next to one another but\n",
    "\n",
    "`mean([Left]) > mean([Right])`?\n",
    "\n",
    "Then they can't merge into a single trend. If you stick your finger into the boundary between them, you've found a place where the average of the things to the left isn't less than the average of the things to the right. "
   ]
  },
  {
   "cell_type": "markdown",
   "id": "d667d3f5",
   "metadata": {},
   "source": [
    "### The Circle Game"
   ]
  },
  {
   "cell_type": "markdown",
   "id": "86d71b86",
   "metadata": {},
   "source": [
    "A circular permutation of the sequence, S, just peels off the left end of the sequence and sticks it on the right."
   ]
  },
  {
   "cell_type": "code",
   "execution_count": null,
   "id": "ab0e580f",
   "metadata": {},
   "outputs": [],
   "source": [
    "def rotate(s, i):\n",
    "    return s[i:] + s[:i]\n",
    "seq = list(range(10))\n",
    "rotate(seq, 5)"
   ]
  },
  {
   "cell_type": "markdown",
   "id": "23ba764d",
   "metadata": {},
   "source": [
    "Suppose you start with a trend, `T`, and circularly permute it. Is it still a trend?\n",
    "No way. Before you rotate, `mean(s[:i]) < mean(s[i:])`, because it's a trend.\n",
    "After you rotate, the mean of the piece now at the beginning has a bigger mean than the part on the end.\n",
    "Not a trend!\n",
    "\n",
    "Before: `s = [Left]+[Right]` and $\\mu(Left) < \\mu(Right)$\n",
    "\n",
    "After: `rotate(s, i) = [Right]+[Left]` and $\\mu(Right) > \\mu(Left)$\n",
    "\n",
    "Ergo, *if* there's a trend, no other circular permutation can be, too.\n",
    "\n",
    "But is there one?"
   ]
  },
  {
   "cell_type": "markdown",
   "id": "20486dd8",
   "metadata": {},
   "source": [
    "### Exactly One Circular Permutation Is a Trend"
   ]
  },
  {
   "cell_type": "markdown",
   "id": "5aafcd9a",
   "metadata": {},
   "source": [
    "Okay, you've arrived.\n",
    "\n",
    "- Take a random sequence, $S = [s_0, s_1, ... s_n]$ . \n",
    "\n",
    "- Decompose it into a list of trends \n",
    "\n",
    "$T_0 = [A + B + ... K] = [[a_0, a_1, ...] + [b_0, b_1, ... ] + ... [k_0, k_1 ...] ]$\n",
    "\n",
    "The mean of these trends decreases, monotonically: `mean(A) > mean(B) > ... > mean(K)`\n",
    "\n",
    "- Rotate the sequence, moving the last (rightmost) trend to the beginning:\n",
    "\n",
    "$T_1 = [K + A + B + ... ] = [[k_0, k_1, ...] + [a_0, a_1, ...] + [b_0, b_1, ... ] + ...]$\n",
    "\n",
    "- Because `mean(K) < mean(A)`. K and A will merge to make a single trend!\n",
    "\n",
    "Okay, `mean(A) > mean(B)`, so they stayed separate in the original decomposition,\n",
    "but yes, it's possible that `mean(K + A) < mean(B)`, so they might now merge, too, into `K + A + B` and so on.\n",
    "\n",
    "You don't care.\n",
    "\n",
    "What you do care about is that rotating the sequence this way decreases the number of trends at every step.\n",
    "\n",
    "- If there's more than one trend left after the dust settles, rotate again.\n",
    "\n",
    "Eventually, you'll end up with a single trend.\n",
    "\n",
    "(1) Every random sequence has a circular permutation that is a single trend.\n",
    "(2) That sequence never has more than one circular permutation that's a single trend."
   ]
  },
  {
   "cell_type": "markdown",
   "id": "ab7a1bc4",
   "metadata": {},
   "source": [
    "Here's a function that finds that rotation."
   ]
  },
  {
   "cell_type": "code",
   "execution_count": null,
   "id": "a993a0b6",
   "metadata": {},
   "outputs": [],
   "source": [
    "def single_trend(s):\n",
    "    ts = trendlist(s)\n",
    "    if len(ts) == 1:\n",
    "        return s\n",
    "    mean_s = statistics.mean(s)\n",
    "    for t in ts:\n",
    "        mean_t = statistics.mean(t)\n",
    "        if mean_t < mean_s:\n",
    "            return s[rotate:] + s[:rotate]\n",
    "        rotate += len(t)"
   ]
  },
  {
   "cell_type": "markdown",
   "id": "f76f99a6",
   "metadata": {},
   "source": [
    "(This optimizes a little by noticing that every trend on the right end that has a mean less than the overall mean will end up merging into the left on rotation.)"
   ]
  },
  {
   "cell_type": "markdown",
   "id": "673bf4fc",
   "metadata": {},
   "source": [
    "Watch it work on rand_10"
   ]
  },
  {
   "cell_type": "code",
   "execution_count": null,
   "id": "29441fe1",
   "metadata": {},
   "outputs": [],
   "source": [
    "print_trendlist(rand_10)\n",
    "print_trendlist(single_trend(rand_10))"
   ]
  },
  {
   "cell_type": "markdown",
   "id": "c2e43c8f",
   "metadata": {},
   "source": [
    "Then try it on a random sequence of your own. Use `is_trend()` to verify your result."
   ]
  },
  {
   "cell_type": "code",
   "execution_count": null,
   "id": "688a59fb",
   "metadata": {},
   "outputs": [],
   "source": []
  },
  {
   "cell_type": "markdown",
   "id": "8aad7d6d",
   "metadata": {},
   "source": [
    "So:\n",
    "\n",
    "(1) Any set of $N$ random reals has $N!$ permutations. \n",
    "(1) One of them is monotonically increasing\n",
    "(1) $N!/N = (N-1)!$ are increasing trends.\n",
    "(1) **Every real sequence has *exactly* one circular permutation that's a trend.**"
   ]
  },
  {
   "cell_type": "code",
   "execution_count": null,
   "id": "89056f6a",
   "metadata": {},
   "outputs": [],
   "source": []
  },
  {
   "cell_type": "markdown",
   "id": "095b1f24",
   "metadata": {},
   "source": [
    "If you generate a random number daily, when you wake up in the morning, at the end of the week your chance of having generated a trend is $1/7$.  At the end of a year? $1/365$. A 70-year lifespan?\n",
    "\n",
    "The odds of a 70-year-lifetime's worth of daily, random floats being monotonic? Bupkis. Of being a trend? About 1/25,000."
   ]
  },
  {
   "cell_type": "markdown",
   "id": "488d2499",
   "metadata": {},
   "source": [
    "Maybe you didn't expect that.\n",
    "\n",
    "In your city (or the nearest city to you), if everyone generated a random real, every morning, about how many would generate a single trend over a lifetime? If you don't know the approximate population size, you can google it, ask Alexa, or go to your bookshelf and look it up in your gazetteer."
   ]
  }
 ],
 "metadata": {
  "kernelspec": {
   "display_name": "Python 3 (ipykernel)",
   "language": "python",
   "name": "python3"
  },
  "language_info": {
   "codemirror_mode": {
    "name": "ipython",
    "version": 3
   },
   "file_extension": ".py",
   "mimetype": "text/x-python",
   "name": "python",
   "nbconvert_exporter": "python",
   "pygments_lexer": "ipython3",
   "version": "3.11.0"
  }
 },
 "nbformat": 4,
 "nbformat_minor": 5
}
