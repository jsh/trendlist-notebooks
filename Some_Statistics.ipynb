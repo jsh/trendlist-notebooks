{
 "cells": [
  {
   "cell_type": "markdown",
   "id": "a05c8db3",
   "metadata": {},
   "source": [
    "# Statistics of Trends and Permutation Cycles"
   ]
  },
  {
   "cell_type": "markdown",
   "id": "6346bf17",
   "metadata": {},
   "source": [
    "## Trends and Cycles"
   ]
  },
  {
   "cell_type": "markdown",
   "id": "c9cc6201",
   "metadata": {},
   "source": [
    "The statistics of permutation cycles is well-studied.\n",
    "If we could show a relationship between permutation cycles and trends, we could use the statistics of permutation cycles to generate statistics of trends.\n",
    "Let's try."
   ]
  },
  {
   "cell_type": "markdown",
   "id": "b9329032",
   "metadata": {},
   "source": [
    "### Cycles to trends\n",
    "\n",
    "A standard way to print permutation cycles is as lists of lists.  You can write the permutation $[0, 1,2,3,4,5] -> [1,3,0,4,2]$\n",
    "as the cycle $[[0,1,3],[2,4]]$, (that's \"0 becomes 1, 1 becomes 3, 3 becomes 0, and so on),\n",
    "and the identity permutation $[0,1,2,3,4] -> [0,1,2,3,4]$ is $[[0],[1],[2],[3],[4]]$ (each element maps to itself).\n",
    "\n",
    "It's also conventional to write each cycle with its smallest number first, and sort the cycles by their first numbers, so although the two are equivalent, you'd write\n",
    "$[[4,2],[3,0,1]]$ as $[[0,1,3],[2,4]]$\n",
    "\n",
    "How shall we turn permutation cycles into trendlists, and vice-versa?\n",
    "\n",
    "Start by generating a list of $N$ random floats. We could generate random floats with `trendlist.rands()`, but, to ensure that we all see the same example, let's just hand-craft a tiny list."
   ]
  },
  {
   "cell_type": "code",
   "execution_count": null,
   "id": "53511303",
   "metadata": {
    "scrolled": true
   },
   "outputs": [],
   "source": [
    "rnds = [0.43, 0.01, 0.95]\n",
    "n = len(rnds)"
   ]
  },
  {
   "cell_type": "markdown",
   "id": "c3c8de81",
   "metadata": {},
   "source": [
    "Next, generate all permutations of the indices."
   ]
  },
  {
   "cell_type": "code",
   "execution_count": null,
   "id": "77db1687",
   "metadata": {},
   "outputs": [],
   "source": [
    "from itertools import permutations\n",
    "for permutation in permutations(range(n)):\n",
    "    print(permutation)"
   ]
  },
  {
   "cell_type": "markdown",
   "id": "1f9e4fae",
   "metadata": {},
   "source": [
    "Decompose those into cycles. We can use the Python package for symbolic computation, `sympy`.\n",
    "If you need to install it, just `pip install sympy`."
   ]
  },
  {
   "cell_type": "code",
   "execution_count": null,
   "id": "b8e5c669",
   "metadata": {},
   "outputs": [],
   "source": [
    "from sympy.combinatorics import Permutation as perm\n",
    "for permutation in permutations(range(n)):\n",
    "    print(perm(permutation).full_cyclic_form)"
   ]
  },
  {
   "cell_type": "markdown",
   "id": "9eddf89f",
   "metadata": {},
   "source": [
    "Turn these indices back into the floats they represent."
   ]
  },
  {
   "cell_type": "code",
   "execution_count": null,
   "id": "7f8637af",
   "metadata": {},
   "outputs": [],
   "source": [
    "def to_floats(cycle): # turn a cycle into corresponding floats\n",
    "    return [rnds[elem] for elem in cycle]\n",
    "def cycles_to_floats(cycles): # turn a permutation in cycle-list notation back into floats\n",
    "    return [to_floats(cycle) for cycle in cycles]\n",
    "for permutation in permutations(range(n)): # map each cycle list to a list of lists of floats\n",
    "    float_cycles = cycles_to_floats(perm(permutation).full_cyclic_form)\n",
    "    print(float_cycles)"
   ]
  },
  {
   "cell_type": "markdown",
   "id": "a54a97d0",
   "metadata": {},
   "source": [
    "Every list of random floats has exactly one circular permutation that's a trend.\n",
    "Rotate each cycle to that trend."
   ]
  },
  {
   "cell_type": "code",
   "execution_count": null,
   "id": "ad69f523",
   "metadata": {},
   "outputs": [],
   "source": [
    "from trendlist.simple import is_trend\n",
    "def rotate_to_trend(floats):  # rotate a list of floats to a single trend\n",
    "    while not is_trend(floats):\n",
    "        floats = floats[1:] + floats[:1]  # rotate the list one element\n",
    "    return floats\n",
    "def to_trends(float_cycles): # rotate each list in the list of lists to its trend order\n",
    "    return [rotate_to_trend(float_cycle) for float_cycle in float_cycles]\n",
    "for permutation in permutations(range(n)):\n",
    "    float_cycles = cycles_to_floats(perm(permutation).full_cyclic_form)\n",
    "    print(to_trends(float_cycles))\n"
   ]
  },
  {
   "cell_type": "markdown",
   "id": "38f61696",
   "metadata": {},
   "source": [
    "Finally, we know that in a trendlist, the means decrease monotonically."
   ]
  },
  {
   "cell_type": "code",
   "execution_count": null,
   "id": "7fdbf10e",
   "metadata": {},
   "outputs": [],
   "source": [
    "from statistics import mean\n",
    "\n",
    "def to_trendlist(permutation):  # map a permutation to a trendlist\n",
    "    float_cycles = cycles_to_floats(perm(permutation).full_cyclic_form)\n",
    "    return sorted(to_trends(float_cycles), key=mean, reverse=True)\n",
    "    \n",
    "for permutation in permutations(range(n)):\n",
    "    print(f\"{permutation} -> {to_trendlist(permutation)}\")"
   ]
  },
  {
   "cell_type": "markdown",
   "id": "c4271872",
   "metadata": {},
   "source": [
    "To review, for a long list of random floats,\n",
    "\n",
    "* replace the floats by their indices\n",
    "* treat the list of integers as a permutation and decompose it into cycles\n",
    "* turn the indices back into floats\n",
    "* rotate each cycle into a trend\n",
    "* sort the trends by their means, in decreasing order\n",
    "\n",
    "Collect all these into a single functionand then maps permutations on $S_n$ into trendlists, here:\n",
    "\n",
    "This maps the list of all permutations on ${1..n}, S_n$, uniquely into trendlists. The steps are easy to run in reverse, and you can give it a try, here:"
   ]
  },
  {
   "cell_type": "code",
   "execution_count": null,
   "id": "9d25fbcc",
   "metadata": {},
   "outputs": [],
   "source": []
  },
  {
   "cell_type": "markdown",
   "id": "195c0358",
   "metadata": {},
   "source": [
    "## Statistics of Permutations"
   ]
  },
  {
   "cell_type": "markdown",
   "id": "b0fa7790",
   "metadata": {},
   "source": [
    "### \"It is better to look good than to feel good.\" – Billy Crystal as Fernando Lamas"
   ]
  },
  {
   "cell_type": "markdown",
   "id": "e67eb28f",
   "metadata": {},
   "source": [
    "We'll begin by creating a couple of utility methods for printing text.\n",
    "Here's how to print text in bold and in normal."
   ]
  },
  {
   "cell_type": "code",
   "execution_count": null,
   "id": "f1c9cb94",
   "metadata": {
    "scrolled": true
   },
   "outputs": [],
   "source": [
    "print('\\x1b[1m' + \"hello\" + '\\x1b[0m' + \"world\")"
   ]
  },
  {
   "cell_type": "markdown",
   "id": "60fd029d",
   "metadata": {},
   "source": [
    "Here is a routine that encapsulates that."
   ]
  },
  {
   "cell_type": "code",
   "execution_count": null,
   "id": "b003b366",
   "metadata": {
    "scrolled": true
   },
   "outputs": [],
   "source": [
    "def c_print(s, reverse = False):\n",
    "    ansi = \"\\x1b[1m\" if reverse else \"\\x1b[0m\"\n",
    "    print(f\"{ansi}{s}\", end = \"\")\n",
    "c_print(\"hello to \")\n",
    "c_print(\"all \", reverse=True)\n",
    "c_print(\"the world\")"
   ]
  },
  {
   "cell_type": "markdown",
   "id": "3b01e330",
   "metadata": {},
   "source": [
    "Next, let's print every *other* cycle in a list of cycles in bold."
   ]
  },
  {
   "cell_type": "code",
   "execution_count": null,
   "id": "e3ef9270",
   "metadata": {},
   "outputs": [],
   "source": [
    "def print_cycles(cycles):\n",
    "    for n, cycle in enumerate(cycles):\n",
    "        c_print(cycle, reverse = n%2)\n",
    "    c_print(\"\\n\")  # reset to normal\n",
    "\n",
    "print_cycles([[1, 2], [3,4], [5, 6], [7, 8]])\n",
    "print(\"hello\")"
   ]
  },
  {
   "cell_type": "markdown",
   "id": "e82f8a15",
   "metadata": {},
   "source": [
    "This will prove useful shortly, but first let's go back to permutations."
   ]
  },
  {
   "cell_type": "markdown",
   "id": "6c71ba33",
   "metadata": {},
   "source": [
    "## Generating All Permutations"
   ]
  },
  {
   "cell_type": "markdown",
   "id": "db69c215",
   "metadata": {},
   "source": [
    "First, let's generate all permutations of a set with the standard library module $itertools$."
   ]
  },
  {
   "cell_type": "code",
   "execution_count": null,
   "id": "769a5f5d",
   "metadata": {},
   "outputs": [],
   "source": [
    "from itertools import permutations\n",
    "for permutation in permutations({1, 2, 3}):  # all permutations of {1, 2, 3}\n",
    "    print(permutation)"
   ]
  },
  {
   "cell_type": "markdown",
   "id": "2304eb31",
   "metadata": {},
   "source": [
    "Next, we'll use *sympy.combinatorics* to decompose a permutation into cycles."
   ]
  },
  {
   "cell_type": "code",
   "execution_count": null,
   "id": "7602b42d",
   "metadata": {},
   "outputs": [],
   "source": [
    "from sympy.combinatorics import Permutation as perm # break a single permutation into cycles\n",
    "perm((0, 1, 3, 2)).full_cyclic_form"
   ]
  },
  {
   "cell_type": "markdown",
   "id": "981f10da",
   "metadata": {},
   "source": [
    "This pair lets us decompose all permutions of a set into cycles."
   ]
  },
  {
   "cell_type": "code",
   "execution_count": null,
   "id": "c38905fe",
   "metadata": {},
   "outputs": [],
   "source": [
    "for permutation in permutations(range(3)):  # put those two together\n",
    "    print(perm(permutation).full_cyclic_form)"
   ]
  },
  {
   "cell_type": "markdown",
   "id": "74792083",
   "metadata": {},
   "source": [
    "If we just collect all those cycles into one, giant list, we can ask questions about every cycle in all permutations."
   ]
  },
  {
   "cell_type": "code",
   "execution_count": null,
   "id": "c16b9854",
   "metadata": {},
   "outputs": [],
   "source": [
    "# next, collect all cycles, over all permutations\n",
    "\n",
    "all_cycles = []\n",
    "for permutation in permutations(range(3)):\n",
    "    all_cycles.extend(perm(permutation).full_cyclic_form)\n",
    "all_cycles"
   ]
  },
  {
   "cell_type": "markdown",
   "id": "474e52f4",
   "metadata": {},
   "source": [
    "That's a bit hard-to-read, so let's group them by cycle length."
   ]
  },
  {
   "cell_type": "code",
   "execution_count": null,
   "id": "a2aa939c",
   "metadata": {},
   "outputs": [],
   "source": [
    "cycles_by_length = {}  # next, group those by length: all length-1 cycles, all length-2, etc.\n",
    "for length in (range(1, 4)):\n",
    "    cycles_by_length[length] = sorted([cycle for cycle in all_cycles if len(cycle) == length])\n",
    "cycles_by_length"
   ]
  },
  {
   "cell_type": "markdown",
   "id": "9ea0237d",
   "metadata": {},
   "source": [
    "Finally, let's squeeze out all the air in each line, removing the commas, spaces, and square and curly brackets. We can separate adjacent trends by printing them in different weights by using the *print_cycles()* routine we defined earlier."
   ]
  },
  {
   "cell_type": "code",
   "execution_count": null,
   "id": "c8042ec9",
   "metadata": {
    "scrolled": true
   },
   "outputs": [],
   "source": [
    "# now pretty-print them by length, with all the meta-characters squeezed out\n",
    "# switch boldness to highlight each new cycle\n",
    "for length, list in cycles_by_length.items():\n",
    "    print_cycles([\"\".join(map(str, cycle)) for cycle in list])"
   ]
  },
  {
   "cell_type": "markdown",
   "id": "b9d3f15c",
   "metadata": {},
   "source": [
    "That was at least easy, but let's collect all the routines above into functions\n",
    "and see what if it might tell us anything."
   ]
  },
  {
   "cell_type": "code",
   "execution_count": null,
   "id": "0bedb106",
   "metadata": {},
   "outputs": [],
   "source": [
    "# putting it all together\n",
    "def all_cycles(n):\n",
    "    all_cycles = []\n",
    "    for permutation in permutations(range(n)):\n",
    "        all_cycles.extend(perm(permutation).full_cyclic_form)\n",
    "    return all_cycles\n",
    "\n",
    "def cycles_by_length(n):\n",
    "    cycles = all_cycles(n)\n",
    "    cycles_by_length = {}\n",
    "    for length in (range(1, n+1)):\n",
    "        cycles_by_length[length] = sorted([cycle for cycle in cycles if len(cycle) == length])\n",
    "    return cycles_by_length\n",
    "\n",
    "def cycle_block(n):\n",
    "    cycle_block = []\n",
    "    cbl = cycles_by_length(n)\n",
    "    for length, list in cbl.items():\n",
    "        cycle_block.append([\"\".join(map(str, cycle)) for cycle in list])\n",
    "    return cycle_block\n",
    "\n",
    "for cycle_length in cycle_block(4):\n",
    "    print_cycles(cycle_length)"
   ]
  },
  {
   "cell_type": "markdown",
   "id": "9cf80d3f",
   "metadata": {},
   "source": [
    "Oh! For both $n = 3$ and $n = 4$, the rows are all the same length.\n",
    "Is that true for smaller $n$?"
   ]
  },
  {
   "cell_type": "code",
   "execution_count": null,
   "id": "0e7969f7",
   "metadata": {
    "scrolled": true
   },
   "outputs": [],
   "source": [
    "for cycle_length in cycle_block(2):\n",
    "    print_cycles(cycle_length)"
   ]
  },
  {
   "cell_type": "markdown",
   "id": "4d1459a1",
   "metadata": {},
   "source": [
    "(These look similar, but the first line is two cycles, each length one, which fix the two elements,\n",
    "while the second is a single cycle of length two, which exchanges the two elements.)"
   ]
  },
  {
   "cell_type": "markdown",
   "id": "6f04fc00",
   "metadata": {},
   "source": [
    "Longer $n$?  The lines are so long they won't fit cleanly onto all screens, but you can still see the rows line up: they're the same length."
   ]
  },
  {
   "cell_type": "code",
   "execution_count": null,
   "id": "e441ff81",
   "metadata": {
    "scrolled": true
   },
   "outputs": [],
   "source": [
    "for cycle_length in cycle_block(5):\n",
    "    print_cycles(cycle_length)"
   ]
  },
  {
   "cell_type": "markdown",
   "id": "e15219f9",
   "metadata": {},
   "source": [
    "Here's a conjecture:\n",
    "\n",
    "In a cycle block made from all permutations of a sequence of length N,\n",
    "\n",
    "1. There are $N$ lines.\n",
    "1. There are $N*N!$ elements in all the cycles.\n",
    "1. Each line is the same length: N!"
   ]
  },
  {
   "cell_type": "markdown",
   "id": "fe727296",
   "metadata": {},
   "source": [
    "The first isn't surprising. For example, for sequences of length $8$, the permutation $(0, 1, 2, 3, 4, 5, 6, 7)$ has cycles $[[0],[1],[2],...[7]]$ -- all length $1$ -- while $(1, 2, 3, 4, 5, 6, 7, 0)$ has the single, $8$-long cycle $[[0, 1, 2, 3, 4, 5, 6, 7]]$.\n",
    "\n",
    "It's trivial to construct permutations that have any cycle length in between. Try it yourself."
   ]
  },
  {
   "cell_type": "markdown",
   "id": "aeae9fe5",
   "metadata": {},
   "source": [
    "The second of these also makes sense. The total number of elements in all the cycles \n",
    "is the total number of elements in all permutations. \n",
    "For sequences of length 8, there are 8! permutations, and each permutation has 8 elements:\n",
    "$(0, 1, ..., 6, 7), (0, 1, ..., 7, 6), ...$\n",
    "A sequence of length $N$ has $N!$ permutations, each one with $N$ elements"
   ]
  },
  {
   "cell_type": "markdown",
   "id": "29dd05d0",
   "metadata": {},
   "source": [
    "The most remarkable is the third. Let's defer proving that for a moment\n",
    "and look at some consequences.\n",
    "\n",
    "1. There are $n!/k$ cycles of length $k$.\n",
    "2. On average, there are $1/k$ cycles of length $k$ in each permutation.\n",
    "\n",
    "For example, on average, every permutation has one cycle of length 1.\n",
    "\n",
    "3. The total number of cycles in all permutations\n",
    "is $\\sum_1^n{n!/k}$ = n!$\\sum_1^n{1/k} = n!H_n$,\n",
    "where $H_n$ is the n-th harmonic number: $1 + 1/2 + 1/3 + ... + 1/N$\n",
    "4. The average number of cycles in the $n!$ permutations is $n!H_n/n! = H_n$.\n",
    "5. The average number of cycles is about the log of the sequence length, because $lim_{n->\\infty}{(H_n-ln(n))} = \\gamma$,\n",
    "where $\\gamma = 0.57721...$ is the Euler-Mascharoni constant.\n",
    "\n",
    "This isn't shocking. You probably remember that $\\int_0^n{(1/x)}dx = ln(n)$ \n",
    "\n",
    "6. The average length of a cycle is $n/H_n \\approx n/ln(n)$\n",
    "7. The expected number of cycles longer than $k$ is \n",
    "$\\approx (ln(n) - ln(k)) = ln(n/k)$\n"
   ]
  },
  {
   "cell_type": "markdown",
   "id": "1ec6b782",
   "metadata": {},
   "source": [
    "Picturing the easy-to-visualize cycle block in your head, leads to each of these points right away."
   ]
  },
  {
   "cell_type": "markdown",
   "id": "3e7829ad",
   "metadata": {},
   "source": [
    "For 1-6 above, if you substitute *trend* for *cycle*, the statements should still hold."
   ]
  },
  {
   "cell_type": "markdown",
   "id": "c2a073c7",
   "metadata": {},
   "source": [
    "## \"What Would You Pay? But Wait ... There's More!\" – Ronald Popile"
   ]
  },
  {
   "cell_type": "markdown",
   "id": "73c845f8",
   "metadata": {},
   "source": [
    "Another number to know, to help build up a better picture of typical trend decompositions, is the average *longest* trend.\n",
    "\n",
    "Again, just looking it up, we learn that the average longest permutation is nearly two-thirds the length of the sequence. The actual expected length of the longest trend is $\\lambda*N$, where N is the length of the sequence\n",
    "and $\\lambda = 0.62432998854355087099293638310083724\\dots$ is the *Golomb-Dickman* constant."
   ]
  },
  {
   "cell_type": "markdown",
   "id": "4c3d2e85",
   "metadata": {},
   "source": [
    "Like $\\pi$, $e$, $\\gamma$, and other odd, named constants, the Golomb-Dickman constant appears hither and yon, without warning, in all manner of formulae. You can read more about it in Wikipedia."
   ]
  },
  {
   "cell_type": "markdown",
   "id": "2a786c16",
   "metadata": {},
   "source": [
    "A typical sequence of length 25,000 long has around ten trends, with a single, long trend, near the middle, making up about 2/3 of the sequence. It has about 16,000 elements, flanked by 4 or 5 small trends on either side, less than 1,000 long apiece.\n",
    "\n",
    "I find it's easier to keep this picture in my head by thinking about this as the days of an average, 70-year life.\n",
    "\n",
    "A completely random, 70-year lifespan would have, on average, four or five, two-to-four year trends up until the start of puberty, followed by quite a long stretch, in which things are getting better, on average, every day, until about age 55. In the remaining 15 years, you'd expect to see another four or five, two-to-four year trends."
   ]
  },
  {
   "cell_type": "markdown",
   "id": "8228b1e7",
   "metadata": {},
   "source": [
    "You can find a lot more about the statistics of random permutations -- identical to the statistics of trends -- on the valves and tubes of the interwebs."
   ]
  },
  {
   "cell_type": "markdown",
   "id": "8d566451",
   "metadata": {},
   "source": [
    "## Every Line in the Cycle Block Is the Same Length"
   ]
  },
  {
   "cell_type": "markdown",
   "id": "06830fa8",
   "metadata": {},
   "source": [
    "Let's now go back and show that each line is the same length.\n",
    "There are lots of ways to skin this cat. We'll try one that just uses counting."
   ]
  },
  {
   "cell_type": "markdown",
   "id": "11adc88d",
   "metadata": {},
   "source": [
    "Start with an example.\n",
    "How many cycles are $(0)$? That is, how many permutations out of $n!$ map $0$ to itself?\n",
    "\n",
    "In math-speak, this is called \"fixing 0.\" This may make you nervous already, since that's a use of the word \"fix\" akin to the one in the sentence, \"I just got my cat fixed,\" where \"fixed\" really means \"broken.\" Stick with us. Keep telling yourself, like Sir Galahad, [\"My strength is as the strength of ten because my heart is pure.\"](https://en.wikisource.org/wiki/Page:Poems_that_every_child_should_know_(ed._Burt,_1904).djvu/291)\n",
    "\n",
    "\n",
    "In permutations that fix $0$, the rest of the numbers, ${1,..,n-1}$ can map to anything, including themselves, so there are exactly $(n-1)!$ instances of $(0)$ in our collection.\n",
    "\n",
    "Of course, $0$ isn't special, so there are also $(n-1)!$ instances of $(1)$, and every other digit, right up to $(n-1)!$ instances of $(n)$.  Some of these will occur in the same permutations, but we don't care, we're just counting the number that fix $k$, for each $0 <= k <= n-1$\n",
    "\n",
    "In other words, there are exactly $n*(n-1)! = n!$ cycles of length $1$ The first row of our cycle block has length $n!$"
   ]
  },
  {
   "cell_type": "markdown",
   "id": "8c838cd4",
   "metadata": {},
   "source": [
    "How about the second row?\n",
    "Let's count every permutation that contains the cycle $(0, 1)$ –\n",
    "every permutation that happens to swap $0$ with $1$.\n",
    "\n",
    "If we ignore those two for a second, there are $(n-2)!$ ways to permute the remaining $(n-2)$ digits, so there are $(n-2)!$ instances of the cycle $(0, 1)$.\n",
    "\n",
    "Again, $(0, 1)$ isn't special, so there are also $(n-2)!$ instances of $(0, 3), (0, 4), ...(n-1, n)$  Since there are $n \\choose 2$ different cycles of length $2$, there are ${n \\choose 2}*(n-2)! = (n*(n-1)/2)*(n-2)! = n!/2$ cycles of length 2.  The second row in our cycle block also has length $n!$\n"
   ]
  },
  {
   "cell_type": "markdown",
   "id": "8ec3ad7e",
   "metadata": {},
   "source": [
    "The $k$th row has cycles of length $k$. The first of these is $(0, .. k-1)$. \n",
    "Reasoning the same way, there are exactly $(n-k)!$ of these.\n",
    "\n",
    "Here comes a tiny twist:\n",
    "\n",
    "If you think about all permutations of ${0, 1, 2, 3}$,\n",
    "we've been talking about the cycle $(0, 1, 2)$. There are $(n-2)! = 2! = 2$ of these.\n",
    "Before moving on to 3-cycles containing other numbers, \n",
    "let's pause, and count all instances of $(0, 2, 1)$, which is a different cycle!\n",
    "There are 2 of these, too.\n"
   ]
  },
  {
   "cell_type": "markdown",
   "id": "06187e59",
   "metadata": {},
   "source": [
    "In general, there are $n \\choose k$ ways to choose numbers for a $k$-cycle, \n",
    "but $(k-1)!$ different ways to arrange those numbers into a $k$-cycle.\n",
    "And each of those will occur $(n-k)!$ times.\n"
   ]
  },
  {
   "cell_type": "markdown",
   "id": "af31f2a9",
   "metadata": {},
   "source": [
    "So, how long is the $k$th row? (Number of ways to pick a set of $k$)$*$(Number of cycles you can make with those $k$)$*$(Number of permutations of the $(n-k)$ you didn't pick)$*$(Length of the cycle) = ${n \\choose k} * (k-1)! * (n-k)! * k = (n!/k!(n-k)!) * k! * (n-k)! = n!$"
   ]
  },
  {
   "cell_type": "markdown",
   "id": "581e8388",
   "metadata": {},
   "source": [
    "Voila!  Or, as Euclid used to say, *\"ὅπερ ἔδει δεῖξαι\"*"
   ]
  },
  {
   "cell_type": "markdown",
   "id": "13b65149",
   "metadata": {},
   "source": [
    "If your tastes run to proofs with functors, bivariate generating functions, and partial derivatives, you can find one at [The n-Category Café.](https://golem.ph.utexas.edu/category/2019/11/random_permutations_part_5.html)"
   ]
  },
  {
   "cell_type": "code",
   "execution_count": null,
   "id": "d2442115",
   "metadata": {},
   "outputs": [],
   "source": []
  }
 ],
 "metadata": {
  "kernelspec": {
   "display_name": "Python 3 (ipykernel)",
   "language": "python",
   "name": "python3"
  },
  "language_info": {
   "codemirror_mode": {
    "name": "ipython",
    "version": 3
   },
   "file_extension": ".py",
   "mimetype": "text/x-python",
   "name": "python",
   "nbconvert_exporter": "python",
   "pygments_lexer": "ipython3",
   "version": "3.11.0"
  }
 },
 "nbformat": 4,
 "nbformat_minor": 5
}
