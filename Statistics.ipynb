{
 "cells": [
  {
   "cell_type": "markdown",
   "id": "a05c8db3",
   "metadata": {},
   "source": [
    "# Statistics of Permutation Cycles"
   ]
  },
  {
   "cell_type": "markdown",
   "id": "e67eb28f",
   "metadata": {},
   "source": [
    "We've shown that trends map, 1-1, to permutation cycles for sequences of length $N$.\n",
    "\n",
    "Because the statistics of permutation cycles is well-studied, and because the statistics of permutation cycles can be easier to reason about than the statistics of trends, let's spend a few moments looking at permutations.\n",
    "\n",
    "We'll begin by creating a couple of utility methods for printing text.\n",
    "Here's how to print text in bold and in normal."
   ]
  },
  {
   "cell_type": "code",
   "execution_count": null,
   "id": "f1c9cb94",
   "metadata": {
    "scrolled": true
   },
   "outputs": [],
   "source": [
    "print('\\x1b[1m' + \"hello\" + '\\x1b[0m' + \"world\")"
   ]
  },
  {
   "cell_type": "markdown",
   "id": "60fd029d",
   "metadata": {},
   "source": [
    "Here is a routine that encapsulates that."
   ]
  },
  {
   "cell_type": "code",
   "execution_count": null,
   "id": "b003b366",
   "metadata": {
    "scrolled": true
   },
   "outputs": [],
   "source": [
    "def c_print(s, reverse = False):\n",
    "    ansi = \"\\x1b[1m\" if reverse else \"\\x1b[0m\"\n",
    "    print(f\"{ansi}{s}\", end = \"\")\n",
    "c_print(\"hello to \")\n",
    "c_print(\"all \", reverse=True)\n",
    "c_print(\"the world\")"
   ]
  },
  {
   "cell_type": "markdown",
   "id": "3b01e330",
   "metadata": {},
   "source": [
    "Next, let's print every *other* cycle in a list of cycles in bold."
   ]
  },
  {
   "cell_type": "code",
   "execution_count": null,
   "id": "e3ef9270",
   "metadata": {},
   "outputs": [],
   "source": [
    "def print_cycles(cycles):\n",
    "    for n, cycle in enumerate(cycles):\n",
    "        c_print(cycle, reverse = n%2)\n",
    "    c_print(\"\\n\")  # reset to normal\n",
    "\n",
    "print_cycles([[1, 2], [3,4], [5, 6], [7, 8]])\n",
    "print(\"hello\")"
   ]
  },
  {
   "cell_type": "markdown",
   "id": "e82f8a15",
   "metadata": {},
   "source": [
    "This will prove useful shortly, but first let's go back to permutations."
   ]
  },
  {
   "cell_type": "markdown",
   "id": "6c71ba33",
   "metadata": {},
   "source": [
    "## Generating All Permutations"
   ]
  },
  {
   "cell_type": "markdown",
   "id": "db69c215",
   "metadata": {},
   "source": [
    "First, let's generate all permutations of a set with the standard library module $itertools$."
   ]
  },
  {
   "cell_type": "code",
   "execution_count": null,
   "id": "769a5f5d",
   "metadata": {},
   "outputs": [],
   "source": [
    "from itertools import permutations\n",
    "for permutation in permutations({1, 2, 3}):  # all permutations of {1, 2, 3}\n",
    "    print(permutation)"
   ]
  },
  {
   "cell_type": "markdown",
   "id": "2304eb31",
   "metadata": {},
   "source": [
    "Next, we'll use *sympy.combinatorics* to decompose a permutation into cycles."
   ]
  },
  {
   "cell_type": "code",
   "execution_count": null,
   "id": "7602b42d",
   "metadata": {},
   "outputs": [],
   "source": [
    "from sympy.combinatorics import Permutation as perm # break a single permutation into cycles\n",
    "perm((0, 1, 3, 2)).full_cyclic_form"
   ]
  },
  {
   "cell_type": "markdown",
   "id": "981f10da",
   "metadata": {},
   "source": [
    "This pair lets us decompose all permutions of a set into cycles."
   ]
  },
  {
   "cell_type": "code",
   "execution_count": null,
   "id": "c38905fe",
   "metadata": {},
   "outputs": [],
   "source": [
    "for permutation in permutations(range(3)):  # put those two together\n",
    "    print(perm(permutation).full_cyclic_form)"
   ]
  },
  {
   "cell_type": "markdown",
   "id": "74792083",
   "metadata": {},
   "source": [
    "If we just collect all those cycles into one, giant list, we can ask questions about every cycle in all permutations."
   ]
  },
  {
   "cell_type": "code",
   "execution_count": null,
   "id": "c16b9854",
   "metadata": {},
   "outputs": [],
   "source": [
    "# next, collect all cycles, over all permutations\n",
    "\n",
    "all_cycles = []\n",
    "for permutation in permutations(range(3)):\n",
    "    all_cycles.extend(perm(permutation).full_cyclic_form)\n",
    "all_cycles"
   ]
  },
  {
   "cell_type": "markdown",
   "id": "474e52f4",
   "metadata": {},
   "source": [
    "That's a bit hard-to-read, so let's group them by cycle length."
   ]
  },
  {
   "cell_type": "code",
   "execution_count": null,
   "id": "a2aa939c",
   "metadata": {},
   "outputs": [],
   "source": [
    "cycles_by_length = {}  # next, group those by length: all length-1 cycles, all length-2, etc.\n",
    "for length in (range(1, 4)):\n",
    "    cycles_by_length[length] = sorted([cycle for cycle in all_cycles if len(cycle) == length])\n",
    "cycles_by_length"
   ]
  },
  {
   "cell_type": "markdown",
   "id": "9ea0237d",
   "metadata": {},
   "source": [
    "Finally, let's squeeze out all the air in each line, removing the commas, spaces, and square and curly brackets. We can separate adjacent trends by printing them in different weights by using the *print_cycles()* routine we defined earlier."
   ]
  },
  {
   "cell_type": "code",
   "execution_count": null,
   "id": "c8042ec9",
   "metadata": {
    "scrolled": true
   },
   "outputs": [],
   "source": [
    "# now pretty-print them by length, with all the meta-characters squeezed out\n",
    "# switch boldness to highlight each new cycle\n",
    "for length, list in cycles_by_length.items():\n",
    "    print_cycles([\"\".join(map(str, cycle)) for cycle in list])"
   ]
  },
  {
   "cell_type": "markdown",
   "id": "b9d3f15c",
   "metadata": {},
   "source": [
    "That was at least easy, but let's collect all the routines above into functions\n",
    "and see what if it might tell us anything."
   ]
  },
  {
   "cell_type": "code",
   "execution_count": null,
   "id": "0bedb106",
   "metadata": {},
   "outputs": [],
   "source": [
    "# putting it all together\n",
    "def all_cycles(n):\n",
    "    all_cycles = []\n",
    "    for permutation in permutations(range(n)):\n",
    "        all_cycles.extend(perm(permutation).full_cyclic_form)\n",
    "    return all_cycles\n",
    "\n",
    "def cycles_by_length(n):\n",
    "    cycles = all_cycles(n)\n",
    "    cycles_by_length = {}\n",
    "    for length in (range(1, n+1)):\n",
    "        cycles_by_length[length] = sorted([cycle for cycle in cycles if len(cycle) == length])\n",
    "    return cycles_by_length\n",
    "\n",
    "def cycle_block(n):\n",
    "    cycle_block = []\n",
    "    cbl = cycles_by_length(n)\n",
    "    for length, list in cbl.items():\n",
    "        cycle_block.append([\"\".join(map(str, cycle)) for cycle in list])\n",
    "    return cycle_block\n",
    "\n",
    "for cycle_length in cycle_block(4):\n",
    "    print_cycles(cycle_length)"
   ]
  },
  {
   "cell_type": "markdown",
   "id": "9cf80d3f",
   "metadata": {},
   "source": [
    "Oh! For both $n = 3$ and $n = 4$, the rows are all the same length.\n",
    "Is that true for smaller $n$?"
   ]
  },
  {
   "cell_type": "code",
   "execution_count": null,
   "id": "0e7969f7",
   "metadata": {
    "scrolled": true
   },
   "outputs": [],
   "source": [
    "for cycle_length in cycle_block(2):\n",
    "    print_cycles(cycle_length)"
   ]
  },
  {
   "cell_type": "markdown",
   "id": "4d1459a1",
   "metadata": {},
   "source": [
    "(These look similar, but the first line is two cycles, each length one, which fix the two elements,\n",
    "while the second is a single cycle of length two, which exchanges the two elements.)"
   ]
  },
  {
   "cell_type": "markdown",
   "id": "6f04fc00",
   "metadata": {},
   "source": [
    "Longer $n$?  The lines are so long they won't fit cleanly onto all screens, but you can still see the rows line up: they're the same length."
   ]
  },
  {
   "cell_type": "code",
   "execution_count": null,
   "id": "e441ff81",
   "metadata": {
    "scrolled": true
   },
   "outputs": [],
   "source": [
    "for cycle_length in cycle_block(5):\n",
    "    print_cycles(cycle_length)"
   ]
  },
  {
   "cell_type": "markdown",
   "id": "e15219f9",
   "metadata": {},
   "source": [
    "Here's a conjecture:\n",
    "\n",
    "In a cycle block made from all permutations of a sequence of length N,\n",
    "\n",
    "1. There are $N$ lines.\n",
    "1. There are $N*N!$ elements in all the cycles.\n",
    "1. Each line is the same length: N!"
   ]
  },
  {
   "cell_type": "markdown",
   "id": "fe727296",
   "metadata": {},
   "source": [
    "The first isn't surprising. For example, for sequences of length $8$, the permutation $(0, 1, 2, 3, 4, 5, 6, 7)$ has cycles $[[0],[1],[2],...[7]]$ -- all length $1$ -- while $(1, 2, 3, 4, 5, 6, 7, 0)$ has the single, $8$-long cycle $[[0, 1, 2, 3, 4, 5, 6, 7]]$.\n",
    "\n",
    "It's trivial to construct permutations that have any cycle length in between. Try it yourself."
   ]
  },
  {
   "cell_type": "markdown",
   "id": "aeae9fe5",
   "metadata": {},
   "source": [
    "The second of these also makes sense. The total number of elements in all the cycles \n",
    "is the total number of elements in all permutations. \n",
    "For sequences of length 8, there are 8! permutations, and each permutation has 8 elements:\n",
    "$(0, 1, ..., 6, 7), (0, 1, ..., 7, 6), ...$\n",
    "A sequence of length $N$ has $N!$ permutations, each one with $N$ elements"
   ]
  },
  {
   "cell_type": "markdown",
   "id": "29dd05d0",
   "metadata": {},
   "source": [
    "The most remarkable is the third. Let's defer proving that for a moment\n",
    "and look at some consequences.\n",
    "\n",
    "1. There are $n!/k$ cycles of length $k$.\n",
    "2. On average, there are $1/k$ cycles of length $k$ in each permutation.\n",
    "\n",
    "For example, on average, every permutation has one cycle of length 1.\n",
    "\n",
    "3. The total number of cycles in all permutations\n",
    "is $\\sum_1^n{n!/k}$ = n!$\\sum_1^n{1/k} = n!H_n$,\n",
    "where $H_n$ is the n-th harmonic number: $1 + 1/2 + 1/3 + ... + 1/N$\n",
    "4. The average number of cycles in the $n!$ permutations is $n!H_n/n! = H_n$.\n",
    "5. The average number of cycles is about the log of the sequence length, because $lim_{n->\\infty}{(H_n-ln(n))} = \\gamma$,\n",
    "where $\\gamma = 0.57721...$ is the Euler-Mascharoni constant.\n",
    "\n",
    "This isn't shocking. You probably remember that $\\int_0^n{(1/x)}dx = ln(n)$ \n",
    "\n",
    "6. The average length of a cycle is $n/H_n \\approx n/ln(n)$\n",
    "7. The expected number of cycles longer than $k$ is \n",
    "$P(cycle > k) \\approx ln(n) - ln(k) = ln(n/k)$\n"
   ]
  },
  {
   "cell_type": "markdown",
   "id": "1ec6b782",
   "metadata": {},
   "source": [
    "Picturing the easy-to-visualize cycle block in your head, leads to each of these points right away."
   ]
  },
  {
   "cell_type": "markdown",
   "id": "3e7829ad",
   "metadata": {},
   "source": [
    "For 1-6 above, if you substitute *trend* for *cycle*, the statements should still hold."
   ]
  }
 ],
 "metadata": {
  "kernelspec": {
   "display_name": "Python 3 (ipykernel)",
   "language": "python",
   "name": "python3"
  },
  "language_info": {
   "codemirror_mode": {
    "name": "ipython",
    "version": 3
   },
   "file_extension": ".py",
   "mimetype": "text/x-python",
   "name": "python",
   "nbconvert_exporter": "python",
   "pygments_lexer": "ipython3",
   "version": "3.9.6"
  }
 },
 "nbformat": 4,
 "nbformat_minor": 5
}
